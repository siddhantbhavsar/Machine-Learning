{
 "cells": [
  {
   "cell_type": "code",
   "execution_count": 1,
   "metadata": {
    "scrolled": true
   },
   "outputs": [],
   "source": [
    "import pandas as pd\n",
    "import config_prod as config\n",
    "#import json\n",
    "from datetime import date, timedelta\n",
    "import phood_api\n",
    "import weeklymain"
   ]
  },
  {
   "cell_type": "code",
   "execution_count": 2,
   "metadata": {},
   "outputs": [],
   "source": [
    "raw = pd.DataFrame(weeklymain.masterlist) "
   ]
  },
  {
   "cell_type": "code",
   "execution_count": 3,
   "metadata": {},
   "outputs": [],
   "source": [
    "rawfile=raw"
   ]
  },
  {
   "cell_type": "code",
   "execution_count": 4,
   "metadata": {},
   "outputs": [],
   "source": [
    "raw.columns = ['Date_Produced', 'Log_ID', 'Item_Name', 'Item_Type', 'PLU', 'Logged_Time', 'Meal', 'Action_Taken', 'Action_Reason', 'Quantity', 'Pan_ID', 'Pan_Weight', 'Unit', 'Station', 'Employee_Name','imageId', 'Location_ID','Location', 'Served','Saved','Sold','Shrink']"
   ]
  },
  {
   "cell_type": "code",
   "execution_count": 5,
   "metadata": {},
   "outputs": [],
   "source": [
    "import pandas_profiling\n",
    "#pandas_profiling.ProfileReport(raw)"
   ]
  },
  {
   "cell_type": "markdown",
   "metadata": {},
   "source": [
    "## Remove Unit, Meal, Item Type, Employee Name columns"
   ]
  },
  {
   "cell_type": "code",
   "execution_count": 6,
   "metadata": {},
   "outputs": [],
   "source": [
    "raw = raw.drop(columns=['Unit','Meal','Item_Type','Employee_Name'])"
   ]
  },
  {
   "cell_type": "code",
   "execution_count": 7,
   "metadata": {},
   "outputs": [],
   "source": [
    "raw['Date_Produced'] = pd.to_datetime(raw['Date_Produced'])\n",
    "raw['Logged_Time'] = pd.to_datetime(raw['Logged_Time'])"
   ]
  },
  {
   "cell_type": "code",
   "execution_count": 8,
   "metadata": {},
   "outputs": [],
   "source": [
    "raw['Logged_Date'] = raw['Logged_Time'].dt.date\n",
    "#raw['Logged_Time'] = raw['Logged_Time'].dt.time"
   ]
  },
  {
   "cell_type": "code",
   "execution_count": 9,
   "metadata": {},
   "outputs": [],
   "source": [
    "raw['Actual_Weight'] = raw['Quantity'] - raw['Pan_Weight']"
   ]
  },
  {
   "cell_type": "code",
   "execution_count": 10,
   "metadata": {},
   "outputs": [],
   "source": [
    "raw = raw.drop(columns=['Log_ID','Date_Produced','Logged_Time','Action_Taken','Action_Reason','Pan_ID','Pan_Weight','imageId'])"
   ]
  },
  {
   "cell_type": "code",
   "execution_count": 11,
   "metadata": {},
   "outputs": [],
   "source": [
    "file = raw.groupby(['Location_ID','Station','Logged_Date','PLU','Item_Name','Location'],as_index=False).sum()\n",
    "#file"
   ]
  },
  {
   "cell_type": "code",
   "execution_count": 12,
   "metadata": {},
   "outputs": [],
   "source": [
    "file = file.reindex(columns = ['Logged_Date', 'Station', 'PLU', 'Item_Name', 'Served','Saved','Shrink','Sold','Quantity','Actual_Weight','Location_ID','Location'])\n"
   ]
  },
  {
   "cell_type": "code",
   "execution_count": 13,
   "metadata": {},
   "outputs": [],
   "source": [
    "negativeweights = file[(file.Served < 0) | (file.Saved < 0) | (file.Shrink < 0)]"
   ]
  },
  {
   "cell_type": "code",
   "execution_count": 14,
   "metadata": {
    "scrolled": true
   },
   "outputs": [],
   "source": [
    "#negativeweights"
   ]
  },
  {
   "cell_type": "code",
   "execution_count": 15,
   "metadata": {},
   "outputs": [],
   "source": [
    "file = file[(file['Served'] >= 0) & (file['Saved'] >= 0) & (file['Shrink'] >= 0) & (file['Sold'] >=0)].reset_index(drop=True) \n",
    "file = file.round(2)\n",
    "file['PLU'] = pd.to_numeric(file.PLU)\n",
    "#file\n"
   ]
  },
  {
   "cell_type": "code",
   "execution_count": 16,
   "metadata": {},
   "outputs": [],
   "source": [
    "file0 = file.drop(columns=['Quantity','Actual_Weight'])\n",
    "#file0"
   ]
  },
  {
   "cell_type": "code",
   "execution_count": 17,
   "metadata": {},
   "outputs": [],
   "source": [
    "file0.columns = ['Date', 'Venue','PLU', 'Item Name', 'Served', 'Saved', 'Shrink', 'Sold', 'Location_ID', 'Store']\n",
    "file0 = file0.reindex(columns = ['Date','Store','Venue','PLU', 'Item Name', 'Served', 'Saved', 'Shrink', 'Sold', 'Location_ID'])\n",
    "#file0"
   ]
  },
  {
   "cell_type": "code",
   "execution_count": 18,
   "metadata": {},
   "outputs": [],
   "source": [
    "#startdate = pd.to_datetime(\"2019-12-18\").date()\n",
    "#file0 = file0[file0['Date'] > startdate]\n",
    "#file0"
   ]
  },
  {
   "cell_type": "code",
   "execution_count": 19,
   "metadata": {},
   "outputs": [],
   "source": [
    "file1 = file0[file0['Location_ID']==51]\n",
    "file2 = file0[file0['Location_ID']==52]\n",
    "file3 = file0[file0['Location_ID']==53]\n",
    "file4 = file0[file0['Location_ID']==54]\n",
    "file5 = file0[file0['Location_ID']==55]\n",
    "file0 = file0.drop(columns=['Location_ID'])\n",
    "file1 = file1.drop(columns=['Location_ID'])\n",
    "file2 = file2.drop(columns=['Location_ID'])\n",
    "file3 = file3.drop(columns=['Location_ID'])\n",
    "file4 = file4.drop(columns=['Location_ID'])\n",
    "file5 = file5.drop(columns=['Location_ID'])\n",
    "\n",
    "#file1"
   ]
  },
  {
   "cell_type": "code",
   "execution_count": 20,
   "metadata": {},
   "outputs": [],
   "source": [
    "with pd.ExcelWriter('weeklyreport.xlsx') as writer:  # doctest: +SKIP\n",
    "    file0.to_excel(writer, sheet_name='weeklyreport', index = False)\n",
    "    workbook  = writer.book\n",
    "    worksheet = writer.sheets['weeklyreport']\n",
    "    worksheet.set_column(0, 3, 12)\n",
    "    worksheet.set_column(4, 4, 35)\n",
    "    file1.to_excel(writer, sheet_name='Dedham_weeklyreport', index = False)\n",
    "    worksheet = writer.sheets['Dedham_weeklyreport']\n",
    "    worksheet.set_column(0, 3, 12)\n",
    "    worksheet.set_column(4, 4, 35)\n",
    "    file2.to_excel(writer, sheet_name='Hingham_weeklyreport', index = False)\n",
    "    worksheet = writer.sheets['Hingham_weeklyreport']\n",
    "    worksheet.set_column(0, 3, 12)\n",
    "    worksheet.set_column(4, 4, 35)\n",
    "    file3.to_excel(writer, sheet_name='Westford_weeklyreport', index = False)\n",
    "    worksheet = writer.sheets['Westford_weeklyreport']\n",
    "    worksheet.set_column(0, 3, 12)\n",
    "    worksheet.set_column(4, 4, 35)\n",
    "    file4.to_excel(writer, sheet_name='WestHartford_weeklyreport', index = False)\n",
    "    worksheet = writer.sheets['WestHartford_weeklyreport']\n",
    "    worksheet.set_column(0, 3, 12)\n",
    "    worksheet.set_column(4, 4, 35)\n",
    "    file5.to_excel(writer, sheet_name='Cranston_weeklyreport', index = False)\n",
    "    worksheet = writer.sheets['Cranston_weeklyreport']\n",
    "    worksheet.set_column(0, 3, 12)\n",
    "    worksheet.set_column(4, 4, 35)\n",
    "    #rawfile.to_excel(writer, sheet_name='Raw Logs', index = False)\n"
   ]
  },
  {
   "cell_type": "code",
   "execution_count": null,
   "metadata": {},
   "outputs": [],
   "source": []
  }
 ],
 "metadata": {
  "kernelspec": {
   "display_name": "Python 3",
   "language": "python",
   "name": "python3"
  },
  "language_info": {
   "codemirror_mode": {
    "name": "ipython",
    "version": 3
   },
   "file_extension": ".py",
   "mimetype": "text/x-python",
   "name": "python",
   "nbconvert_exporter": "python",
   "pygments_lexer": "ipython3",
   "version": "3.7.4"
  }
 },
 "nbformat": 4,
 "nbformat_minor": 2
}
