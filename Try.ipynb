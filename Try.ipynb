{
 "cells": [
  {
   "cell_type": "code",
   "execution_count": 1,
   "metadata": {
    "scrolled": true
   },
   "outputs": [],
   "source": [
    "import pandas as pd\n",
    "import config_prod as config\n",
    "#import json\n",
    "from datetime import date, timedelta\n",
    "import phood_api\n",
    "from sklearn import preprocessing\n",
    "from sklearn.model_selection import train_test_split\n",
    "import numpy as np\n",
    "from sklearn.metrics import mean_absolute_error\n",
    "import matplotlib.pyplot as plt\n",
    "from sklearn.metrics import accuracy_score \n",
    "import sklearn\n",
    "import rawlist"
   ]
  },
  {
   "cell_type": "code",
   "execution_count": 2,
   "metadata": {},
   "outputs": [],
   "source": [
    "raw = pd.DataFrame(rawlist.masterlist) "
   ]
  },
  {
   "cell_type": "code",
   "execution_count": 3,
   "metadata": {},
   "outputs": [],
   "source": [
    "rawfile=raw"
   ]
  },
  {
   "cell_type": "code",
   "execution_count": 4,
   "metadata": {},
   "outputs": [],
   "source": [
    "raw.columns = ['Date_Produced', 'Log_ID', 'Item_Name', 'Item_Type', 'PLU', 'Logged_Time', 'Meal', 'Action_Taken', 'Action_Reason', 'Quantity', 'Pan_ID', 'Pan_Weight', 'Unit', 'Station', 'Employee_Name', 'imageId', 'Location_ID','Location', 'Served','Saved','Sold','Shrink']"
   ]
  },
  {
   "cell_type": "code",
   "execution_count": 5,
   "metadata": {},
   "outputs": [],
   "source": [
    "import pandas_profiling\n",
    "#pandas_profiling.ProfileReport(raw)"
   ]
  },
  {
   "cell_type": "markdown",
   "metadata": {},
   "source": [
    "## Remove Unit, Meal, Item Type, Employee Name columns"
   ]
  },
  {
   "cell_type": "code",
   "execution_count": 6,
   "metadata": {},
   "outputs": [],
   "source": [
    "raw = raw.drop(columns=['Unit','Meal','Item_Type','Employee_Name'])"
   ]
  },
  {
   "cell_type": "code",
   "execution_count": 7,
   "metadata": {},
   "outputs": [],
   "source": [
    "raw['Date_Produced'] = pd.to_datetime(raw['Date_Produced'])\n",
    "raw['Logged_Time'] = pd.to_datetime(raw['Logged_Time'])"
   ]
  },
  {
   "cell_type": "code",
   "execution_count": 8,
   "metadata": {},
   "outputs": [],
   "source": [
    "raw['Logged_Date'] = raw['Logged_Time'].dt.date\n",
    "raw['Logged_Time'] = raw['Logged_Time'].dt.time"
   ]
  },
  {
   "cell_type": "code",
   "execution_count": 9,
   "metadata": {},
   "outputs": [],
   "source": [
    "raw['Actual_Weight'] = raw['Quantity'] - raw['Pan_Weight']"
   ]
  },
  {
   "cell_type": "code",
   "execution_count": 10,
   "metadata": {},
   "outputs": [],
   "source": [
    "rawpan = raw"
   ]
  },
  {
   "cell_type": "code",
   "execution_count": 11,
   "metadata": {},
   "outputs": [],
   "source": [
    "raw = raw.drop(columns=['Log_ID','Date_Produced','Logged_Time','Action_Taken','Action_Reason','Pan_ID','Pan_Weight','imageId'])"
   ]
  },
  {
   "cell_type": "code",
   "execution_count": 12,
   "metadata": {},
   "outputs": [],
   "source": [
    "file = raw.groupby(['Location_ID','Station','Logged_Date','PLU','Item_Name','Location'],as_index=False).sum()\n",
    "#file"
   ]
  },
  {
   "cell_type": "code",
   "execution_count": 13,
   "metadata": {},
   "outputs": [],
   "source": [
    "file = file.reindex(columns = ['Logged_Date', 'Station', 'PLU', 'Item_Name', 'Served','Saved','Shrink','Sold','Quantity','Actual_Weight','Location_ID','Location'])\n"
   ]
  },
  {
   "cell_type": "code",
   "execution_count": 14,
   "metadata": {},
   "outputs": [],
   "source": [
    "negativeweights = file[(file.Served < 0) | (file.Saved < 0) | (file.Shrink < 0)]"
   ]
  },
  {
   "cell_type": "code",
   "execution_count": 15,
   "metadata": {
    "scrolled": true
   },
   "outputs": [],
   "source": [
    "#negativeweights"
   ]
  },
  {
   "cell_type": "code",
   "execution_count": 16,
   "metadata": {},
   "outputs": [],
   "source": [
    "file = file[(file['Served'] >= 0) & (file['Saved'] >= 0) & (file['Shrink'] >= 0) & (file['Sold'] >=0)].reset_index(drop=True) \n",
    "#file\n"
   ]
  },
  {
   "cell_type": "code",
   "execution_count": 17,
   "metadata": {},
   "outputs": [],
   "source": [
    "file0 = file.drop(columns=['Quantity','Actual_Weight'])\n",
    "#file0"
   ]
  },
  {
   "cell_type": "code",
   "execution_count": 18,
   "metadata": {},
   "outputs": [],
   "source": [
    "file1 = file[file['Location_ID']==51]\n",
    "file2 = file[file['Location_ID']==52]\n",
    "file3 = file[file['Location_ID']==53]\n",
    "file4 = file[file['Location_ID']==54]\n",
    "file5 = file[file['Location_ID']==55]\n",
    "file0 = file0.drop(columns=['Location_ID'])\n",
    "file1 = file1.drop(columns=['Location_ID'])\n",
    "file2 = file2.drop(columns=['Location_ID'])\n",
    "file3 = file3.drop(columns=['Location_ID'])\n",
    "file4 = file4.drop(columns=['Location_ID'])\n",
    "file5 = file5.drop(columns=['Location_ID'])\n",
    "\n",
    "#file1"
   ]
  },
  {
   "cell_type": "code",
   "execution_count": 19,
   "metadata": {},
   "outputs": [
    {
     "data": {
      "text/html": [
       "<div>\n",
       "<style scoped>\n",
       "    .dataframe tbody tr th:only-of-type {\n",
       "        vertical-align: middle;\n",
       "    }\n",
       "\n",
       "    .dataframe tbody tr th {\n",
       "        vertical-align: top;\n",
       "    }\n",
       "\n",
       "    .dataframe thead th {\n",
       "        text-align: right;\n",
       "    }\n",
       "</style>\n",
       "<table border=\"1\" class=\"dataframe\">\n",
       "  <thead>\n",
       "    <tr style=\"text-align: right;\">\n",
       "      <th></th>\n",
       "      <th>Logged_Date</th>\n",
       "      <th>Station</th>\n",
       "      <th>PLU</th>\n",
       "      <th>Item_Name</th>\n",
       "      <th>Served</th>\n",
       "      <th>Saved</th>\n",
       "      <th>Shrink</th>\n",
       "      <th>Sold</th>\n",
       "      <th>Location</th>\n",
       "    </tr>\n",
       "  </thead>\n",
       "  <tbody>\n",
       "    <tr>\n",
       "      <td>0</td>\n",
       "      <td>2019-10-01</td>\n",
       "      <td>HB</td>\n",
       "      <td>26747000000</td>\n",
       "      <td>Cajun Wedged Sweet Potatoes</td>\n",
       "      <td>13.91137</td>\n",
       "      <td>0.0</td>\n",
       "      <td>1.64545</td>\n",
       "      <td>12.26592</td>\n",
       "      <td>Dedham</td>\n",
       "    </tr>\n",
       "    <tr>\n",
       "      <td>1</td>\n",
       "      <td>2019-10-01</td>\n",
       "      <td>HB</td>\n",
       "      <td>46000001661</td>\n",
       "      <td>Plantains</td>\n",
       "      <td>4.80615</td>\n",
       "      <td>0.0</td>\n",
       "      <td>1.78307</td>\n",
       "      <td>3.02308</td>\n",
       "      <td>Dedham</td>\n",
       "    </tr>\n",
       "    <tr>\n",
       "      <td>2</td>\n",
       "      <td>2019-10-01</td>\n",
       "      <td>HB</td>\n",
       "      <td>46000005678</td>\n",
       "      <td>Chicken Cacciatore</td>\n",
       "      <td>22.88980</td>\n",
       "      <td>0.0</td>\n",
       "      <td>1.27601</td>\n",
       "      <td>21.61379</td>\n",
       "      <td>Dedham</td>\n",
       "    </tr>\n",
       "    <tr>\n",
       "      <td>3</td>\n",
       "      <td>2019-10-01</td>\n",
       "      <td>HB</td>\n",
       "      <td>46000007290</td>\n",
       "      <td>Curried Cauliflower</td>\n",
       "      <td>18.25448</td>\n",
       "      <td>0.0</td>\n",
       "      <td>2.74776</td>\n",
       "      <td>15.50672</td>\n",
       "      <td>Dedham</td>\n",
       "    </tr>\n",
       "    <tr>\n",
       "      <td>4</td>\n",
       "      <td>2019-10-01</td>\n",
       "      <td>HB</td>\n",
       "      <td>46000007582</td>\n",
       "      <td>Chicken Tenders</td>\n",
       "      <td>45.77823</td>\n",
       "      <td>0.0</td>\n",
       "      <td>6.93147</td>\n",
       "      <td>38.84676</td>\n",
       "      <td>Dedham</td>\n",
       "    </tr>\n",
       "    <tr>\n",
       "      <td>...</td>\n",
       "      <td>...</td>\n",
       "      <td>...</td>\n",
       "      <td>...</td>\n",
       "      <td>...</td>\n",
       "      <td>...</td>\n",
       "      <td>...</td>\n",
       "      <td>...</td>\n",
       "      <td>...</td>\n",
       "      <td>...</td>\n",
       "    </tr>\n",
       "    <tr>\n",
       "      <td>18802</td>\n",
       "      <td>2019-12-27</td>\n",
       "      <td>SB</td>\n",
       "      <td>46000055829</td>\n",
       "      <td>Blanched Green Beans</td>\n",
       "      <td>3.54743</td>\n",
       "      <td>0.0</td>\n",
       "      <td>0.00000</td>\n",
       "      <td>3.54743</td>\n",
       "      <td>Cranston</td>\n",
       "    </tr>\n",
       "    <tr>\n",
       "      <td>18803</td>\n",
       "      <td>2019-12-29</td>\n",
       "      <td>SB</td>\n",
       "      <td>46000007609</td>\n",
       "      <td>Salad, Kale &amp; Brussels Sprouts SB NA</td>\n",
       "      <td>4.78202</td>\n",
       "      <td>0.0</td>\n",
       "      <td>0.00000</td>\n",
       "      <td>4.78202</td>\n",
       "      <td>Cranston</td>\n",
       "    </tr>\n",
       "    <tr>\n",
       "      <td>18804</td>\n",
       "      <td>2019-12-29</td>\n",
       "      <td>SB</td>\n",
       "      <td>46000055823</td>\n",
       "      <td>gigande beans in vinaigrette</td>\n",
       "      <td>2.64353</td>\n",
       "      <td>0.0</td>\n",
       "      <td>1.36485</td>\n",
       "      <td>1.27868</td>\n",
       "      <td>Cranston</td>\n",
       "    </tr>\n",
       "    <tr>\n",
       "      <td>18805</td>\n",
       "      <td>2019-12-30</td>\n",
       "      <td>SB</td>\n",
       "      <td>46000057614</td>\n",
       "      <td>Roasted Brussel Sprouts</td>\n",
       "      <td>5.55364</td>\n",
       "      <td>0.0</td>\n",
       "      <td>0.98419</td>\n",
       "      <td>4.56945</td>\n",
       "      <td>Cranston</td>\n",
       "    </tr>\n",
       "    <tr>\n",
       "      <td>18806</td>\n",
       "      <td>2019-12-31</td>\n",
       "      <td>SB</td>\n",
       "      <td>46000057614</td>\n",
       "      <td>Roasted Brussel Sprouts</td>\n",
       "      <td>4.09859</td>\n",
       "      <td>0.0</td>\n",
       "      <td>0.00000</td>\n",
       "      <td>4.09859</td>\n",
       "      <td>Cranston</td>\n",
       "    </tr>\n",
       "  </tbody>\n",
       "</table>\n",
       "<p>18807 rows × 9 columns</p>\n",
       "</div>"
      ],
      "text/plain": [
       "      Logged_Date Station          PLU                             Item_Name  \\\n",
       "0      2019-10-01      HB  26747000000          Cajun Wedged Sweet Potatoes    \n",
       "1      2019-10-01      HB  46000001661                             Plantains   \n",
       "2      2019-10-01      HB  46000005678                   Chicken Cacciatore    \n",
       "3      2019-10-01      HB  46000007290                   Curried Cauliflower   \n",
       "4      2019-10-01      HB  46000007582                       Chicken Tenders   \n",
       "...           ...     ...          ...                                   ...   \n",
       "18802  2019-12-27      SB  46000055829                  Blanched Green Beans   \n",
       "18803  2019-12-29      SB  46000007609  Salad, Kale & Brussels Sprouts SB NA   \n",
       "18804  2019-12-29      SB  46000055823          gigande beans in vinaigrette   \n",
       "18805  2019-12-30      SB  46000057614               Roasted Brussel Sprouts   \n",
       "18806  2019-12-31      SB  46000057614               Roasted Brussel Sprouts   \n",
       "\n",
       "         Served  Saved   Shrink      Sold  Location  \n",
       "0      13.91137    0.0  1.64545  12.26592    Dedham  \n",
       "1       4.80615    0.0  1.78307   3.02308    Dedham  \n",
       "2      22.88980    0.0  1.27601  21.61379    Dedham  \n",
       "3      18.25448    0.0  2.74776  15.50672    Dedham  \n",
       "4      45.77823    0.0  6.93147  38.84676    Dedham  \n",
       "...         ...    ...      ...       ...       ...  \n",
       "18802   3.54743    0.0  0.00000   3.54743  Cranston  \n",
       "18803   4.78202    0.0  0.00000   4.78202  Cranston  \n",
       "18804   2.64353    0.0  1.36485   1.27868  Cranston  \n",
       "18805   5.55364    0.0  0.98419   4.56945  Cranston  \n",
       "18806   4.09859    0.0  0.00000   4.09859  Cranston  \n",
       "\n",
       "[18807 rows x 9 columns]"
      ]
     },
     "execution_count": 19,
     "metadata": {},
     "output_type": "execute_result"
    }
   ],
   "source": [
    "mod = file0\n",
    "mod"
   ]
  },
  {
   "cell_type": "code",
   "execution_count": 20,
   "metadata": {},
   "outputs": [],
   "source": [
    "mod = mod.filter(['Item_Name','Logged_Date','Station','Shrink'], axis=1)"
   ]
  },
  {
   "cell_type": "code",
   "execution_count": 21,
   "metadata": {},
   "outputs": [
    {
     "data": {
      "text/html": [
       "<div>\n",
       "<style scoped>\n",
       "    .dataframe tbody tr th:only-of-type {\n",
       "        vertical-align: middle;\n",
       "    }\n",
       "\n",
       "    .dataframe tbody tr th {\n",
       "        vertical-align: top;\n",
       "    }\n",
       "\n",
       "    .dataframe thead th {\n",
       "        text-align: right;\n",
       "    }\n",
       "</style>\n",
       "<table border=\"1\" class=\"dataframe\">\n",
       "  <thead>\n",
       "    <tr style=\"text-align: right;\">\n",
       "      <th></th>\n",
       "      <th>Item_Name</th>\n",
       "      <th>Logged_Date</th>\n",
       "      <th>Station</th>\n",
       "      <th>Shrink</th>\n",
       "    </tr>\n",
       "  </thead>\n",
       "  <tbody>\n",
       "    <tr>\n",
       "      <td>0</td>\n",
       "      <td>Cajun Wedged Sweet Potatoes</td>\n",
       "      <td>2019-10-01</td>\n",
       "      <td>HB</td>\n",
       "      <td>1.64545</td>\n",
       "    </tr>\n",
       "    <tr>\n",
       "      <td>1</td>\n",
       "      <td>Plantains</td>\n",
       "      <td>2019-10-01</td>\n",
       "      <td>HB</td>\n",
       "      <td>1.78307</td>\n",
       "    </tr>\n",
       "    <tr>\n",
       "      <td>2</td>\n",
       "      <td>Chicken Cacciatore</td>\n",
       "      <td>2019-10-01</td>\n",
       "      <td>HB</td>\n",
       "      <td>1.27601</td>\n",
       "    </tr>\n",
       "    <tr>\n",
       "      <td>3</td>\n",
       "      <td>Curried Cauliflower</td>\n",
       "      <td>2019-10-01</td>\n",
       "      <td>HB</td>\n",
       "      <td>2.74776</td>\n",
       "    </tr>\n",
       "    <tr>\n",
       "      <td>4</td>\n",
       "      <td>Chicken Tenders</td>\n",
       "      <td>2019-10-01</td>\n",
       "      <td>HB</td>\n",
       "      <td>6.93147</td>\n",
       "    </tr>\n",
       "    <tr>\n",
       "      <td>...</td>\n",
       "      <td>...</td>\n",
       "      <td>...</td>\n",
       "      <td>...</td>\n",
       "      <td>...</td>\n",
       "    </tr>\n",
       "    <tr>\n",
       "      <td>18802</td>\n",
       "      <td>Blanched Green Beans</td>\n",
       "      <td>2019-12-27</td>\n",
       "      <td>SB</td>\n",
       "      <td>0.00000</td>\n",
       "    </tr>\n",
       "    <tr>\n",
       "      <td>18803</td>\n",
       "      <td>Salad, Kale &amp; Brussels Sprouts SB NA</td>\n",
       "      <td>2019-12-29</td>\n",
       "      <td>SB</td>\n",
       "      <td>0.00000</td>\n",
       "    </tr>\n",
       "    <tr>\n",
       "      <td>18804</td>\n",
       "      <td>gigande beans in vinaigrette</td>\n",
       "      <td>2019-12-29</td>\n",
       "      <td>SB</td>\n",
       "      <td>1.36485</td>\n",
       "    </tr>\n",
       "    <tr>\n",
       "      <td>18805</td>\n",
       "      <td>Roasted Brussel Sprouts</td>\n",
       "      <td>2019-12-30</td>\n",
       "      <td>SB</td>\n",
       "      <td>0.98419</td>\n",
       "    </tr>\n",
       "    <tr>\n",
       "      <td>18806</td>\n",
       "      <td>Roasted Brussel Sprouts</td>\n",
       "      <td>2019-12-31</td>\n",
       "      <td>SB</td>\n",
       "      <td>0.00000</td>\n",
       "    </tr>\n",
       "  </tbody>\n",
       "</table>\n",
       "<p>18807 rows × 4 columns</p>\n",
       "</div>"
      ],
      "text/plain": [
       "                                  Item_Name Logged_Date Station   Shrink\n",
       "0              Cajun Wedged Sweet Potatoes   2019-10-01      HB  1.64545\n",
       "1                                 Plantains  2019-10-01      HB  1.78307\n",
       "2                       Chicken Cacciatore   2019-10-01      HB  1.27601\n",
       "3                       Curried Cauliflower  2019-10-01      HB  2.74776\n",
       "4                           Chicken Tenders  2019-10-01      HB  6.93147\n",
       "...                                     ...         ...     ...      ...\n",
       "18802                  Blanched Green Beans  2019-12-27      SB  0.00000\n",
       "18803  Salad, Kale & Brussels Sprouts SB NA  2019-12-29      SB  0.00000\n",
       "18804          gigande beans in vinaigrette  2019-12-29      SB  1.36485\n",
       "18805               Roasted Brussel Sprouts  2019-12-30      SB  0.98419\n",
       "18806               Roasted Brussel Sprouts  2019-12-31      SB  0.00000\n",
       "\n",
       "[18807 rows x 4 columns]"
      ]
     },
     "execution_count": 21,
     "metadata": {},
     "output_type": "execute_result"
    }
   ],
   "source": [
    "mod"
   ]
  },
  {
   "cell_type": "code",
   "execution_count": 22,
   "metadata": {},
   "outputs": [
    {
     "data": {
      "text/html": [
       "<div>\n",
       "<style scoped>\n",
       "    .dataframe tbody tr th:only-of-type {\n",
       "        vertical-align: middle;\n",
       "    }\n",
       "\n",
       "    .dataframe tbody tr th {\n",
       "        vertical-align: top;\n",
       "    }\n",
       "\n",
       "    .dataframe thead th {\n",
       "        text-align: right;\n",
       "    }\n",
       "</style>\n",
       "<table border=\"1\" class=\"dataframe\">\n",
       "  <thead>\n",
       "    <tr style=\"text-align: right;\">\n",
       "      <th></th>\n",
       "      <th>Item_Name</th>\n",
       "      <th>Logged_Date</th>\n",
       "      <th>Station</th>\n",
       "      <th>Shrink</th>\n",
       "    </tr>\n",
       "  </thead>\n",
       "  <tbody>\n",
       "    <tr>\n",
       "      <td>0</td>\n",
       "      <td>Cajun Wedged Sweet Potatoes</td>\n",
       "      <td>2019-10-01</td>\n",
       "      <td>HB</td>\n",
       "      <td>1.64545</td>\n",
       "    </tr>\n",
       "    <tr>\n",
       "      <td>1</td>\n",
       "      <td>Plantains</td>\n",
       "      <td>2019-10-01</td>\n",
       "      <td>HB</td>\n",
       "      <td>1.78307</td>\n",
       "    </tr>\n",
       "    <tr>\n",
       "      <td>2</td>\n",
       "      <td>Chicken Cacciatore</td>\n",
       "      <td>2019-10-01</td>\n",
       "      <td>HB</td>\n",
       "      <td>1.27601</td>\n",
       "    </tr>\n",
       "    <tr>\n",
       "      <td>3</td>\n",
       "      <td>Curried Cauliflower</td>\n",
       "      <td>2019-10-01</td>\n",
       "      <td>HB</td>\n",
       "      <td>2.74776</td>\n",
       "    </tr>\n",
       "    <tr>\n",
       "      <td>4</td>\n",
       "      <td>Chicken Tenders</td>\n",
       "      <td>2019-10-01</td>\n",
       "      <td>HB</td>\n",
       "      <td>6.93147</td>\n",
       "    </tr>\n",
       "    <tr>\n",
       "      <td>...</td>\n",
       "      <td>...</td>\n",
       "      <td>...</td>\n",
       "      <td>...</td>\n",
       "      <td>...</td>\n",
       "    </tr>\n",
       "    <tr>\n",
       "      <td>18802</td>\n",
       "      <td>Blanched Green Beans</td>\n",
       "      <td>2019-12-27</td>\n",
       "      <td>SB</td>\n",
       "      <td>0.00000</td>\n",
       "    </tr>\n",
       "    <tr>\n",
       "      <td>18803</td>\n",
       "      <td>Salad, Kale &amp; Brussels Sprouts SB NA</td>\n",
       "      <td>2019-12-29</td>\n",
       "      <td>SB</td>\n",
       "      <td>0.00000</td>\n",
       "    </tr>\n",
       "    <tr>\n",
       "      <td>18804</td>\n",
       "      <td>gigande beans in vinaigrette</td>\n",
       "      <td>2019-12-29</td>\n",
       "      <td>SB</td>\n",
       "      <td>1.36485</td>\n",
       "    </tr>\n",
       "    <tr>\n",
       "      <td>18805</td>\n",
       "      <td>Roasted Brussel Sprouts</td>\n",
       "      <td>2019-12-30</td>\n",
       "      <td>SB</td>\n",
       "      <td>0.98419</td>\n",
       "    </tr>\n",
       "    <tr>\n",
       "      <td>18806</td>\n",
       "      <td>Roasted Brussel Sprouts</td>\n",
       "      <td>2019-12-31</td>\n",
       "      <td>SB</td>\n",
       "      <td>0.00000</td>\n",
       "    </tr>\n",
       "  </tbody>\n",
       "</table>\n",
       "<p>18807 rows × 4 columns</p>\n",
       "</div>"
      ],
      "text/plain": [
       "                                  Item_Name Logged_Date Station   Shrink\n",
       "0              Cajun Wedged Sweet Potatoes   2019-10-01      HB  1.64545\n",
       "1                                 Plantains  2019-10-01      HB  1.78307\n",
       "2                       Chicken Cacciatore   2019-10-01      HB  1.27601\n",
       "3                       Curried Cauliflower  2019-10-01      HB  2.74776\n",
       "4                           Chicken Tenders  2019-10-01      HB  6.93147\n",
       "...                                     ...         ...     ...      ...\n",
       "18802                  Blanched Green Beans  2019-12-27      SB  0.00000\n",
       "18803  Salad, Kale & Brussels Sprouts SB NA  2019-12-29      SB  0.00000\n",
       "18804          gigande beans in vinaigrette  2019-12-29      SB  1.36485\n",
       "18805               Roasted Brussel Sprouts  2019-12-30      SB  0.98419\n",
       "18806               Roasted Brussel Sprouts  2019-12-31      SB  0.00000\n",
       "\n",
       "[18807 rows x 4 columns]"
      ]
     },
     "execution_count": 22,
     "metadata": {},
     "output_type": "execute_result"
    }
   ],
   "source": [
    "mod['Logged_Date'] = pd.to_datetime(mod['Logged_Date'])\n",
    "mod"
   ]
  },
  {
   "cell_type": "code",
   "execution_count": 23,
   "metadata": {},
   "outputs": [
    {
     "data": {
      "text/plain": [
       "LabelEncoder()"
      ]
     },
     "execution_count": 23,
     "metadata": {},
     "output_type": "execute_result"
    }
   ],
   "source": [
    "le = preprocessing.LabelEncoder()\n",
    "le.fit(mod['Station'])"
   ]
  },
  {
   "cell_type": "code",
   "execution_count": 24,
   "metadata": {},
   "outputs": [
    {
     "data": {
      "text/plain": [
       "['HB',\n",
       " 'Hot Bar - ITALIAN',\n",
       " 'Hot Bar-Breakfast',\n",
       " 'Hot Bar-Fall Asian',\n",
       " 'Hot Bar-Oktoberfest',\n",
       " 'SB',\n",
       " 'SO']"
      ]
     },
     "execution_count": 24,
     "metadata": {},
     "output_type": "execute_result"
    }
   ],
   "source": [
    "# View the labels (if you want)\n",
    "list(le.classes_)\n"
   ]
  },
  {
   "cell_type": "code",
   "execution_count": 25,
   "metadata": {},
   "outputs": [],
   "source": [
    "# Apply the fitted encoder to the pandas column\n",
    "mod['modstation'] = le.transform(mod['Station'])"
   ]
  },
  {
   "cell_type": "code",
   "execution_count": 26,
   "metadata": {},
   "outputs": [],
   "source": [
    "le = preprocessing.LabelEncoder()\n",
    "le.fit(mod['Item_Name'])\n",
    "list(le.classes_)\n",
    "# Apply the fitted encoder to the pandas column\n",
    "mod['moditem'] = le.transform(mod['Item_Name'])"
   ]
  },
  {
   "cell_type": "code",
   "execution_count": 27,
   "metadata": {},
   "outputs": [
    {
     "data": {
      "text/html": [
       "<div>\n",
       "<style scoped>\n",
       "    .dataframe tbody tr th:only-of-type {\n",
       "        vertical-align: middle;\n",
       "    }\n",
       "\n",
       "    .dataframe tbody tr th {\n",
       "        vertical-align: top;\n",
       "    }\n",
       "\n",
       "    .dataframe thead th {\n",
       "        text-align: right;\n",
       "    }\n",
       "</style>\n",
       "<table border=\"1\" class=\"dataframe\">\n",
       "  <thead>\n",
       "    <tr style=\"text-align: right;\">\n",
       "      <th></th>\n",
       "      <th>Item_Name</th>\n",
       "      <th>Logged_Date</th>\n",
       "      <th>Station</th>\n",
       "      <th>Shrink</th>\n",
       "      <th>modstation</th>\n",
       "      <th>moditem</th>\n",
       "    </tr>\n",
       "  </thead>\n",
       "  <tbody>\n",
       "    <tr>\n",
       "      <td>0</td>\n",
       "      <td>Cajun Wedged Sweet Potatoes</td>\n",
       "      <td>2019-10-01</td>\n",
       "      <td>HB</td>\n",
       "      <td>1.64545</td>\n",
       "      <td>0</td>\n",
       "      <td>118</td>\n",
       "    </tr>\n",
       "    <tr>\n",
       "      <td>1</td>\n",
       "      <td>Plantains</td>\n",
       "      <td>2019-10-01</td>\n",
       "      <td>HB</td>\n",
       "      <td>1.78307</td>\n",
       "      <td>0</td>\n",
       "      <td>484</td>\n",
       "    </tr>\n",
       "    <tr>\n",
       "      <td>2</td>\n",
       "      <td>Chicken Cacciatore</td>\n",
       "      <td>2019-10-01</td>\n",
       "      <td>HB</td>\n",
       "      <td>1.27601</td>\n",
       "      <td>0</td>\n",
       "      <td>153</td>\n",
       "    </tr>\n",
       "    <tr>\n",
       "      <td>3</td>\n",
       "      <td>Curried Cauliflower</td>\n",
       "      <td>2019-10-01</td>\n",
       "      <td>HB</td>\n",
       "      <td>2.74776</td>\n",
       "      <td>0</td>\n",
       "      <td>220</td>\n",
       "    </tr>\n",
       "    <tr>\n",
       "      <td>4</td>\n",
       "      <td>Chicken Tenders</td>\n",
       "      <td>2019-10-01</td>\n",
       "      <td>HB</td>\n",
       "      <td>6.93147</td>\n",
       "      <td>0</td>\n",
       "      <td>163</td>\n",
       "    </tr>\n",
       "    <tr>\n",
       "      <td>...</td>\n",
       "      <td>...</td>\n",
       "      <td>...</td>\n",
       "      <td>...</td>\n",
       "      <td>...</td>\n",
       "      <td>...</td>\n",
       "      <td>...</td>\n",
       "    </tr>\n",
       "    <tr>\n",
       "      <td>18802</td>\n",
       "      <td>Blanched Green Beans</td>\n",
       "      <td>2019-12-27</td>\n",
       "      <td>SB</td>\n",
       "      <td>0.00000</td>\n",
       "      <td>5</td>\n",
       "      <td>59</td>\n",
       "    </tr>\n",
       "    <tr>\n",
       "      <td>18803</td>\n",
       "      <td>Salad, Kale &amp; Brussels Sprouts SB NA</td>\n",
       "      <td>2019-12-29</td>\n",
       "      <td>SB</td>\n",
       "      <td>0.00000</td>\n",
       "      <td>5</td>\n",
       "      <td>585</td>\n",
       "    </tr>\n",
       "    <tr>\n",
       "      <td>18804</td>\n",
       "      <td>gigande beans in vinaigrette</td>\n",
       "      <td>2019-12-29</td>\n",
       "      <td>SB</td>\n",
       "      <td>1.36485</td>\n",
       "      <td>5</td>\n",
       "      <td>723</td>\n",
       "    </tr>\n",
       "    <tr>\n",
       "      <td>18805</td>\n",
       "      <td>Roasted Brussel Sprouts</td>\n",
       "      <td>2019-12-30</td>\n",
       "      <td>SB</td>\n",
       "      <td>0.98419</td>\n",
       "      <td>5</td>\n",
       "      <td>532</td>\n",
       "    </tr>\n",
       "    <tr>\n",
       "      <td>18806</td>\n",
       "      <td>Roasted Brussel Sprouts</td>\n",
       "      <td>2019-12-31</td>\n",
       "      <td>SB</td>\n",
       "      <td>0.00000</td>\n",
       "      <td>5</td>\n",
       "      <td>532</td>\n",
       "    </tr>\n",
       "  </tbody>\n",
       "</table>\n",
       "<p>18807 rows × 6 columns</p>\n",
       "</div>"
      ],
      "text/plain": [
       "                                  Item_Name Logged_Date Station   Shrink  \\\n",
       "0              Cajun Wedged Sweet Potatoes   2019-10-01      HB  1.64545   \n",
       "1                                 Plantains  2019-10-01      HB  1.78307   \n",
       "2                       Chicken Cacciatore   2019-10-01      HB  1.27601   \n",
       "3                       Curried Cauliflower  2019-10-01      HB  2.74776   \n",
       "4                           Chicken Tenders  2019-10-01      HB  6.93147   \n",
       "...                                     ...         ...     ...      ...   \n",
       "18802                  Blanched Green Beans  2019-12-27      SB  0.00000   \n",
       "18803  Salad, Kale & Brussels Sprouts SB NA  2019-12-29      SB  0.00000   \n",
       "18804          gigande beans in vinaigrette  2019-12-29      SB  1.36485   \n",
       "18805               Roasted Brussel Sprouts  2019-12-30      SB  0.98419   \n",
       "18806               Roasted Brussel Sprouts  2019-12-31      SB  0.00000   \n",
       "\n",
       "       modstation  moditem  \n",
       "0               0      118  \n",
       "1               0      484  \n",
       "2               0      153  \n",
       "3               0      220  \n",
       "4               0      163  \n",
       "...           ...      ...  \n",
       "18802           5       59  \n",
       "18803           5      585  \n",
       "18804           5      723  \n",
       "18805           5      532  \n",
       "18806           5      532  \n",
       "\n",
       "[18807 rows x 6 columns]"
      ]
     },
     "execution_count": 27,
     "metadata": {},
     "output_type": "execute_result"
    }
   ],
   "source": [
    "mod"
   ]
  },
  {
   "cell_type": "code",
   "execution_count": 28,
   "metadata": {},
   "outputs": [
    {
     "data": {
      "text/html": [
       "<div>\n",
       "<style scoped>\n",
       "    .dataframe tbody tr th:only-of-type {\n",
       "        vertical-align: middle;\n",
       "    }\n",
       "\n",
       "    .dataframe tbody tr th {\n",
       "        vertical-align: top;\n",
       "    }\n",
       "\n",
       "    .dataframe thead th {\n",
       "        text-align: right;\n",
       "    }\n",
       "</style>\n",
       "<table border=\"1\" class=\"dataframe\">\n",
       "  <thead>\n",
       "    <tr style=\"text-align: right;\">\n",
       "      <th></th>\n",
       "      <th>Item_Name</th>\n",
       "      <th>Logged_Date</th>\n",
       "      <th>Station</th>\n",
       "      <th>Shrink</th>\n",
       "      <th>modstation</th>\n",
       "      <th>moditem</th>\n",
       "    </tr>\n",
       "  </thead>\n",
       "  <tbody>\n",
       "    <tr>\n",
       "      <td>0</td>\n",
       "      <td>Cajun Wedged Sweet Potatoes</td>\n",
       "      <td>737333</td>\n",
       "      <td>HB</td>\n",
       "      <td>1.64545</td>\n",
       "      <td>0</td>\n",
       "      <td>118</td>\n",
       "    </tr>\n",
       "    <tr>\n",
       "      <td>1</td>\n",
       "      <td>Plantains</td>\n",
       "      <td>737333</td>\n",
       "      <td>HB</td>\n",
       "      <td>1.78307</td>\n",
       "      <td>0</td>\n",
       "      <td>484</td>\n",
       "    </tr>\n",
       "    <tr>\n",
       "      <td>2</td>\n",
       "      <td>Chicken Cacciatore</td>\n",
       "      <td>737333</td>\n",
       "      <td>HB</td>\n",
       "      <td>1.27601</td>\n",
       "      <td>0</td>\n",
       "      <td>153</td>\n",
       "    </tr>\n",
       "    <tr>\n",
       "      <td>3</td>\n",
       "      <td>Curried Cauliflower</td>\n",
       "      <td>737333</td>\n",
       "      <td>HB</td>\n",
       "      <td>2.74776</td>\n",
       "      <td>0</td>\n",
       "      <td>220</td>\n",
       "    </tr>\n",
       "    <tr>\n",
       "      <td>4</td>\n",
       "      <td>Chicken Tenders</td>\n",
       "      <td>737333</td>\n",
       "      <td>HB</td>\n",
       "      <td>6.93147</td>\n",
       "      <td>0</td>\n",
       "      <td>163</td>\n",
       "    </tr>\n",
       "    <tr>\n",
       "      <td>...</td>\n",
       "      <td>...</td>\n",
       "      <td>...</td>\n",
       "      <td>...</td>\n",
       "      <td>...</td>\n",
       "      <td>...</td>\n",
       "      <td>...</td>\n",
       "    </tr>\n",
       "    <tr>\n",
       "      <td>18802</td>\n",
       "      <td>Blanched Green Beans</td>\n",
       "      <td>737420</td>\n",
       "      <td>SB</td>\n",
       "      <td>0.00000</td>\n",
       "      <td>5</td>\n",
       "      <td>59</td>\n",
       "    </tr>\n",
       "    <tr>\n",
       "      <td>18803</td>\n",
       "      <td>Salad, Kale &amp; Brussels Sprouts SB NA</td>\n",
       "      <td>737422</td>\n",
       "      <td>SB</td>\n",
       "      <td>0.00000</td>\n",
       "      <td>5</td>\n",
       "      <td>585</td>\n",
       "    </tr>\n",
       "    <tr>\n",
       "      <td>18804</td>\n",
       "      <td>gigande beans in vinaigrette</td>\n",
       "      <td>737422</td>\n",
       "      <td>SB</td>\n",
       "      <td>1.36485</td>\n",
       "      <td>5</td>\n",
       "      <td>723</td>\n",
       "    </tr>\n",
       "    <tr>\n",
       "      <td>18805</td>\n",
       "      <td>Roasted Brussel Sprouts</td>\n",
       "      <td>737423</td>\n",
       "      <td>SB</td>\n",
       "      <td>0.98419</td>\n",
       "      <td>5</td>\n",
       "      <td>532</td>\n",
       "    </tr>\n",
       "    <tr>\n",
       "      <td>18806</td>\n",
       "      <td>Roasted Brussel Sprouts</td>\n",
       "      <td>737424</td>\n",
       "      <td>SB</td>\n",
       "      <td>0.00000</td>\n",
       "      <td>5</td>\n",
       "      <td>532</td>\n",
       "    </tr>\n",
       "  </tbody>\n",
       "</table>\n",
       "<p>18807 rows × 6 columns</p>\n",
       "</div>"
      ],
      "text/plain": [
       "                                  Item_Name  Logged_Date Station   Shrink  \\\n",
       "0              Cajun Wedged Sweet Potatoes        737333      HB  1.64545   \n",
       "1                                 Plantains       737333      HB  1.78307   \n",
       "2                       Chicken Cacciatore        737333      HB  1.27601   \n",
       "3                       Curried Cauliflower       737333      HB  2.74776   \n",
       "4                           Chicken Tenders       737333      HB  6.93147   \n",
       "...                                     ...          ...     ...      ...   \n",
       "18802                  Blanched Green Beans       737420      SB  0.00000   \n",
       "18803  Salad, Kale & Brussels Sprouts SB NA       737422      SB  0.00000   \n",
       "18804          gigande beans in vinaigrette       737422      SB  1.36485   \n",
       "18805               Roasted Brussel Sprouts       737423      SB  0.98419   \n",
       "18806               Roasted Brussel Sprouts       737424      SB  0.00000   \n",
       "\n",
       "       modstation  moditem  \n",
       "0               0      118  \n",
       "1               0      484  \n",
       "2               0      153  \n",
       "3               0      220  \n",
       "4               0      163  \n",
       "...           ...      ...  \n",
       "18802           5       59  \n",
       "18803           5      585  \n",
       "18804           5      723  \n",
       "18805           5      532  \n",
       "18806           5      532  \n",
       "\n",
       "[18807 rows x 6 columns]"
      ]
     },
     "execution_count": 28,
     "metadata": {},
     "output_type": "execute_result"
    }
   ],
   "source": [
    "mod['Logged_Date'] = mod['Logged_Date'].apply(lambda x: x.toordinal())\n",
    "mod"
   ]
  },
  {
   "cell_type": "code",
   "execution_count": 29,
   "metadata": {},
   "outputs": [],
   "source": [
    "mod = mod.drop(['Station'], axis=1)\n",
    "mod = mod.drop(['Item_Name'], axis=1)"
   ]
  },
  {
   "cell_type": "code",
   "execution_count": 30,
   "metadata": {},
   "outputs": [
    {
     "data": {
      "text/html": [
       "<div>\n",
       "<style scoped>\n",
       "    .dataframe tbody tr th:only-of-type {\n",
       "        vertical-align: middle;\n",
       "    }\n",
       "\n",
       "    .dataframe tbody tr th {\n",
       "        vertical-align: top;\n",
       "    }\n",
       "\n",
       "    .dataframe thead th {\n",
       "        text-align: right;\n",
       "    }\n",
       "</style>\n",
       "<table border=\"1\" class=\"dataframe\">\n",
       "  <thead>\n",
       "    <tr style=\"text-align: right;\">\n",
       "      <th></th>\n",
       "      <th>Logged_Date</th>\n",
       "      <th>Shrink</th>\n",
       "      <th>modstation</th>\n",
       "      <th>moditem</th>\n",
       "    </tr>\n",
       "  </thead>\n",
       "  <tbody>\n",
       "    <tr>\n",
       "      <td>0</td>\n",
       "      <td>737333</td>\n",
       "      <td>1.64545</td>\n",
       "      <td>0</td>\n",
       "      <td>118</td>\n",
       "    </tr>\n",
       "    <tr>\n",
       "      <td>1</td>\n",
       "      <td>737333</td>\n",
       "      <td>1.78307</td>\n",
       "      <td>0</td>\n",
       "      <td>484</td>\n",
       "    </tr>\n",
       "    <tr>\n",
       "      <td>2</td>\n",
       "      <td>737333</td>\n",
       "      <td>1.27601</td>\n",
       "      <td>0</td>\n",
       "      <td>153</td>\n",
       "    </tr>\n",
       "    <tr>\n",
       "      <td>3</td>\n",
       "      <td>737333</td>\n",
       "      <td>2.74776</td>\n",
       "      <td>0</td>\n",
       "      <td>220</td>\n",
       "    </tr>\n",
       "    <tr>\n",
       "      <td>4</td>\n",
       "      <td>737333</td>\n",
       "      <td>6.93147</td>\n",
       "      <td>0</td>\n",
       "      <td>163</td>\n",
       "    </tr>\n",
       "    <tr>\n",
       "      <td>...</td>\n",
       "      <td>...</td>\n",
       "      <td>...</td>\n",
       "      <td>...</td>\n",
       "      <td>...</td>\n",
       "    </tr>\n",
       "    <tr>\n",
       "      <td>18802</td>\n",
       "      <td>737420</td>\n",
       "      <td>0.00000</td>\n",
       "      <td>5</td>\n",
       "      <td>59</td>\n",
       "    </tr>\n",
       "    <tr>\n",
       "      <td>18803</td>\n",
       "      <td>737422</td>\n",
       "      <td>0.00000</td>\n",
       "      <td>5</td>\n",
       "      <td>585</td>\n",
       "    </tr>\n",
       "    <tr>\n",
       "      <td>18804</td>\n",
       "      <td>737422</td>\n",
       "      <td>1.36485</td>\n",
       "      <td>5</td>\n",
       "      <td>723</td>\n",
       "    </tr>\n",
       "    <tr>\n",
       "      <td>18805</td>\n",
       "      <td>737423</td>\n",
       "      <td>0.98419</td>\n",
       "      <td>5</td>\n",
       "      <td>532</td>\n",
       "    </tr>\n",
       "    <tr>\n",
       "      <td>18806</td>\n",
       "      <td>737424</td>\n",
       "      <td>0.00000</td>\n",
       "      <td>5</td>\n",
       "      <td>532</td>\n",
       "    </tr>\n",
       "  </tbody>\n",
       "</table>\n",
       "<p>18807 rows × 4 columns</p>\n",
       "</div>"
      ],
      "text/plain": [
       "       Logged_Date   Shrink  modstation  moditem\n",
       "0           737333  1.64545           0      118\n",
       "1           737333  1.78307           0      484\n",
       "2           737333  1.27601           0      153\n",
       "3           737333  2.74776           0      220\n",
       "4           737333  6.93147           0      163\n",
       "...            ...      ...         ...      ...\n",
       "18802       737420  0.00000           5       59\n",
       "18803       737422  0.00000           5      585\n",
       "18804       737422  1.36485           5      723\n",
       "18805       737423  0.98419           5      532\n",
       "18806       737424  0.00000           5      532\n",
       "\n",
       "[18807 rows x 4 columns]"
      ]
     },
     "execution_count": 30,
     "metadata": {},
     "output_type": "execute_result"
    }
   ],
   "source": [
    "mod"
   ]
  },
  {
   "cell_type": "code",
   "execution_count": 31,
   "metadata": {},
   "outputs": [],
   "source": [
    "df_training = mod.loc[mod['Logged_Date'] <= 737347]\n",
    "df_test = mod.loc[mod['Logged_Date'] > 737347]"
   ]
  },
  {
   "cell_type": "code",
   "execution_count": 32,
   "metadata": {},
   "outputs": [
    {
     "data": {
      "text/html": [
       "<div>\n",
       "<style scoped>\n",
       "    .dataframe tbody tr th:only-of-type {\n",
       "        vertical-align: middle;\n",
       "    }\n",
       "\n",
       "    .dataframe tbody tr th {\n",
       "        vertical-align: top;\n",
       "    }\n",
       "\n",
       "    .dataframe thead th {\n",
       "        text-align: right;\n",
       "    }\n",
       "</style>\n",
       "<table border=\"1\" class=\"dataframe\">\n",
       "  <thead>\n",
       "    <tr style=\"text-align: right;\">\n",
       "      <th></th>\n",
       "      <th>Logged_Date</th>\n",
       "      <th>Shrink</th>\n",
       "      <th>modstation</th>\n",
       "      <th>moditem</th>\n",
       "    </tr>\n",
       "  </thead>\n",
       "  <tbody>\n",
       "    <tr>\n",
       "      <td>0</td>\n",
       "      <td>737333</td>\n",
       "      <td>1.64545</td>\n",
       "      <td>0</td>\n",
       "      <td>118</td>\n",
       "    </tr>\n",
       "    <tr>\n",
       "      <td>1</td>\n",
       "      <td>737333</td>\n",
       "      <td>1.78307</td>\n",
       "      <td>0</td>\n",
       "      <td>484</td>\n",
       "    </tr>\n",
       "    <tr>\n",
       "      <td>2</td>\n",
       "      <td>737333</td>\n",
       "      <td>1.27601</td>\n",
       "      <td>0</td>\n",
       "      <td>153</td>\n",
       "    </tr>\n",
       "    <tr>\n",
       "      <td>3</td>\n",
       "      <td>737333</td>\n",
       "      <td>2.74776</td>\n",
       "      <td>0</td>\n",
       "      <td>220</td>\n",
       "    </tr>\n",
       "    <tr>\n",
       "      <td>4</td>\n",
       "      <td>737333</td>\n",
       "      <td>6.93147</td>\n",
       "      <td>0</td>\n",
       "      <td>163</td>\n",
       "    </tr>\n",
       "    <tr>\n",
       "      <td>...</td>\n",
       "      <td>...</td>\n",
       "      <td>...</td>\n",
       "      <td>...</td>\n",
       "      <td>...</td>\n",
       "    </tr>\n",
       "    <tr>\n",
       "      <td>18665</td>\n",
       "      <td>737347</td>\n",
       "      <td>0.00000</td>\n",
       "      <td>5</td>\n",
       "      <td>558</td>\n",
       "    </tr>\n",
       "    <tr>\n",
       "      <td>18666</td>\n",
       "      <td>737347</td>\n",
       "      <td>0.00000</td>\n",
       "      <td>5</td>\n",
       "      <td>429</td>\n",
       "    </tr>\n",
       "    <tr>\n",
       "      <td>18667</td>\n",
       "      <td>737347</td>\n",
       "      <td>0.00000</td>\n",
       "      <td>5</td>\n",
       "      <td>447</td>\n",
       "    </tr>\n",
       "    <tr>\n",
       "      <td>18668</td>\n",
       "      <td>737347</td>\n",
       "      <td>0.00000</td>\n",
       "      <td>5</td>\n",
       "      <td>532</td>\n",
       "    </tr>\n",
       "    <tr>\n",
       "      <td>18669</td>\n",
       "      <td>737347</td>\n",
       "      <td>0.00000</td>\n",
       "      <td>5</td>\n",
       "      <td>113</td>\n",
       "    </tr>\n",
       "  </tbody>\n",
       "</table>\n",
       "<p>5027 rows × 4 columns</p>\n",
       "</div>"
      ],
      "text/plain": [
       "       Logged_Date   Shrink  modstation  moditem\n",
       "0           737333  1.64545           0      118\n",
       "1           737333  1.78307           0      484\n",
       "2           737333  1.27601           0      153\n",
       "3           737333  2.74776           0      220\n",
       "4           737333  6.93147           0      163\n",
       "...            ...      ...         ...      ...\n",
       "18665       737347  0.00000           5      558\n",
       "18666       737347  0.00000           5      429\n",
       "18667       737347  0.00000           5      447\n",
       "18668       737347  0.00000           5      532\n",
       "18669       737347  0.00000           5      113\n",
       "\n",
       "[5027 rows x 4 columns]"
      ]
     },
     "execution_count": 32,
     "metadata": {},
     "output_type": "execute_result"
    }
   ],
   "source": [
    "df_training"
   ]
  },
  {
   "cell_type": "code",
   "execution_count": 33,
   "metadata": {},
   "outputs": [
    {
     "data": {
      "text/html": [
       "<div>\n",
       "<style scoped>\n",
       "    .dataframe tbody tr th:only-of-type {\n",
       "        vertical-align: middle;\n",
       "    }\n",
       "\n",
       "    .dataframe tbody tr th {\n",
       "        vertical-align: top;\n",
       "    }\n",
       "\n",
       "    .dataframe thead th {\n",
       "        text-align: right;\n",
       "    }\n",
       "</style>\n",
       "<table border=\"1\" class=\"dataframe\">\n",
       "  <thead>\n",
       "    <tr style=\"text-align: right;\">\n",
       "      <th></th>\n",
       "      <th>Logged_Date</th>\n",
       "      <th>Shrink</th>\n",
       "      <th>modstation</th>\n",
       "      <th>moditem</th>\n",
       "    </tr>\n",
       "  </thead>\n",
       "  <tbody>\n",
       "    <tr>\n",
       "      <td>500</td>\n",
       "      <td>737348</td>\n",
       "      <td>0.00000</td>\n",
       "      <td>0</td>\n",
       "      <td>118</td>\n",
       "    </tr>\n",
       "    <tr>\n",
       "      <td>501</td>\n",
       "      <td>737348</td>\n",
       "      <td>0.00000</td>\n",
       "      <td>0</td>\n",
       "      <td>484</td>\n",
       "    </tr>\n",
       "    <tr>\n",
       "      <td>502</td>\n",
       "      <td>737348</td>\n",
       "      <td>1.91535</td>\n",
       "      <td>0</td>\n",
       "      <td>378</td>\n",
       "    </tr>\n",
       "    <tr>\n",
       "      <td>503</td>\n",
       "      <td>737348</td>\n",
       "      <td>0.23984</td>\n",
       "      <td>0</td>\n",
       "      <td>153</td>\n",
       "    </tr>\n",
       "    <tr>\n",
       "      <td>504</td>\n",
       "      <td>737348</td>\n",
       "      <td>0.00000</td>\n",
       "      <td>0</td>\n",
       "      <td>220</td>\n",
       "    </tr>\n",
       "    <tr>\n",
       "      <td>...</td>\n",
       "      <td>...</td>\n",
       "      <td>...</td>\n",
       "      <td>...</td>\n",
       "      <td>...</td>\n",
       "    </tr>\n",
       "    <tr>\n",
       "      <td>18802</td>\n",
       "      <td>737420</td>\n",
       "      <td>0.00000</td>\n",
       "      <td>5</td>\n",
       "      <td>59</td>\n",
       "    </tr>\n",
       "    <tr>\n",
       "      <td>18803</td>\n",
       "      <td>737422</td>\n",
       "      <td>0.00000</td>\n",
       "      <td>5</td>\n",
       "      <td>585</td>\n",
       "    </tr>\n",
       "    <tr>\n",
       "      <td>18804</td>\n",
       "      <td>737422</td>\n",
       "      <td>1.36485</td>\n",
       "      <td>5</td>\n",
       "      <td>723</td>\n",
       "    </tr>\n",
       "    <tr>\n",
       "      <td>18805</td>\n",
       "      <td>737423</td>\n",
       "      <td>0.98419</td>\n",
       "      <td>5</td>\n",
       "      <td>532</td>\n",
       "    </tr>\n",
       "    <tr>\n",
       "      <td>18806</td>\n",
       "      <td>737424</td>\n",
       "      <td>0.00000</td>\n",
       "      <td>5</td>\n",
       "      <td>532</td>\n",
       "    </tr>\n",
       "  </tbody>\n",
       "</table>\n",
       "<p>13780 rows × 4 columns</p>\n",
       "</div>"
      ],
      "text/plain": [
       "       Logged_Date   Shrink  modstation  moditem\n",
       "500         737348  0.00000           0      118\n",
       "501         737348  0.00000           0      484\n",
       "502         737348  1.91535           0      378\n",
       "503         737348  0.23984           0      153\n",
       "504         737348  0.00000           0      220\n",
       "...            ...      ...         ...      ...\n",
       "18802       737420  0.00000           5       59\n",
       "18803       737422  0.00000           5      585\n",
       "18804       737422  1.36485           5      723\n",
       "18805       737423  0.98419           5      532\n",
       "18806       737424  0.00000           5      532\n",
       "\n",
       "[13780 rows x 4 columns]"
      ]
     },
     "execution_count": 33,
     "metadata": {},
     "output_type": "execute_result"
    }
   ],
   "source": [
    "df_test"
   ]
  },
  {
   "cell_type": "markdown",
   "metadata": {},
   "source": [
    "# Training and Testing Sets"
   ]
  },
  {
   "cell_type": "markdown",
   "metadata": {},
   "source": [
    "### Features and Labels"
   ]
  },
  {
   "cell_type": "code",
   "execution_count": 34,
   "metadata": {},
   "outputs": [],
   "source": [
    "features = mod"
   ]
  },
  {
   "cell_type": "code",
   "execution_count": 35,
   "metadata": {},
   "outputs": [],
   "source": [
    "# Using numpy to convert to arrays\n",
    "# Labels are the values we want to predict\n",
    "labels = np.array(features['Shrink'])"
   ]
  },
  {
   "cell_type": "code",
   "execution_count": 36,
   "metadata": {},
   "outputs": [],
   "source": [
    "# Remove the labels from the features\n",
    "# axis 1 refers to the columns\n",
    "features= features.drop('Shrink', axis = 1)"
   ]
  },
  {
   "cell_type": "code",
   "execution_count": 37,
   "metadata": {},
   "outputs": [],
   "source": [
    "# Saving feature names for later use\n",
    "feature_list = list(features.columns)"
   ]
  },
  {
   "cell_type": "code",
   "execution_count": 38,
   "metadata": {},
   "outputs": [],
   "source": [
    "# Convert to numpy array\n",
    "features = np.array(features)"
   ]
  },
  {
   "cell_type": "code",
   "execution_count": 39,
   "metadata": {},
   "outputs": [
    {
     "data": {
      "text/plain": [
       "array([1.64545, 1.78307, 1.27601, ..., 1.36485, 0.98419, 0.     ])"
      ]
     },
     "execution_count": 39,
     "metadata": {},
     "output_type": "execute_result"
    }
   ],
   "source": [
    "labels"
   ]
  },
  {
   "cell_type": "code",
   "execution_count": 40,
   "metadata": {},
   "outputs": [
    {
     "data": {
      "text/plain": [
       "array([[737333,      0,    118],\n",
       "       [737333,      0,    484],\n",
       "       [737333,      0,    153],\n",
       "       ...,\n",
       "       [737422,      5,    723],\n",
       "       [737423,      5,    532],\n",
       "       [737424,      5,    532]])"
      ]
     },
     "execution_count": 40,
     "metadata": {},
     "output_type": "execute_result"
    }
   ],
   "source": [
    "features"
   ]
  },
  {
   "cell_type": "code",
   "execution_count": 41,
   "metadata": {},
   "outputs": [],
   "source": [
    "# Using Skicit-learn to split data into training and testing sets\n",
    "\n",
    "# Split the data into training and testing sets\n",
    "train_features, test_features, train_labels, test_labels = train_test_split(features, labels, test_size=0.2, shuffle=False)"
   ]
  },
  {
   "cell_type": "code",
   "execution_count": 42,
   "metadata": {},
   "outputs": [
    {
     "name": "stdout",
     "output_type": "stream",
     "text": [
      "Training Features Shape: (15045, 3)\n",
      "Training Labels Shape: (15045,)\n",
      "Testing Features Shape: (3762, 3)\n",
      "Testing Labels Shape: (3762,)\n"
     ]
    }
   ],
   "source": [
    "print('Training Features Shape:', train_features.shape)\n",
    "print('Training Labels Shape:', train_labels.shape)\n",
    "print('Testing Features Shape:', test_features.shape)\n",
    "print('Testing Labels Shape:', test_labels.shape)"
   ]
  },
  {
   "cell_type": "markdown",
   "metadata": {},
   "source": [
    "## Random Forest"
   ]
  },
  {
   "cell_type": "code",
   "execution_count": 43,
   "metadata": {},
   "outputs": [],
   "source": [
    "# Instantiate model \n",
    "from sklearn.ensemble import RandomForestRegressor\n",
    "\n",
    "rf = RandomForestRegressor(n_estimators= 1000, random_state=42)\n",
    "\n",
    "# Train the model on training data\n",
    "rf.fit(train_features, train_labels);"
   ]
  },
  {
   "cell_type": "code",
   "execution_count": 44,
   "metadata": {},
   "outputs": [
    {
     "data": {
      "text/plain": [
       "dtype('int64')"
      ]
     },
     "execution_count": 44,
     "metadata": {},
     "output_type": "execute_result"
    }
   ],
   "source": [
    "train_features.dtype"
   ]
  },
  {
   "cell_type": "code",
   "execution_count": 45,
   "metadata": {},
   "outputs": [
    {
     "data": {
      "text/plain": [
       "dtype('float64')"
      ]
     },
     "execution_count": 45,
     "metadata": {},
     "output_type": "execute_result"
    }
   ],
   "source": [
    "train_labels.dtype"
   ]
  },
  {
   "cell_type": "code",
   "execution_count": 46,
   "metadata": {},
   "outputs": [],
   "source": [
    "rf_new = RandomForestRegressor(n_estimators = 100, criterion = 'mse', max_depth = None, \n",
    "                               min_samples_split = 2, min_samples_leaf = 1)\n",
    "rf_new.fit(train_features, train_labels);"
   ]
  },
  {
   "cell_type": "code",
   "execution_count": 47,
   "metadata": {},
   "outputs": [],
   "source": [
    "# Use the forest's predict method on the test data\n",
    "predictions = rf_new.predict(test_features)"
   ]
  },
  {
   "cell_type": "code",
   "execution_count": 48,
   "metadata": {},
   "outputs": [],
   "source": [
    "# Calculate the absolute errors\n",
    "errors = abs(predictions - test_labels)"
   ]
  },
  {
   "cell_type": "code",
   "execution_count": 49,
   "metadata": {},
   "outputs": [
    {
     "name": "stdout",
     "output_type": "stream",
     "text": [
      "Mean Absolute Error: 1.32 degrees.\n"
     ]
    }
   ],
   "source": [
    "# Print out the mean absolute error (mae)\n",
    "print('Mean Absolute Error:', round(np.mean(errors), 2), 'degrees.')"
   ]
  },
  {
   "cell_type": "code",
   "execution_count": 50,
   "metadata": {},
   "outputs": [
    {
     "name": "stdout",
     "output_type": "stream",
     "text": [
      "Accuracy: [ -inf   nan  -inf ... 38.73  7.95  -inf] %.\n"
     ]
    },
    {
     "name": "stderr",
     "output_type": "stream",
     "text": [
      "/Library/Frameworks/Python.framework/Versions/3.7/lib/python3.7/site-packages/ipykernel_launcher.py:2: RuntimeWarning: divide by zero encountered in true_divide\n",
      "  \n",
      "/Library/Frameworks/Python.framework/Versions/3.7/lib/python3.7/site-packages/ipykernel_launcher.py:2: RuntimeWarning: invalid value encountered in true_divide\n",
      "  \n"
     ]
    }
   ],
   "source": [
    "# Calculate mean absolute percentage error (MAPE)\n",
    "mape = 100 * (errors / test_labels)\n",
    "# Calculate and display accuracy\n",
    "accuracy = 100 - mape\n",
    "print('Accuracy:', np.round(accuracy, 2), '%.')"
   ]
  },
  {
   "cell_type": "code",
   "execution_count": 51,
   "metadata": {},
   "outputs": [
    {
     "data": {
      "text/plain": [
       "-0.27411204310749815"
      ]
     },
     "execution_count": 51,
     "metadata": {},
     "output_type": "execute_result"
    }
   ],
   "source": [
    "from sklearn.metrics import explained_variance_score\n",
    "explained_variance_score(test_labels, predictions)"
   ]
  },
  {
   "cell_type": "code",
   "execution_count": 52,
   "metadata": {},
   "outputs": [
    {
     "data": {
      "text/plain": [
       "19.0658521"
      ]
     },
     "execution_count": 52,
     "metadata": {},
     "output_type": "execute_result"
    }
   ],
   "source": [
    "from sklearn.metrics import max_error\n",
    "max_error(test_labels, predictions)"
   ]
  },
  {
   "cell_type": "code",
   "execution_count": 53,
   "metadata": {},
   "outputs": [
    {
     "data": {
      "text/plain": [
       "-0.276125573877922"
      ]
     },
     "execution_count": 53,
     "metadata": {},
     "output_type": "execute_result"
    }
   ],
   "source": [
    "from sklearn.metrics import r2_score\n",
    "r2_score(test_labels, predictions)"
   ]
  },
  {
   "cell_type": "code",
   "execution_count": 54,
   "metadata": {},
   "outputs": [],
   "source": [
    "rfer = mean_absolute_error(test_labels, predictions)"
   ]
  },
  {
   "cell_type": "code",
   "execution_count": 55,
   "metadata": {},
   "outputs": [
    {
     "data": {
      "text/plain": [
       "1.32464464289096"
      ]
     },
     "execution_count": 55,
     "metadata": {},
     "output_type": "execute_result"
    }
   ],
   "source": [
    "rfer"
   ]
  },
  {
   "cell_type": "code",
   "execution_count": 56,
   "metadata": {},
   "outputs": [
    {
     "data": {
      "image/png": "[encoded data removed]",
      "text/plain": [
       "<Figure size 576x396 with 1 Axes>"
      ]
     },
     "metadata": {},
     "output_type": "display_data"
    }
   ],
   "source": [
    "plt.plot(test_labels, color='green')\n",
    "plt.show()"
   ]
  },
  {
   "cell_type": "code",
   "execution_count": 57,
   "metadata": {
    "scrolled": true
   },
   "outputs": [
    {
     "data": {
      "image/png": "[encoded data removed]",
      "text/plain": [
       "<Figure size 576x396 with 1 Axes>"
      ]
     },
     "metadata": {},
     "output_type": "display_data"
    }
   ],
   "source": [
    "plt.plot(test_labels, color='green')\n",
    "plt.plot(predictions, color='blue')\n",
    "\n",
    "plt.show()"
   ]
  },
  {
   "cell_type": "code",
   "execution_count": 58,
   "metadata": {},
   "outputs": [
    {
     "data": {
      "text/html": [
       "<div>\n",
       "<style scoped>\n",
       "    .dataframe tbody tr th:only-of-type {\n",
       "        vertical-align: middle;\n",
       "    }\n",
       "\n",
       "    .dataframe tbody tr th {\n",
       "        vertical-align: top;\n",
       "    }\n",
       "\n",
       "    .dataframe thead th {\n",
       "        text-align: right;\n",
       "    }\n",
       "</style>\n",
       "<table border=\"1\" class=\"dataframe\">\n",
       "  <thead>\n",
       "    <tr style=\"text-align: right;\">\n",
       "      <th></th>\n",
       "      <th>Logged_Date</th>\n",
       "      <th>Station</th>\n",
       "      <th>PLU</th>\n",
       "      <th>Item_Name</th>\n",
       "      <th>Served</th>\n",
       "      <th>Saved</th>\n",
       "      <th>Shrink</th>\n",
       "      <th>Sold</th>\n",
       "      <th>Location</th>\n",
       "    </tr>\n",
       "  </thead>\n",
       "  <tbody>\n",
       "    <tr>\n",
       "      <td>0</td>\n",
       "      <td>2019-10-01</td>\n",
       "      <td>HB</td>\n",
       "      <td>26747000000</td>\n",
       "      <td>Cajun Wedged Sweet Potatoes</td>\n",
       "      <td>13.91137</td>\n",
       "      <td>0.0</td>\n",
       "      <td>1.64545</td>\n",
       "      <td>12.26592</td>\n",
       "      <td>Dedham</td>\n",
       "    </tr>\n",
       "    <tr>\n",
       "      <td>1</td>\n",
       "      <td>2019-10-01</td>\n",
       "      <td>HB</td>\n",
       "      <td>46000001661</td>\n",
       "      <td>Plantains</td>\n",
       "      <td>4.80615</td>\n",
       "      <td>0.0</td>\n",
       "      <td>1.78307</td>\n",
       "      <td>3.02308</td>\n",
       "      <td>Dedham</td>\n",
       "    </tr>\n",
       "    <tr>\n",
       "      <td>2</td>\n",
       "      <td>2019-10-01</td>\n",
       "      <td>HB</td>\n",
       "      <td>46000005678</td>\n",
       "      <td>Chicken Cacciatore</td>\n",
       "      <td>22.88980</td>\n",
       "      <td>0.0</td>\n",
       "      <td>1.27601</td>\n",
       "      <td>21.61379</td>\n",
       "      <td>Dedham</td>\n",
       "    </tr>\n",
       "    <tr>\n",
       "      <td>3</td>\n",
       "      <td>2019-10-01</td>\n",
       "      <td>HB</td>\n",
       "      <td>46000007290</td>\n",
       "      <td>Curried Cauliflower</td>\n",
       "      <td>18.25448</td>\n",
       "      <td>0.0</td>\n",
       "      <td>2.74776</td>\n",
       "      <td>15.50672</td>\n",
       "      <td>Dedham</td>\n",
       "    </tr>\n",
       "    <tr>\n",
       "      <td>4</td>\n",
       "      <td>2019-10-01</td>\n",
       "      <td>HB</td>\n",
       "      <td>46000007582</td>\n",
       "      <td>Chicken Tenders</td>\n",
       "      <td>45.77823</td>\n",
       "      <td>0.0</td>\n",
       "      <td>6.93147</td>\n",
       "      <td>38.84676</td>\n",
       "      <td>Dedham</td>\n",
       "    </tr>\n",
       "    <tr>\n",
       "      <td>...</td>\n",
       "      <td>...</td>\n",
       "      <td>...</td>\n",
       "      <td>...</td>\n",
       "      <td>...</td>\n",
       "      <td>...</td>\n",
       "      <td>...</td>\n",
       "      <td>...</td>\n",
       "      <td>...</td>\n",
       "      <td>...</td>\n",
       "    </tr>\n",
       "    <tr>\n",
       "      <td>18802</td>\n",
       "      <td>2019-12-27</td>\n",
       "      <td>SB</td>\n",
       "      <td>46000055829</td>\n",
       "      <td>Blanched Green Beans</td>\n",
       "      <td>3.54743</td>\n",
       "      <td>0.0</td>\n",
       "      <td>0.00000</td>\n",
       "      <td>3.54743</td>\n",
       "      <td>Cranston</td>\n",
       "    </tr>\n",
       "    <tr>\n",
       "      <td>18803</td>\n",
       "      <td>2019-12-29</td>\n",
       "      <td>SB</td>\n",
       "      <td>46000007609</td>\n",
       "      <td>Salad, Kale &amp; Brussels Sprouts SB NA</td>\n",
       "      <td>4.78202</td>\n",
       "      <td>0.0</td>\n",
       "      <td>0.00000</td>\n",
       "      <td>4.78202</td>\n",
       "      <td>Cranston</td>\n",
       "    </tr>\n",
       "    <tr>\n",
       "      <td>18804</td>\n",
       "      <td>2019-12-29</td>\n",
       "      <td>SB</td>\n",
       "      <td>46000055823</td>\n",
       "      <td>gigande beans in vinaigrette</td>\n",
       "      <td>2.64353</td>\n",
       "      <td>0.0</td>\n",
       "      <td>1.36485</td>\n",
       "      <td>1.27868</td>\n",
       "      <td>Cranston</td>\n",
       "    </tr>\n",
       "    <tr>\n",
       "      <td>18805</td>\n",
       "      <td>2019-12-30</td>\n",
       "      <td>SB</td>\n",
       "      <td>46000057614</td>\n",
       "      <td>Roasted Brussel Sprouts</td>\n",
       "      <td>5.55364</td>\n",
       "      <td>0.0</td>\n",
       "      <td>0.98419</td>\n",
       "      <td>4.56945</td>\n",
       "      <td>Cranston</td>\n",
       "    </tr>\n",
       "    <tr>\n",
       "      <td>18806</td>\n",
       "      <td>2019-12-31</td>\n",
       "      <td>SB</td>\n",
       "      <td>46000057614</td>\n",
       "      <td>Roasted Brussel Sprouts</td>\n",
       "      <td>4.09859</td>\n",
       "      <td>0.0</td>\n",
       "      <td>0.00000</td>\n",
       "      <td>4.09859</td>\n",
       "      <td>Cranston</td>\n",
       "    </tr>\n",
       "  </tbody>\n",
       "</table>\n",
       "<p>18807 rows × 9 columns</p>\n",
       "</div>"
      ],
      "text/plain": [
       "      Logged_Date Station          PLU                             Item_Name  \\\n",
       "0      2019-10-01      HB  26747000000          Cajun Wedged Sweet Potatoes    \n",
       "1      2019-10-01      HB  46000001661                             Plantains   \n",
       "2      2019-10-01      HB  46000005678                   Chicken Cacciatore    \n",
       "3      2019-10-01      HB  46000007290                   Curried Cauliflower   \n",
       "4      2019-10-01      HB  46000007582                       Chicken Tenders   \n",
       "...           ...     ...          ...                                   ...   \n",
       "18802  2019-12-27      SB  46000055829                  Blanched Green Beans   \n",
       "18803  2019-12-29      SB  46000007609  Salad, Kale & Brussels Sprouts SB NA   \n",
       "18804  2019-12-29      SB  46000055823          gigande beans in vinaigrette   \n",
       "18805  2019-12-30      SB  46000057614               Roasted Brussel Sprouts   \n",
       "18806  2019-12-31      SB  46000057614               Roasted Brussel Sprouts   \n",
       "\n",
       "         Served  Saved   Shrink      Sold  Location  \n",
       "0      13.91137    0.0  1.64545  12.26592    Dedham  \n",
       "1       4.80615    0.0  1.78307   3.02308    Dedham  \n",
       "2      22.88980    0.0  1.27601  21.61379    Dedham  \n",
       "3      18.25448    0.0  2.74776  15.50672    Dedham  \n",
       "4      45.77823    0.0  6.93147  38.84676    Dedham  \n",
       "...         ...    ...      ...       ...       ...  \n",
       "18802   3.54743    0.0  0.00000   3.54743  Cranston  \n",
       "18803   4.78202    0.0  0.00000   4.78202  Cranston  \n",
       "18804   2.64353    0.0  1.36485   1.27868  Cranston  \n",
       "18805   5.55364    0.0  0.98419   4.56945  Cranston  \n",
       "18806   4.09859    0.0  0.00000   4.09859  Cranston  \n",
       "\n",
       "[18807 rows x 9 columns]"
      ]
     },
     "execution_count": 58,
     "metadata": {},
     "output_type": "execute_result"
    }
   ],
   "source": [
    "mod = file0\n",
    "mod"
   ]
  },
  {
   "cell_type": "code",
   "execution_count": 59,
   "metadata": {},
   "outputs": [],
   "source": [
    "mod = mod.filter(['Item_Name','Logged_Date','Station','Sold'], axis=1)"
   ]
  },
  {
   "cell_type": "code",
   "execution_count": 60,
   "metadata": {},
   "outputs": [
    {
     "data": {
      "text/html": [
       "<div>\n",
       "<style scoped>\n",
       "    .dataframe tbody tr th:only-of-type {\n",
       "        vertical-align: middle;\n",
       "    }\n",
       "\n",
       "    .dataframe tbody tr th {\n",
       "        vertical-align: top;\n",
       "    }\n",
       "\n",
       "    .dataframe thead th {\n",
       "        text-align: right;\n",
       "    }\n",
       "</style>\n",
       "<table border=\"1\" class=\"dataframe\">\n",
       "  <thead>\n",
       "    <tr style=\"text-align: right;\">\n",
       "      <th></th>\n",
       "      <th>Item_Name</th>\n",
       "      <th>Logged_Date</th>\n",
       "      <th>Station</th>\n",
       "      <th>Sold</th>\n",
       "    </tr>\n",
       "  </thead>\n",
       "  <tbody>\n",
       "    <tr>\n",
       "      <td>0</td>\n",
       "      <td>Cajun Wedged Sweet Potatoes</td>\n",
       "      <td>2019-10-01</td>\n",
       "      <td>HB</td>\n",
       "      <td>12.26592</td>\n",
       "    </tr>\n",
       "    <tr>\n",
       "      <td>1</td>\n",
       "      <td>Plantains</td>\n",
       "      <td>2019-10-01</td>\n",
       "      <td>HB</td>\n",
       "      <td>3.02308</td>\n",
       "    </tr>\n",
       "    <tr>\n",
       "      <td>2</td>\n",
       "      <td>Chicken Cacciatore</td>\n",
       "      <td>2019-10-01</td>\n",
       "      <td>HB</td>\n",
       "      <td>21.61379</td>\n",
       "    </tr>\n",
       "    <tr>\n",
       "      <td>3</td>\n",
       "      <td>Curried Cauliflower</td>\n",
       "      <td>2019-10-01</td>\n",
       "      <td>HB</td>\n",
       "      <td>15.50672</td>\n",
       "    </tr>\n",
       "    <tr>\n",
       "      <td>4</td>\n",
       "      <td>Chicken Tenders</td>\n",
       "      <td>2019-10-01</td>\n",
       "      <td>HB</td>\n",
       "      <td>38.84676</td>\n",
       "    </tr>\n",
       "    <tr>\n",
       "      <td>...</td>\n",
       "      <td>...</td>\n",
       "      <td>...</td>\n",
       "      <td>...</td>\n",
       "      <td>...</td>\n",
       "    </tr>\n",
       "    <tr>\n",
       "      <td>18802</td>\n",
       "      <td>Blanched Green Beans</td>\n",
       "      <td>2019-12-27</td>\n",
       "      <td>SB</td>\n",
       "      <td>3.54743</td>\n",
       "    </tr>\n",
       "    <tr>\n",
       "      <td>18803</td>\n",
       "      <td>Salad, Kale &amp; Brussels Sprouts SB NA</td>\n",
       "      <td>2019-12-29</td>\n",
       "      <td>SB</td>\n",
       "      <td>4.78202</td>\n",
       "    </tr>\n",
       "    <tr>\n",
       "      <td>18804</td>\n",
       "      <td>gigande beans in vinaigrette</td>\n",
       "      <td>2019-12-29</td>\n",
       "      <td>SB</td>\n",
       "      <td>1.27868</td>\n",
       "    </tr>\n",
       "    <tr>\n",
       "      <td>18805</td>\n",
       "      <td>Roasted Brussel Sprouts</td>\n",
       "      <td>2019-12-30</td>\n",
       "      <td>SB</td>\n",
       "      <td>4.56945</td>\n",
       "    </tr>\n",
       "    <tr>\n",
       "      <td>18806</td>\n",
       "      <td>Roasted Brussel Sprouts</td>\n",
       "      <td>2019-12-31</td>\n",
       "      <td>SB</td>\n",
       "      <td>4.09859</td>\n",
       "    </tr>\n",
       "  </tbody>\n",
       "</table>\n",
       "<p>18807 rows × 4 columns</p>\n",
       "</div>"
      ],
      "text/plain": [
       "                                  Item_Name Logged_Date Station      Sold\n",
       "0              Cajun Wedged Sweet Potatoes   2019-10-01      HB  12.26592\n",
       "1                                 Plantains  2019-10-01      HB   3.02308\n",
       "2                       Chicken Cacciatore   2019-10-01      HB  21.61379\n",
       "3                       Curried Cauliflower  2019-10-01      HB  15.50672\n",
       "4                           Chicken Tenders  2019-10-01      HB  38.84676\n",
       "...                                     ...         ...     ...       ...\n",
       "18802                  Blanched Green Beans  2019-12-27      SB   3.54743\n",
       "18803  Salad, Kale & Brussels Sprouts SB NA  2019-12-29      SB   4.78202\n",
       "18804          gigande beans in vinaigrette  2019-12-29      SB   1.27868\n",
       "18805               Roasted Brussel Sprouts  2019-12-30      SB   4.56945\n",
       "18806               Roasted Brussel Sprouts  2019-12-31      SB   4.09859\n",
       "\n",
       "[18807 rows x 4 columns]"
      ]
     },
     "execution_count": 60,
     "metadata": {},
     "output_type": "execute_result"
    }
   ],
   "source": [
    "mod"
   ]
  },
  {
   "cell_type": "code",
   "execution_count": 61,
   "metadata": {},
   "outputs": [
    {
     "data": {
      "text/html": [
       "<div>\n",
       "<style scoped>\n",
       "    .dataframe tbody tr th:only-of-type {\n",
       "        vertical-align: middle;\n",
       "    }\n",
       "\n",
       "    .dataframe tbody tr th {\n",
       "        vertical-align: top;\n",
       "    }\n",
       "\n",
       "    .dataframe thead th {\n",
       "        text-align: right;\n",
       "    }\n",
       "</style>\n",
       "<table border=\"1\" class=\"dataframe\">\n",
       "  <thead>\n",
       "    <tr style=\"text-align: right;\">\n",
       "      <th></th>\n",
       "      <th>Item_Name</th>\n",
       "      <th>Logged_Date</th>\n",
       "      <th>Station</th>\n",
       "      <th>Sold</th>\n",
       "    </tr>\n",
       "  </thead>\n",
       "  <tbody>\n",
       "    <tr>\n",
       "      <td>0</td>\n",
       "      <td>Cajun Wedged Sweet Potatoes</td>\n",
       "      <td>2019-10-01</td>\n",
       "      <td>HB</td>\n",
       "      <td>12.26592</td>\n",
       "    </tr>\n",
       "    <tr>\n",
       "      <td>1</td>\n",
       "      <td>Plantains</td>\n",
       "      <td>2019-10-01</td>\n",
       "      <td>HB</td>\n",
       "      <td>3.02308</td>\n",
       "    </tr>\n",
       "    <tr>\n",
       "      <td>2</td>\n",
       "      <td>Chicken Cacciatore</td>\n",
       "      <td>2019-10-01</td>\n",
       "      <td>HB</td>\n",
       "      <td>21.61379</td>\n",
       "    </tr>\n",
       "    <tr>\n",
       "      <td>3</td>\n",
       "      <td>Curried Cauliflower</td>\n",
       "      <td>2019-10-01</td>\n",
       "      <td>HB</td>\n",
       "      <td>15.50672</td>\n",
       "    </tr>\n",
       "    <tr>\n",
       "      <td>4</td>\n",
       "      <td>Chicken Tenders</td>\n",
       "      <td>2019-10-01</td>\n",
       "      <td>HB</td>\n",
       "      <td>38.84676</td>\n",
       "    </tr>\n",
       "    <tr>\n",
       "      <td>...</td>\n",
       "      <td>...</td>\n",
       "      <td>...</td>\n",
       "      <td>...</td>\n",
       "      <td>...</td>\n",
       "    </tr>\n",
       "    <tr>\n",
       "      <td>18802</td>\n",
       "      <td>Blanched Green Beans</td>\n",
       "      <td>2019-12-27</td>\n",
       "      <td>SB</td>\n",
       "      <td>3.54743</td>\n",
       "    </tr>\n",
       "    <tr>\n",
       "      <td>18803</td>\n",
       "      <td>Salad, Kale &amp; Brussels Sprouts SB NA</td>\n",
       "      <td>2019-12-29</td>\n",
       "      <td>SB</td>\n",
       "      <td>4.78202</td>\n",
       "    </tr>\n",
       "    <tr>\n",
       "      <td>18804</td>\n",
       "      <td>gigande beans in vinaigrette</td>\n",
       "      <td>2019-12-29</td>\n",
       "      <td>SB</td>\n",
       "      <td>1.27868</td>\n",
       "    </tr>\n",
       "    <tr>\n",
       "      <td>18805</td>\n",
       "      <td>Roasted Brussel Sprouts</td>\n",
       "      <td>2019-12-30</td>\n",
       "      <td>SB</td>\n",
       "      <td>4.56945</td>\n",
       "    </tr>\n",
       "    <tr>\n",
       "      <td>18806</td>\n",
       "      <td>Roasted Brussel Sprouts</td>\n",
       "      <td>2019-12-31</td>\n",
       "      <td>SB</td>\n",
       "      <td>4.09859</td>\n",
       "    </tr>\n",
       "  </tbody>\n",
       "</table>\n",
       "<p>18807 rows × 4 columns</p>\n",
       "</div>"
      ],
      "text/plain": [
       "                                  Item_Name Logged_Date Station      Sold\n",
       "0              Cajun Wedged Sweet Potatoes   2019-10-01      HB  12.26592\n",
       "1                                 Plantains  2019-10-01      HB   3.02308\n",
       "2                       Chicken Cacciatore   2019-10-01      HB  21.61379\n",
       "3                       Curried Cauliflower  2019-10-01      HB  15.50672\n",
       "4                           Chicken Tenders  2019-10-01      HB  38.84676\n",
       "...                                     ...         ...     ...       ...\n",
       "18802                  Blanched Green Beans  2019-12-27      SB   3.54743\n",
       "18803  Salad, Kale & Brussels Sprouts SB NA  2019-12-29      SB   4.78202\n",
       "18804          gigande beans in vinaigrette  2019-12-29      SB   1.27868\n",
       "18805               Roasted Brussel Sprouts  2019-12-30      SB   4.56945\n",
       "18806               Roasted Brussel Sprouts  2019-12-31      SB   4.09859\n",
       "\n",
       "[18807 rows x 4 columns]"
      ]
     },
     "execution_count": 61,
     "metadata": {},
     "output_type": "execute_result"
    }
   ],
   "source": [
    "mod['Logged_Date'] = pd.to_datetime(mod['Logged_Date'])\n",
    "mod"
   ]
  },
  {
   "cell_type": "code",
   "execution_count": 62,
   "metadata": {},
   "outputs": [
    {
     "data": {
      "text/plain": [
       "LabelEncoder()"
      ]
     },
     "execution_count": 62,
     "metadata": {},
     "output_type": "execute_result"
    }
   ],
   "source": [
    "le = preprocessing.LabelEncoder()\n",
    "le.fit(mod['Station'])"
   ]
  },
  {
   "cell_type": "code",
   "execution_count": 63,
   "metadata": {},
   "outputs": [
    {
     "data": {
      "text/plain": [
       "['HB',\n",
       " 'Hot Bar - ITALIAN',\n",
       " 'Hot Bar-Breakfast',\n",
       " 'Hot Bar-Fall Asian',\n",
       " 'Hot Bar-Oktoberfest',\n",
       " 'SB',\n",
       " 'SO']"
      ]
     },
     "execution_count": 63,
     "metadata": {},
     "output_type": "execute_result"
    }
   ],
   "source": [
    "# View the labels (if you want)\n",
    "list(le.classes_)\n"
   ]
  },
  {
   "cell_type": "code",
   "execution_count": 64,
   "metadata": {},
   "outputs": [],
   "source": [
    "# Apply the fitted encoder to the pandas column\n",
    "mod['modstation'] = le.transform(mod['Station'])"
   ]
  },
  {
   "cell_type": "code",
   "execution_count": 65,
   "metadata": {},
   "outputs": [],
   "source": [
    "le = preprocessing.LabelEncoder()\n",
    "le.fit(mod['Item_Name'])\n",
    "list(le.classes_)\n",
    "# Apply the fitted encoder to the pandas column\n",
    "mod['moditem'] = le.transform(mod['Item_Name'])"
   ]
  },
  {
   "cell_type": "code",
   "execution_count": 66,
   "metadata": {},
   "outputs": [
    {
     "data": {
      "text/html": [
       "<div>\n",
       "<style scoped>\n",
       "    .dataframe tbody tr th:only-of-type {\n",
       "        vertical-align: middle;\n",
       "    }\n",
       "\n",
       "    .dataframe tbody tr th {\n",
       "        vertical-align: top;\n",
       "    }\n",
       "\n",
       "    .dataframe thead th {\n",
       "        text-align: right;\n",
       "    }\n",
       "</style>\n",
       "<table border=\"1\" class=\"dataframe\">\n",
       "  <thead>\n",
       "    <tr style=\"text-align: right;\">\n",
       "      <th></th>\n",
       "      <th>Item_Name</th>\n",
       "      <th>Logged_Date</th>\n",
       "      <th>Station</th>\n",
       "      <th>Sold</th>\n",
       "      <th>modstation</th>\n",
       "      <th>moditem</th>\n",
       "    </tr>\n",
       "  </thead>\n",
       "  <tbody>\n",
       "    <tr>\n",
       "      <td>0</td>\n",
       "      <td>Cajun Wedged Sweet Potatoes</td>\n",
       "      <td>2019-10-01</td>\n",
       "      <td>HB</td>\n",
       "      <td>12.26592</td>\n",
       "      <td>0</td>\n",
       "      <td>118</td>\n",
       "    </tr>\n",
       "    <tr>\n",
       "      <td>1</td>\n",
       "      <td>Plantains</td>\n",
       "      <td>2019-10-01</td>\n",
       "      <td>HB</td>\n",
       "      <td>3.02308</td>\n",
       "      <td>0</td>\n",
       "      <td>484</td>\n",
       "    </tr>\n",
       "    <tr>\n",
       "      <td>2</td>\n",
       "      <td>Chicken Cacciatore</td>\n",
       "      <td>2019-10-01</td>\n",
       "      <td>HB</td>\n",
       "      <td>21.61379</td>\n",
       "      <td>0</td>\n",
       "      <td>153</td>\n",
       "    </tr>\n",
       "    <tr>\n",
       "      <td>3</td>\n",
       "      <td>Curried Cauliflower</td>\n",
       "      <td>2019-10-01</td>\n",
       "      <td>HB</td>\n",
       "      <td>15.50672</td>\n",
       "      <td>0</td>\n",
       "      <td>220</td>\n",
       "    </tr>\n",
       "    <tr>\n",
       "      <td>4</td>\n",
       "      <td>Chicken Tenders</td>\n",
       "      <td>2019-10-01</td>\n",
       "      <td>HB</td>\n",
       "      <td>38.84676</td>\n",
       "      <td>0</td>\n",
       "      <td>163</td>\n",
       "    </tr>\n",
       "    <tr>\n",
       "      <td>...</td>\n",
       "      <td>...</td>\n",
       "      <td>...</td>\n",
       "      <td>...</td>\n",
       "      <td>...</td>\n",
       "      <td>...</td>\n",
       "      <td>...</td>\n",
       "    </tr>\n",
       "    <tr>\n",
       "      <td>18802</td>\n",
       "      <td>Blanched Green Beans</td>\n",
       "      <td>2019-12-27</td>\n",
       "      <td>SB</td>\n",
       "      <td>3.54743</td>\n",
       "      <td>5</td>\n",
       "      <td>59</td>\n",
       "    </tr>\n",
       "    <tr>\n",
       "      <td>18803</td>\n",
       "      <td>Salad, Kale &amp; Brussels Sprouts SB NA</td>\n",
       "      <td>2019-12-29</td>\n",
       "      <td>SB</td>\n",
       "      <td>4.78202</td>\n",
       "      <td>5</td>\n",
       "      <td>585</td>\n",
       "    </tr>\n",
       "    <tr>\n",
       "      <td>18804</td>\n",
       "      <td>gigande beans in vinaigrette</td>\n",
       "      <td>2019-12-29</td>\n",
       "      <td>SB</td>\n",
       "      <td>1.27868</td>\n",
       "      <td>5</td>\n",
       "      <td>723</td>\n",
       "    </tr>\n",
       "    <tr>\n",
       "      <td>18805</td>\n",
       "      <td>Roasted Brussel Sprouts</td>\n",
       "      <td>2019-12-30</td>\n",
       "      <td>SB</td>\n",
       "      <td>4.56945</td>\n",
       "      <td>5</td>\n",
       "      <td>532</td>\n",
       "    </tr>\n",
       "    <tr>\n",
       "      <td>18806</td>\n",
       "      <td>Roasted Brussel Sprouts</td>\n",
       "      <td>2019-12-31</td>\n",
       "      <td>SB</td>\n",
       "      <td>4.09859</td>\n",
       "      <td>5</td>\n",
       "      <td>532</td>\n",
       "    </tr>\n",
       "  </tbody>\n",
       "</table>\n",
       "<p>18807 rows × 6 columns</p>\n",
       "</div>"
      ],
      "text/plain": [
       "                                  Item_Name Logged_Date Station      Sold  \\\n",
       "0              Cajun Wedged Sweet Potatoes   2019-10-01      HB  12.26592   \n",
       "1                                 Plantains  2019-10-01      HB   3.02308   \n",
       "2                       Chicken Cacciatore   2019-10-01      HB  21.61379   \n",
       "3                       Curried Cauliflower  2019-10-01      HB  15.50672   \n",
       "4                           Chicken Tenders  2019-10-01      HB  38.84676   \n",
       "...                                     ...         ...     ...       ...   \n",
       "18802                  Blanched Green Beans  2019-12-27      SB   3.54743   \n",
       "18803  Salad, Kale & Brussels Sprouts SB NA  2019-12-29      SB   4.78202   \n",
       "18804          gigande beans in vinaigrette  2019-12-29      SB   1.27868   \n",
       "18805               Roasted Brussel Sprouts  2019-12-30      SB   4.56945   \n",
       "18806               Roasted Brussel Sprouts  2019-12-31      SB   4.09859   \n",
       "\n",
       "       modstation  moditem  \n",
       "0               0      118  \n",
       "1               0      484  \n",
       "2               0      153  \n",
       "3               0      220  \n",
       "4               0      163  \n",
       "...           ...      ...  \n",
       "18802           5       59  \n",
       "18803           5      585  \n",
       "18804           5      723  \n",
       "18805           5      532  \n",
       "18806           5      532  \n",
       "\n",
       "[18807 rows x 6 columns]"
      ]
     },
     "execution_count": 66,
     "metadata": {},
     "output_type": "execute_result"
    }
   ],
   "source": [
    "mod"
   ]
  },
  {
   "cell_type": "code",
   "execution_count": 67,
   "metadata": {},
   "outputs": [
    {
     "data": {
      "text/html": [
       "<div>\n",
       "<style scoped>\n",
       "    .dataframe tbody tr th:only-of-type {\n",
       "        vertical-align: middle;\n",
       "    }\n",
       "\n",
       "    .dataframe tbody tr th {\n",
       "        vertical-align: top;\n",
       "    }\n",
       "\n",
       "    .dataframe thead th {\n",
       "        text-align: right;\n",
       "    }\n",
       "</style>\n",
       "<table border=\"1\" class=\"dataframe\">\n",
       "  <thead>\n",
       "    <tr style=\"text-align: right;\">\n",
       "      <th></th>\n",
       "      <th>Item_Name</th>\n",
       "      <th>Logged_Date</th>\n",
       "      <th>Station</th>\n",
       "      <th>Sold</th>\n",
       "      <th>modstation</th>\n",
       "      <th>moditem</th>\n",
       "    </tr>\n",
       "  </thead>\n",
       "  <tbody>\n",
       "    <tr>\n",
       "      <td>0</td>\n",
       "      <td>Cajun Wedged Sweet Potatoes</td>\n",
       "      <td>737333</td>\n",
       "      <td>HB</td>\n",
       "      <td>12.26592</td>\n",
       "      <td>0</td>\n",
       "      <td>118</td>\n",
       "    </tr>\n",
       "    <tr>\n",
       "      <td>1</td>\n",
       "      <td>Plantains</td>\n",
       "      <td>737333</td>\n",
       "      <td>HB</td>\n",
       "      <td>3.02308</td>\n",
       "      <td>0</td>\n",
       "      <td>484</td>\n",
       "    </tr>\n",
       "    <tr>\n",
       "      <td>2</td>\n",
       "      <td>Chicken Cacciatore</td>\n",
       "      <td>737333</td>\n",
       "      <td>HB</td>\n",
       "      <td>21.61379</td>\n",
       "      <td>0</td>\n",
       "      <td>153</td>\n",
       "    </tr>\n",
       "    <tr>\n",
       "      <td>3</td>\n",
       "      <td>Curried Cauliflower</td>\n",
       "      <td>737333</td>\n",
       "      <td>HB</td>\n",
       "      <td>15.50672</td>\n",
       "      <td>0</td>\n",
       "      <td>220</td>\n",
       "    </tr>\n",
       "    <tr>\n",
       "      <td>4</td>\n",
       "      <td>Chicken Tenders</td>\n",
       "      <td>737333</td>\n",
       "      <td>HB</td>\n",
       "      <td>38.84676</td>\n",
       "      <td>0</td>\n",
       "      <td>163</td>\n",
       "    </tr>\n",
       "    <tr>\n",
       "      <td>...</td>\n",
       "      <td>...</td>\n",
       "      <td>...</td>\n",
       "      <td>...</td>\n",
       "      <td>...</td>\n",
       "      <td>...</td>\n",
       "      <td>...</td>\n",
       "    </tr>\n",
       "    <tr>\n",
       "      <td>18802</td>\n",
       "      <td>Blanched Green Beans</td>\n",
       "      <td>737420</td>\n",
       "      <td>SB</td>\n",
       "      <td>3.54743</td>\n",
       "      <td>5</td>\n",
       "      <td>59</td>\n",
       "    </tr>\n",
       "    <tr>\n",
       "      <td>18803</td>\n",
       "      <td>Salad, Kale &amp; Brussels Sprouts SB NA</td>\n",
       "      <td>737422</td>\n",
       "      <td>SB</td>\n",
       "      <td>4.78202</td>\n",
       "      <td>5</td>\n",
       "      <td>585</td>\n",
       "    </tr>\n",
       "    <tr>\n",
       "      <td>18804</td>\n",
       "      <td>gigande beans in vinaigrette</td>\n",
       "      <td>737422</td>\n",
       "      <td>SB</td>\n",
       "      <td>1.27868</td>\n",
       "      <td>5</td>\n",
       "      <td>723</td>\n",
       "    </tr>\n",
       "    <tr>\n",
       "      <td>18805</td>\n",
       "      <td>Roasted Brussel Sprouts</td>\n",
       "      <td>737423</td>\n",
       "      <td>SB</td>\n",
       "      <td>4.56945</td>\n",
       "      <td>5</td>\n",
       "      <td>532</td>\n",
       "    </tr>\n",
       "    <tr>\n",
       "      <td>18806</td>\n",
       "      <td>Roasted Brussel Sprouts</td>\n",
       "      <td>737424</td>\n",
       "      <td>SB</td>\n",
       "      <td>4.09859</td>\n",
       "      <td>5</td>\n",
       "      <td>532</td>\n",
       "    </tr>\n",
       "  </tbody>\n",
       "</table>\n",
       "<p>18807 rows × 6 columns</p>\n",
       "</div>"
      ],
      "text/plain": [
       "                                  Item_Name  Logged_Date Station      Sold  \\\n",
       "0              Cajun Wedged Sweet Potatoes        737333      HB  12.26592   \n",
       "1                                 Plantains       737333      HB   3.02308   \n",
       "2                       Chicken Cacciatore        737333      HB  21.61379   \n",
       "3                       Curried Cauliflower       737333      HB  15.50672   \n",
       "4                           Chicken Tenders       737333      HB  38.84676   \n",
       "...                                     ...          ...     ...       ...   \n",
       "18802                  Blanched Green Beans       737420      SB   3.54743   \n",
       "18803  Salad, Kale & Brussels Sprouts SB NA       737422      SB   4.78202   \n",
       "18804          gigande beans in vinaigrette       737422      SB   1.27868   \n",
       "18805               Roasted Brussel Sprouts       737423      SB   4.56945   \n",
       "18806               Roasted Brussel Sprouts       737424      SB   4.09859   \n",
       "\n",
       "       modstation  moditem  \n",
       "0               0      118  \n",
       "1               0      484  \n",
       "2               0      153  \n",
       "3               0      220  \n",
       "4               0      163  \n",
       "...           ...      ...  \n",
       "18802           5       59  \n",
       "18803           5      585  \n",
       "18804           5      723  \n",
       "18805           5      532  \n",
       "18806           5      532  \n",
       "\n",
       "[18807 rows x 6 columns]"
      ]
     },
     "execution_count": 67,
     "metadata": {},
     "output_type": "execute_result"
    }
   ],
   "source": [
    "mod['Logged_Date'] = mod['Logged_Date'].apply(lambda x: x.toordinal())\n",
    "mod"
   ]
  },
  {
   "cell_type": "code",
   "execution_count": 68,
   "metadata": {},
   "outputs": [],
   "source": [
    "mod = mod.drop(['Station'], axis=1)\n",
    "mod = mod.drop(['Item_Name'], axis=1)"
   ]
  },
  {
   "cell_type": "code",
   "execution_count": 69,
   "metadata": {},
   "outputs": [
    {
     "data": {
      "text/html": [
       "<div>\n",
       "<style scoped>\n",
       "    .dataframe tbody tr th:only-of-type {\n",
       "        vertical-align: middle;\n",
       "    }\n",
       "\n",
       "    .dataframe tbody tr th {\n",
       "        vertical-align: top;\n",
       "    }\n",
       "\n",
       "    .dataframe thead th {\n",
       "        text-align: right;\n",
       "    }\n",
       "</style>\n",
       "<table border=\"1\" class=\"dataframe\">\n",
       "  <thead>\n",
       "    <tr style=\"text-align: right;\">\n",
       "      <th></th>\n",
       "      <th>Logged_Date</th>\n",
       "      <th>Sold</th>\n",
       "      <th>modstation</th>\n",
       "      <th>moditem</th>\n",
       "    </tr>\n",
       "  </thead>\n",
       "  <tbody>\n",
       "    <tr>\n",
       "      <td>0</td>\n",
       "      <td>737333</td>\n",
       "      <td>12.26592</td>\n",
       "      <td>0</td>\n",
       "      <td>118</td>\n",
       "    </tr>\n",
       "    <tr>\n",
       "      <td>1</td>\n",
       "      <td>737333</td>\n",
       "      <td>3.02308</td>\n",
       "      <td>0</td>\n",
       "      <td>484</td>\n",
       "    </tr>\n",
       "    <tr>\n",
       "      <td>2</td>\n",
       "      <td>737333</td>\n",
       "      <td>21.61379</td>\n",
       "      <td>0</td>\n",
       "      <td>153</td>\n",
       "    </tr>\n",
       "    <tr>\n",
       "      <td>3</td>\n",
       "      <td>737333</td>\n",
       "      <td>15.50672</td>\n",
       "      <td>0</td>\n",
       "      <td>220</td>\n",
       "    </tr>\n",
       "    <tr>\n",
       "      <td>4</td>\n",
       "      <td>737333</td>\n",
       "      <td>38.84676</td>\n",
       "      <td>0</td>\n",
       "      <td>163</td>\n",
       "    </tr>\n",
       "    <tr>\n",
       "      <td>...</td>\n",
       "      <td>...</td>\n",
       "      <td>...</td>\n",
       "      <td>...</td>\n",
       "      <td>...</td>\n",
       "    </tr>\n",
       "    <tr>\n",
       "      <td>18802</td>\n",
       "      <td>737420</td>\n",
       "      <td>3.54743</td>\n",
       "      <td>5</td>\n",
       "      <td>59</td>\n",
       "    </tr>\n",
       "    <tr>\n",
       "      <td>18803</td>\n",
       "      <td>737422</td>\n",
       "      <td>4.78202</td>\n",
       "      <td>5</td>\n",
       "      <td>585</td>\n",
       "    </tr>\n",
       "    <tr>\n",
       "      <td>18804</td>\n",
       "      <td>737422</td>\n",
       "      <td>1.27868</td>\n",
       "      <td>5</td>\n",
       "      <td>723</td>\n",
       "    </tr>\n",
       "    <tr>\n",
       "      <td>18805</td>\n",
       "      <td>737423</td>\n",
       "      <td>4.56945</td>\n",
       "      <td>5</td>\n",
       "      <td>532</td>\n",
       "    </tr>\n",
       "    <tr>\n",
       "      <td>18806</td>\n",
       "      <td>737424</td>\n",
       "      <td>4.09859</td>\n",
       "      <td>5</td>\n",
       "      <td>532</td>\n",
       "    </tr>\n",
       "  </tbody>\n",
       "</table>\n",
       "<p>18807 rows × 4 columns</p>\n",
       "</div>"
      ],
      "text/plain": [
       "       Logged_Date      Sold  modstation  moditem\n",
       "0           737333  12.26592           0      118\n",
       "1           737333   3.02308           0      484\n",
       "2           737333  21.61379           0      153\n",
       "3           737333  15.50672           0      220\n",
       "4           737333  38.84676           0      163\n",
       "...            ...       ...         ...      ...\n",
       "18802       737420   3.54743           5       59\n",
       "18803       737422   4.78202           5      585\n",
       "18804       737422   1.27868           5      723\n",
       "18805       737423   4.56945           5      532\n",
       "18806       737424   4.09859           5      532\n",
       "\n",
       "[18807 rows x 4 columns]"
      ]
     },
     "execution_count": 69,
     "metadata": {},
     "output_type": "execute_result"
    }
   ],
   "source": [
    "mod"
   ]
  },
  {
   "cell_type": "code",
   "execution_count": 70,
   "metadata": {},
   "outputs": [],
   "source": [
    "df_training = mod.loc[mod['Logged_Date'] <= 737347]\n",
    "df_test = mod.loc[mod['Logged_Date'] > 737347]"
   ]
  },
  {
   "cell_type": "code",
   "execution_count": 71,
   "metadata": {},
   "outputs": [
    {
     "data": {
      "text/html": [
       "<div>\n",
       "<style scoped>\n",
       "    .dataframe tbody tr th:only-of-type {\n",
       "        vertical-align: middle;\n",
       "    }\n",
       "\n",
       "    .dataframe tbody tr th {\n",
       "        vertical-align: top;\n",
       "    }\n",
       "\n",
       "    .dataframe thead th {\n",
       "        text-align: right;\n",
       "    }\n",
       "</style>\n",
       "<table border=\"1\" class=\"dataframe\">\n",
       "  <thead>\n",
       "    <tr style=\"text-align: right;\">\n",
       "      <th></th>\n",
       "      <th>Logged_Date</th>\n",
       "      <th>Sold</th>\n",
       "      <th>modstation</th>\n",
       "      <th>moditem</th>\n",
       "    </tr>\n",
       "  </thead>\n",
       "  <tbody>\n",
       "    <tr>\n",
       "      <td>0</td>\n",
       "      <td>737333</td>\n",
       "      <td>12.26592</td>\n",
       "      <td>0</td>\n",
       "      <td>118</td>\n",
       "    </tr>\n",
       "    <tr>\n",
       "      <td>1</td>\n",
       "      <td>737333</td>\n",
       "      <td>3.02308</td>\n",
       "      <td>0</td>\n",
       "      <td>484</td>\n",
       "    </tr>\n",
       "    <tr>\n",
       "      <td>2</td>\n",
       "      <td>737333</td>\n",
       "      <td>21.61379</td>\n",
       "      <td>0</td>\n",
       "      <td>153</td>\n",
       "    </tr>\n",
       "    <tr>\n",
       "      <td>3</td>\n",
       "      <td>737333</td>\n",
       "      <td>15.50672</td>\n",
       "      <td>0</td>\n",
       "      <td>220</td>\n",
       "    </tr>\n",
       "    <tr>\n",
       "      <td>4</td>\n",
       "      <td>737333</td>\n",
       "      <td>38.84676</td>\n",
       "      <td>0</td>\n",
       "      <td>163</td>\n",
       "    </tr>\n",
       "    <tr>\n",
       "      <td>...</td>\n",
       "      <td>...</td>\n",
       "      <td>...</td>\n",
       "      <td>...</td>\n",
       "      <td>...</td>\n",
       "    </tr>\n",
       "    <tr>\n",
       "      <td>18665</td>\n",
       "      <td>737347</td>\n",
       "      <td>5.04054</td>\n",
       "      <td>5</td>\n",
       "      <td>558</td>\n",
       "    </tr>\n",
       "    <tr>\n",
       "      <td>18666</td>\n",
       "      <td>737347</td>\n",
       "      <td>3.53835</td>\n",
       "      <td>5</td>\n",
       "      <td>429</td>\n",
       "    </tr>\n",
       "    <tr>\n",
       "      <td>18667</td>\n",
       "      <td>737347</td>\n",
       "      <td>2.21862</td>\n",
       "      <td>5</td>\n",
       "      <td>447</td>\n",
       "    </tr>\n",
       "    <tr>\n",
       "      <td>18668</td>\n",
       "      <td>737347</td>\n",
       "      <td>5.04657</td>\n",
       "      <td>5</td>\n",
       "      <td>532</td>\n",
       "    </tr>\n",
       "    <tr>\n",
       "      <td>18669</td>\n",
       "      <td>737347</td>\n",
       "      <td>2.00967</td>\n",
       "      <td>5</td>\n",
       "      <td>113</td>\n",
       "    </tr>\n",
       "  </tbody>\n",
       "</table>\n",
       "<p>5027 rows × 4 columns</p>\n",
       "</div>"
      ],
      "text/plain": [
       "       Logged_Date      Sold  modstation  moditem\n",
       "0           737333  12.26592           0      118\n",
       "1           737333   3.02308           0      484\n",
       "2           737333  21.61379           0      153\n",
       "3           737333  15.50672           0      220\n",
       "4           737333  38.84676           0      163\n",
       "...            ...       ...         ...      ...\n",
       "18665       737347   5.04054           5      558\n",
       "18666       737347   3.53835           5      429\n",
       "18667       737347   2.21862           5      447\n",
       "18668       737347   5.04657           5      532\n",
       "18669       737347   2.00967           5      113\n",
       "\n",
       "[5027 rows x 4 columns]"
      ]
     },
     "execution_count": 71,
     "metadata": {},
     "output_type": "execute_result"
    }
   ],
   "source": [
    "df_training"
   ]
  },
  {
   "cell_type": "code",
   "execution_count": 72,
   "metadata": {},
   "outputs": [
    {
     "data": {
      "text/html": [
       "<div>\n",
       "<style scoped>\n",
       "    .dataframe tbody tr th:only-of-type {\n",
       "        vertical-align: middle;\n",
       "    }\n",
       "\n",
       "    .dataframe tbody tr th {\n",
       "        vertical-align: top;\n",
       "    }\n",
       "\n",
       "    .dataframe thead th {\n",
       "        text-align: right;\n",
       "    }\n",
       "</style>\n",
       "<table border=\"1\" class=\"dataframe\">\n",
       "  <thead>\n",
       "    <tr style=\"text-align: right;\">\n",
       "      <th></th>\n",
       "      <th>Logged_Date</th>\n",
       "      <th>Sold</th>\n",
       "      <th>modstation</th>\n",
       "      <th>moditem</th>\n",
       "    </tr>\n",
       "  </thead>\n",
       "  <tbody>\n",
       "    <tr>\n",
       "      <td>500</td>\n",
       "      <td>737348</td>\n",
       "      <td>4.40156</td>\n",
       "      <td>0</td>\n",
       "      <td>118</td>\n",
       "    </tr>\n",
       "    <tr>\n",
       "      <td>501</td>\n",
       "      <td>737348</td>\n",
       "      <td>8.32813</td>\n",
       "      <td>0</td>\n",
       "      <td>484</td>\n",
       "    </tr>\n",
       "    <tr>\n",
       "      <td>502</td>\n",
       "      <td>737348</td>\n",
       "      <td>0.77162</td>\n",
       "      <td>0</td>\n",
       "      <td>378</td>\n",
       "    </tr>\n",
       "    <tr>\n",
       "      <td>503</td>\n",
       "      <td>737348</td>\n",
       "      <td>19.10756</td>\n",
       "      <td>0</td>\n",
       "      <td>153</td>\n",
       "    </tr>\n",
       "    <tr>\n",
       "      <td>504</td>\n",
       "      <td>737348</td>\n",
       "      <td>10.24889</td>\n",
       "      <td>0</td>\n",
       "      <td>220</td>\n",
       "    </tr>\n",
       "    <tr>\n",
       "      <td>...</td>\n",
       "      <td>...</td>\n",
       "      <td>...</td>\n",
       "      <td>...</td>\n",
       "      <td>...</td>\n",
       "    </tr>\n",
       "    <tr>\n",
       "      <td>18802</td>\n",
       "      <td>737420</td>\n",
       "      <td>3.54743</td>\n",
       "      <td>5</td>\n",
       "      <td>59</td>\n",
       "    </tr>\n",
       "    <tr>\n",
       "      <td>18803</td>\n",
       "      <td>737422</td>\n",
       "      <td>4.78202</td>\n",
       "      <td>5</td>\n",
       "      <td>585</td>\n",
       "    </tr>\n",
       "    <tr>\n",
       "      <td>18804</td>\n",
       "      <td>737422</td>\n",
       "      <td>1.27868</td>\n",
       "      <td>5</td>\n",
       "      <td>723</td>\n",
       "    </tr>\n",
       "    <tr>\n",
       "      <td>18805</td>\n",
       "      <td>737423</td>\n",
       "      <td>4.56945</td>\n",
       "      <td>5</td>\n",
       "      <td>532</td>\n",
       "    </tr>\n",
       "    <tr>\n",
       "      <td>18806</td>\n",
       "      <td>737424</td>\n",
       "      <td>4.09859</td>\n",
       "      <td>5</td>\n",
       "      <td>532</td>\n",
       "    </tr>\n",
       "  </tbody>\n",
       "</table>\n",
       "<p>13780 rows × 4 columns</p>\n",
       "</div>"
      ],
      "text/plain": [
       "       Logged_Date      Sold  modstation  moditem\n",
       "500         737348   4.40156           0      118\n",
       "501         737348   8.32813           0      484\n",
       "502         737348   0.77162           0      378\n",
       "503         737348  19.10756           0      153\n",
       "504         737348  10.24889           0      220\n",
       "...            ...       ...         ...      ...\n",
       "18802       737420   3.54743           5       59\n",
       "18803       737422   4.78202           5      585\n",
       "18804       737422   1.27868           5      723\n",
       "18805       737423   4.56945           5      532\n",
       "18806       737424   4.09859           5      532\n",
       "\n",
       "[13780 rows x 4 columns]"
      ]
     },
     "execution_count": 72,
     "metadata": {},
     "output_type": "execute_result"
    }
   ],
   "source": [
    "df_test"
   ]
  },
  {
   "cell_type": "markdown",
   "metadata": {},
   "source": [
    "# Training and Testing Sets"
   ]
  },
  {
   "cell_type": "markdown",
   "metadata": {},
   "source": [
    "### Features and Labels"
   ]
  },
  {
   "cell_type": "code",
   "execution_count": 73,
   "metadata": {},
   "outputs": [],
   "source": [
    "features = mod"
   ]
  },
  {
   "cell_type": "code",
   "execution_count": 74,
   "metadata": {},
   "outputs": [],
   "source": [
    "# Using numpy to convert to arrays\n",
    "# Labels are the values we want to predict\n",
    "labels = np.array(features['Sold'])"
   ]
  },
  {
   "cell_type": "code",
   "execution_count": 75,
   "metadata": {},
   "outputs": [],
   "source": [
    "# Remove the labels from the features\n",
    "# axis 1 refers to the columns\n",
    "features= features.drop('Sold', axis = 1)"
   ]
  },
  {
   "cell_type": "code",
   "execution_count": 76,
   "metadata": {},
   "outputs": [],
   "source": [
    "# Saving feature names for later use\n",
    "feature_list = list(features.columns)"
   ]
  },
  {
   "cell_type": "code",
   "execution_count": 77,
   "metadata": {},
   "outputs": [],
   "source": [
    "# Convert to numpy array\n",
    "features = np.array(features)"
   ]
  },
  {
   "cell_type": "code",
   "execution_count": 78,
   "metadata": {},
   "outputs": [
    {
     "data": {
      "text/plain": [
       "array([12.26592,  3.02308, 21.61379, ...,  1.27868,  4.56945,  4.09859])"
      ]
     },
     "execution_count": 78,
     "metadata": {},
     "output_type": "execute_result"
    }
   ],
   "source": [
    "labels"
   ]
  },
  {
   "cell_type": "code",
   "execution_count": 79,
   "metadata": {},
   "outputs": [
    {
     "data": {
      "text/plain": [
       "array([[737333,      0,    118],\n",
       "       [737333,      0,    484],\n",
       "       [737333,      0,    153],\n",
       "       ...,\n",
       "       [737422,      5,    723],\n",
       "       [737423,      5,    532],\n",
       "       [737424,      5,    532]])"
      ]
     },
     "execution_count": 79,
     "metadata": {},
     "output_type": "execute_result"
    }
   ],
   "source": [
    "features"
   ]
  },
  {
   "cell_type": "code",
   "execution_count": 80,
   "metadata": {},
   "outputs": [],
   "source": [
    "# Using Skicit-learn to split data into training and testing sets\n",
    "\n",
    "# Split the data into training and testing sets\n",
    "train_features, test_features, train_labels, test_labels = train_test_split(features, labels, test_size=0.2, shuffle=False)"
   ]
  },
  {
   "cell_type": "code",
   "execution_count": 81,
   "metadata": {},
   "outputs": [
    {
     "name": "stdout",
     "output_type": "stream",
     "text": [
      "Training Features Shape: (15045, 3)\n",
      "Training Labels Shape: (15045,)\n",
      "Testing Features Shape: (3762, 3)\n",
      "Testing Labels Shape: (3762,)\n"
     ]
    }
   ],
   "source": [
    "print('Training Features Shape:', train_features.shape)\n",
    "print('Training Labels Shape:', train_labels.shape)\n",
    "print('Testing Features Shape:', test_features.shape)\n",
    "print('Testing Labels Shape:', test_labels.shape)"
   ]
  },
  {
   "cell_type": "markdown",
   "metadata": {},
   "source": [
    "## Random Forest"
   ]
  },
  {
   "cell_type": "code",
   "execution_count": 82,
   "metadata": {},
   "outputs": [],
   "source": [
    "# Instantiate model \n",
    "from sklearn.ensemble import RandomForestRegressor\n",
    "\n",
    "rf = RandomForestRegressor(n_estimators= 1000, random_state=42)\n",
    "\n",
    "# Train the model on training data\n",
    "rf.fit(train_features, train_labels);"
   ]
  },
  {
   "cell_type": "code",
   "execution_count": 83,
   "metadata": {},
   "outputs": [
    {
     "data": {
      "text/plain": [
       "dtype('int64')"
      ]
     },
     "execution_count": 83,
     "metadata": {},
     "output_type": "execute_result"
    }
   ],
   "source": [
    "train_features.dtype"
   ]
  },
  {
   "cell_type": "code",
   "execution_count": 84,
   "metadata": {},
   "outputs": [
    {
     "data": {
      "text/plain": [
       "dtype('float64')"
      ]
     },
     "execution_count": 84,
     "metadata": {},
     "output_type": "execute_result"
    }
   ],
   "source": [
    "train_labels.dtype"
   ]
  },
  {
   "cell_type": "code",
   "execution_count": 85,
   "metadata": {},
   "outputs": [],
   "source": [
    "rf_new = RandomForestRegressor(n_estimators = 100, criterion = 'mse', max_depth = None, \n",
    "                               min_samples_split = 2, min_samples_leaf = 1)\n",
    "rf_new.fit(train_features, train_labels);"
   ]
  },
  {
   "cell_type": "code",
   "execution_count": 86,
   "metadata": {},
   "outputs": [],
   "source": [
    "# Use the forest's predict method on the test data\n",
    "predictions = rf_new.predict(test_features)"
   ]
  },
  {
   "cell_type": "code",
   "execution_count": 87,
   "metadata": {},
   "outputs": [],
   "source": [
    "# Calculate the absolute errors\n",
    "errors = abs(predictions - test_labels)"
   ]
  },
  {
   "cell_type": "code",
   "execution_count": 88,
   "metadata": {},
   "outputs": [
    {
     "name": "stdout",
     "output_type": "stream",
     "text": [
      "Mean Absolute Error: 5.03 degrees.\n"
     ]
    }
   ],
   "source": [
    "# Print out the mean absolute error (mae)\n",
    "print('Mean Absolute Error:', round(np.mean(errors), 2), 'degrees.')"
   ]
  },
  {
   "cell_type": "code",
   "execution_count": 89,
   "metadata": {},
   "outputs": [
    {
     "name": "stdout",
     "output_type": "stream",
     "text": [
      "Accuracy: [ -10.49   85.45   64.62 ... -222.9    67.29   54.22] %.\n"
     ]
    },
    {
     "name": "stderr",
     "output_type": "stream",
     "text": [
      "/Library/Frameworks/Python.framework/Versions/3.7/lib/python3.7/site-packages/ipykernel_launcher.py:2: RuntimeWarning: divide by zero encountered in true_divide\n",
      "  \n"
     ]
    }
   ],
   "source": [
    "# Calculate mean absolute percentage error (MAPE)\n",
    "mape = 100 * (errors / test_labels)\n",
    "# Calculate and display accuracy\n",
    "accuracy = 100 - mape\n",
    "print('Accuracy:', np.round(accuracy, 2), '%.')"
   ]
  },
  {
   "cell_type": "code",
   "execution_count": 90,
   "metadata": {},
   "outputs": [
    {
     "data": {
      "text/plain": [
       "-0.1978827765534943"
      ]
     },
     "execution_count": 90,
     "metadata": {},
     "output_type": "execute_result"
    }
   ],
   "source": [
    "from sklearn.metrics import explained_variance_score\n",
    "explained_variance_score(test_labels, predictions)"
   ]
  },
  {
   "cell_type": "code",
   "execution_count": 91,
   "metadata": {},
   "outputs": [
    {
     "data": {
      "text/plain": [
       "50.536609515555526"
      ]
     },
     "execution_count": 91,
     "metadata": {},
     "output_type": "execute_result"
    }
   ],
   "source": [
    "from sklearn.metrics import max_error\n",
    "max_error(test_labels, predictions)"
   ]
  },
  {
   "cell_type": "code",
   "execution_count": 92,
   "metadata": {},
   "outputs": [
    {
     "data": {
      "text/plain": [
       "-0.3068815470388775"
      ]
     },
     "execution_count": 92,
     "metadata": {},
     "output_type": "execute_result"
    }
   ],
   "source": [
    "from sklearn.metrics import r2_score\n",
    "r2_score(test_labels, predictions)"
   ]
  },
  {
   "cell_type": "code",
   "execution_count": 93,
   "metadata": {},
   "outputs": [],
   "source": [
    "rfer = mean_absolute_error(test_labels, predictions)"
   ]
  },
  {
   "cell_type": "code",
   "execution_count": 94,
   "metadata": {},
   "outputs": [
    {
     "data": {
      "text/plain": [
       "5.02969527277647"
      ]
     },
     "execution_count": 94,
     "metadata": {},
     "output_type": "execute_result"
    }
   ],
   "source": [
    "rfer"
   ]
  },
  {
   "cell_type": "code",
   "execution_count": 95,
   "metadata": {},
   "outputs": [
    {
     "data": {
      "image/png": "[encoded data removed]",
      "text/plain": [
       "<Figure size 576x396 with 1 Axes>"
      ]
     },
     "metadata": {},
     "output_type": "display_data"
    }
   ],
   "source": [
    "plt.plot(test_labels, color='green')\n",
    "plt.show()"
   ]
  },
  {
   "cell_type": "code",
   "execution_count": 96,
   "metadata": {},
   "outputs": [
    {
     "data": {
      "image/png": "[encoded data removed]",
      "text/plain": [
       "<Figure size 576x396 with 1 Axes>"
      ]
     },
     "metadata": {},
     "output_type": "display_data"
    }
   ],
   "source": [
    "plt.plot(test_labels, color='green')\n",
    "plt.plot(predictions, color='blue')\n",
    "\n",
    "plt.show()"
   ]
  },
  {
   "cell_type": "code",
   "execution_count": 97,
   "metadata": {},
   "outputs": [
    {
     "data": {
      "text/html": [
       "<div>\n",
       "<style scoped>\n",
       "    .dataframe tbody tr th:only-of-type {\n",
       "        vertical-align: middle;\n",
       "    }\n",
       "\n",
       "    .dataframe tbody tr th {\n",
       "        vertical-align: top;\n",
       "    }\n",
       "\n",
       "    .dataframe thead th {\n",
       "        text-align: right;\n",
       "    }\n",
       "</style>\n",
       "<table border=\"1\" class=\"dataframe\">\n",
       "  <thead>\n",
       "    <tr style=\"text-align: right;\">\n",
       "      <th></th>\n",
       "      <th>Date_Produced</th>\n",
       "      <th>Log_ID</th>\n",
       "      <th>Item_Name</th>\n",
       "      <th>Item_Type</th>\n",
       "      <th>PLU</th>\n",
       "      <th>Logged_Time</th>\n",
       "      <th>Meal</th>\n",
       "      <th>Action_Taken</th>\n",
       "      <th>Action_Reason</th>\n",
       "      <th>Quantity</th>\n",
       "      <th>...</th>\n",
       "      <th>Unit</th>\n",
       "      <th>Station</th>\n",
       "      <th>Employee_Name</th>\n",
       "      <th>imageId</th>\n",
       "      <th>Location_ID</th>\n",
       "      <th>Location</th>\n",
       "      <th>Served</th>\n",
       "      <th>Saved</th>\n",
       "      <th>Sold</th>\n",
       "      <th>Shrink</th>\n",
       "    </tr>\n",
       "  </thead>\n",
       "  <tbody>\n",
       "    <tr>\n",
       "      <td>0</td>\n",
       "      <td>2019-09-30</td>\n",
       "      <td>43120</td>\n",
       "      <td>Spring Mix</td>\n",
       "      <td>Menu Item</td>\n",
       "      <td>46000063050</td>\n",
       "      <td>2019-10-01T06:18:52.000Z</td>\n",
       "      <td>Breakfast</td>\n",
       "      <td>Served</td>\n",
       "      <td>Start</td>\n",
       "      <td>6.45954</td>\n",
       "      <td>...</td>\n",
       "      <td>Lbs</td>\n",
       "      <td>SB</td>\n",
       "      <td>None</td>\n",
       "      <td>None</td>\n",
       "      <td>51</td>\n",
       "      <td>Dedham</td>\n",
       "      <td>4.51954</td>\n",
       "      <td>0.0</td>\n",
       "      <td>4.51954</td>\n",
       "      <td>0.00000</td>\n",
       "    </tr>\n",
       "    <tr>\n",
       "      <td>1</td>\n",
       "      <td>2019-09-30</td>\n",
       "      <td>43122</td>\n",
       "      <td>Romaine Lettuce</td>\n",
       "      <td>Menu Item</td>\n",
       "      <td>46000055863</td>\n",
       "      <td>2019-10-01T06:19:06.000Z</td>\n",
       "      <td>Breakfast</td>\n",
       "      <td>Served</td>\n",
       "      <td>Start</td>\n",
       "      <td>6.45954</td>\n",
       "      <td>...</td>\n",
       "      <td>Lbs</td>\n",
       "      <td>SB</td>\n",
       "      <td>None</td>\n",
       "      <td>None</td>\n",
       "      <td>51</td>\n",
       "      <td>Dedham</td>\n",
       "      <td>4.51954</td>\n",
       "      <td>0.0</td>\n",
       "      <td>4.51954</td>\n",
       "      <td>0.00000</td>\n",
       "    </tr>\n",
       "    <tr>\n",
       "      <td>2</td>\n",
       "      <td>2019-09-30</td>\n",
       "      <td>43123</td>\n",
       "      <td>Romaine Lettuce</td>\n",
       "      <td>Menu Item</td>\n",
       "      <td>46000055863</td>\n",
       "      <td>2019-10-01T06:19:20.000Z</td>\n",
       "      <td>Breakfast</td>\n",
       "      <td>Served</td>\n",
       "      <td>Start</td>\n",
       "      <td>6.34931</td>\n",
       "      <td>...</td>\n",
       "      <td>Lbs</td>\n",
       "      <td>SB</td>\n",
       "      <td>None</td>\n",
       "      <td>None</td>\n",
       "      <td>51</td>\n",
       "      <td>Dedham</td>\n",
       "      <td>4.40931</td>\n",
       "      <td>0.0</td>\n",
       "      <td>4.40931</td>\n",
       "      <td>0.00000</td>\n",
       "    </tr>\n",
       "    <tr>\n",
       "      <td>3</td>\n",
       "      <td>2019-09-30</td>\n",
       "      <td>43124</td>\n",
       "      <td>Baby Spinach</td>\n",
       "      <td>Menu Item</td>\n",
       "      <td>46000055923</td>\n",
       "      <td>2019-10-01T06:19:35.000Z</td>\n",
       "      <td>Breakfast</td>\n",
       "      <td>Served</td>\n",
       "      <td>Start</td>\n",
       "      <td>6.76819</td>\n",
       "      <td>...</td>\n",
       "      <td>Lbs</td>\n",
       "      <td>SB</td>\n",
       "      <td>None</td>\n",
       "      <td>None</td>\n",
       "      <td>51</td>\n",
       "      <td>Dedham</td>\n",
       "      <td>4.82819</td>\n",
       "      <td>0.0</td>\n",
       "      <td>4.82819</td>\n",
       "      <td>0.00000</td>\n",
       "    </tr>\n",
       "    <tr>\n",
       "      <td>4</td>\n",
       "      <td>2019-09-30</td>\n",
       "      <td>43194</td>\n",
       "      <td>Plantains</td>\n",
       "      <td>Menu Item</td>\n",
       "      <td>46000001661</td>\n",
       "      <td>2019-10-01T07:06:17.000Z</td>\n",
       "      <td>Breakfast</td>\n",
       "      <td>Served</td>\n",
       "      <td>Start</td>\n",
       "      <td>6.74615</td>\n",
       "      <td>...</td>\n",
       "      <td>Lbs</td>\n",
       "      <td>HB</td>\n",
       "      <td>None</td>\n",
       "      <td>None</td>\n",
       "      <td>51</td>\n",
       "      <td>Dedham</td>\n",
       "      <td>4.80615</td>\n",
       "      <td>0.0</td>\n",
       "      <td>4.80615</td>\n",
       "      <td>0.00000</td>\n",
       "    </tr>\n",
       "    <tr>\n",
       "      <td>...</td>\n",
       "      <td>...</td>\n",
       "      <td>...</td>\n",
       "      <td>...</td>\n",
       "      <td>...</td>\n",
       "      <td>...</td>\n",
       "      <td>...</td>\n",
       "      <td>...</td>\n",
       "      <td>...</td>\n",
       "      <td>...</td>\n",
       "      <td>...</td>\n",
       "      <td>...</td>\n",
       "      <td>...</td>\n",
       "      <td>...</td>\n",
       "      <td>...</td>\n",
       "      <td>...</td>\n",
       "      <td>...</td>\n",
       "      <td>...</td>\n",
       "      <td>...</td>\n",
       "      <td>...</td>\n",
       "      <td>...</td>\n",
       "      <td>...</td>\n",
       "    </tr>\n",
       "    <tr>\n",
       "      <td>59389</td>\n",
       "      <td>2020-02-01</td>\n",
       "      <td>103082</td>\n",
       "      <td>Tomato Olive Chicken</td>\n",
       "      <td>Menu Item</td>\n",
       "      <td>46000064980</td>\n",
       "      <td>2020-01-05T21:18:01.000Z</td>\n",
       "      <td>Breakfast</td>\n",
       "      <td>Discarded</td>\n",
       "      <td>Over Produced</td>\n",
       "      <td>9.81057</td>\n",
       "      <td>...</td>\n",
       "      <td>Lbs</td>\n",
       "      <td>HB</td>\n",
       "      <td>None</td>\n",
       "      <td>b26b5640302a11eab5ddfbef14d4dab2</td>\n",
       "      <td>55</td>\n",
       "      <td>Cranston</td>\n",
       "      <td>0.00000</td>\n",
       "      <td>0.0</td>\n",
       "      <td>-7.01057</td>\n",
       "      <td>7.01057</td>\n",
       "    </tr>\n",
       "    <tr>\n",
       "      <td>59390</td>\n",
       "      <td>2020-02-01</td>\n",
       "      <td>103083</td>\n",
       "      <td>Macaroni &amp; Cheese</td>\n",
       "      <td>Menu Item</td>\n",
       "      <td>46000060414</td>\n",
       "      <td>2020-01-05T21:18:40.000Z</td>\n",
       "      <td>Breakfast</td>\n",
       "      <td>Discarded</td>\n",
       "      <td>Over Produced</td>\n",
       "      <td>4.03446</td>\n",
       "      <td>...</td>\n",
       "      <td>Lbs</td>\n",
       "      <td>HB</td>\n",
       "      <td>None</td>\n",
       "      <td>c8a270b0302a11eab5ddfbef14d4dab2</td>\n",
       "      <td>55</td>\n",
       "      <td>Cranston</td>\n",
       "      <td>0.00000</td>\n",
       "      <td>0.0</td>\n",
       "      <td>-3.08446</td>\n",
       "      <td>3.08446</td>\n",
       "    </tr>\n",
       "    <tr>\n",
       "      <td>59391</td>\n",
       "      <td>2020-02-01</td>\n",
       "      <td>103084</td>\n",
       "      <td>Waffle Fries</td>\n",
       "      <td>Menu Item</td>\n",
       "      <td>46000064878</td>\n",
       "      <td>2020-01-05T21:19:04.000Z</td>\n",
       "      <td>Breakfast</td>\n",
       "      <td>Discarded</td>\n",
       "      <td>Over Produced</td>\n",
       "      <td>3.08647</td>\n",
       "      <td>...</td>\n",
       "      <td>Lbs</td>\n",
       "      <td>HB</td>\n",
       "      <td>None</td>\n",
       "      <td>d76a77a0302a11ea8b59c7cbcef30b8c</td>\n",
       "      <td>55</td>\n",
       "      <td>Cranston</td>\n",
       "      <td>0.00000</td>\n",
       "      <td>0.0</td>\n",
       "      <td>-1.18647</td>\n",
       "      <td>1.18647</td>\n",
       "    </tr>\n",
       "    <tr>\n",
       "      <td>59392</td>\n",
       "      <td>2020-02-01</td>\n",
       "      <td>103087</td>\n",
       "      <td>White Quinoa</td>\n",
       "      <td>Menu Item</td>\n",
       "      <td>46000055911</td>\n",
       "      <td>2020-01-05T21:23:11.000Z</td>\n",
       "      <td>Breakfast</td>\n",
       "      <td>Discarded</td>\n",
       "      <td>Over Produced</td>\n",
       "      <td>9.36965</td>\n",
       "      <td>...</td>\n",
       "      <td>Lbs</td>\n",
       "      <td>HB</td>\n",
       "      <td>None</td>\n",
       "      <td>6b01d2b0302b11ea8b59c7cbcef30b8c</td>\n",
       "      <td>55</td>\n",
       "      <td>Cranston</td>\n",
       "      <td>0.00000</td>\n",
       "      <td>0.0</td>\n",
       "      <td>-7.46965</td>\n",
       "      <td>7.46965</td>\n",
       "    </tr>\n",
       "    <tr>\n",
       "      <td>59393</td>\n",
       "      <td>2020-02-01</td>\n",
       "      <td>103088</td>\n",
       "      <td>RICE BROWN COOKED HB</td>\n",
       "      <td>Menu Item</td>\n",
       "      <td>46000064385</td>\n",
       "      <td>2020-01-05T21:23:31.000Z</td>\n",
       "      <td>Breakfast</td>\n",
       "      <td>Discarded</td>\n",
       "      <td>Over Produced</td>\n",
       "      <td>6.12885</td>\n",
       "      <td>...</td>\n",
       "      <td>Lbs</td>\n",
       "      <td>HB</td>\n",
       "      <td>None</td>\n",
       "      <td>70906660302b11eab5ddfbef14d4dab2</td>\n",
       "      <td>55</td>\n",
       "      <td>Cranston</td>\n",
       "      <td>0.00000</td>\n",
       "      <td>0.0</td>\n",
       "      <td>-4.22885</td>\n",
       "      <td>4.22885</td>\n",
       "    </tr>\n",
       "  </tbody>\n",
       "</table>\n",
       "<p>59394 rows × 22 columns</p>\n",
       "</div>"
      ],
      "text/plain": [
       "      Date_Produced  Log_ID             Item_Name  Item_Type          PLU  \\\n",
       "0        2019-09-30   43120            Spring Mix  Menu Item  46000063050   \n",
       "1        2019-09-30   43122       Romaine Lettuce  Menu Item  46000055863   \n",
       "2        2019-09-30   43123       Romaine Lettuce  Menu Item  46000055863   \n",
       "3        2019-09-30   43124          Baby Spinach  Menu Item  46000055923   \n",
       "4        2019-09-30   43194             Plantains  Menu Item  46000001661   \n",
       "...             ...     ...                   ...        ...          ...   \n",
       "59389    2020-02-01  103082  Tomato Olive Chicken  Menu Item  46000064980   \n",
       "59390    2020-02-01  103083     Macaroni & Cheese  Menu Item  46000060414   \n",
       "59391    2020-02-01  103084          Waffle Fries  Menu Item  46000064878   \n",
       "59392    2020-02-01  103087          White Quinoa  Menu Item  46000055911   \n",
       "59393    2020-02-01  103088  RICE BROWN COOKED HB  Menu Item  46000064385   \n",
       "\n",
       "                    Logged_Time       Meal Action_Taken  Action_Reason  \\\n",
       "0      2019-10-01T06:18:52.000Z  Breakfast       Served          Start   \n",
       "1      2019-10-01T06:19:06.000Z  Breakfast       Served          Start   \n",
       "2      2019-10-01T06:19:20.000Z  Breakfast       Served          Start   \n",
       "3      2019-10-01T06:19:35.000Z  Breakfast       Served          Start   \n",
       "4      2019-10-01T07:06:17.000Z  Breakfast       Served          Start   \n",
       "...                         ...        ...          ...            ...   \n",
       "59389  2020-01-05T21:18:01.000Z  Breakfast    Discarded  Over Produced   \n",
       "59390  2020-01-05T21:18:40.000Z  Breakfast    Discarded  Over Produced   \n",
       "59391  2020-01-05T21:19:04.000Z  Breakfast    Discarded  Over Produced   \n",
       "59392  2020-01-05T21:23:11.000Z  Breakfast    Discarded  Over Produced   \n",
       "59393  2020-01-05T21:23:31.000Z  Breakfast    Discarded  Over Produced   \n",
       "\n",
       "       Quantity  ...  Unit  Station Employee_Name  \\\n",
       "0       6.45954  ...   Lbs       SB          None   \n",
       "1       6.45954  ...   Lbs       SB          None   \n",
       "2       6.34931  ...   Lbs       SB          None   \n",
       "3       6.76819  ...   Lbs       SB          None   \n",
       "4       6.74615  ...   Lbs       HB          None   \n",
       "...         ...  ...   ...      ...           ...   \n",
       "59389   9.81057  ...   Lbs       HB          None   \n",
       "59390   4.03446  ...   Lbs       HB          None   \n",
       "59391   3.08647  ...   Lbs       HB          None   \n",
       "59392   9.36965  ...   Lbs       HB          None   \n",
       "59393   6.12885  ...   Lbs       HB          None   \n",
       "\n",
       "                                imageId Location_ID  Location   Served Saved  \\\n",
       "0                                  None          51    Dedham  4.51954   0.0   \n",
       "1                                  None          51    Dedham  4.51954   0.0   \n",
       "2                                  None          51    Dedham  4.40931   0.0   \n",
       "3                                  None          51    Dedham  4.82819   0.0   \n",
       "4                                  None          51    Dedham  4.80615   0.0   \n",
       "...                                 ...         ...       ...      ...   ...   \n",
       "59389  b26b5640302a11eab5ddfbef14d4dab2          55  Cranston  0.00000   0.0   \n",
       "59390  c8a270b0302a11eab5ddfbef14d4dab2          55  Cranston  0.00000   0.0   \n",
       "59391  d76a77a0302a11ea8b59c7cbcef30b8c          55  Cranston  0.00000   0.0   \n",
       "59392  6b01d2b0302b11ea8b59c7cbcef30b8c          55  Cranston  0.00000   0.0   \n",
       "59393  70906660302b11eab5ddfbef14d4dab2          55  Cranston  0.00000   0.0   \n",
       "\n",
       "          Sold   Shrink  \n",
       "0      4.51954  0.00000  \n",
       "1      4.51954  0.00000  \n",
       "2      4.40931  0.00000  \n",
       "3      4.82819  0.00000  \n",
       "4      4.80615  0.00000  \n",
       "...        ...      ...  \n",
       "59389 -7.01057  7.01057  \n",
       "59390 -3.08446  3.08446  \n",
       "59391 -1.18647  1.18647  \n",
       "59392 -7.46965  7.46965  \n",
       "59393 -4.22885  4.22885  \n",
       "\n",
       "[59394 rows x 22 columns]"
      ]
     },
     "execution_count": 97,
     "metadata": {},
     "output_type": "execute_result"
    }
   ],
   "source": [
    "rawfile"
   ]
  },
  {
   "cell_type": "code",
   "execution_count": 98,
   "metadata": {},
   "outputs": [
    {
     "data": {
      "text/html": [
       "<div>\n",
       "<style scoped>\n",
       "    .dataframe tbody tr th:only-of-type {\n",
       "        vertical-align: middle;\n",
       "    }\n",
       "\n",
       "    .dataframe tbody tr th {\n",
       "        vertical-align: top;\n",
       "    }\n",
       "\n",
       "    .dataframe thead th {\n",
       "        text-align: right;\n",
       "    }\n",
       "</style>\n",
       "<table border=\"1\" class=\"dataframe\">\n",
       "  <thead>\n",
       "    <tr style=\"text-align: right;\">\n",
       "      <th></th>\n",
       "      <th>PLU</th>\n",
       "      <th>Item_Name</th>\n",
       "      <th>Location</th>\n",
       "      <th>Sold</th>\n",
       "    </tr>\n",
       "  </thead>\n",
       "  <tbody>\n",
       "    <tr>\n",
       "      <td>0</td>\n",
       "      <td>46000007582</td>\n",
       "      <td>Chicken Tenders</td>\n",
       "      <td>Dedham</td>\n",
       "      <td>4487.09786</td>\n",
       "    </tr>\n",
       "    <tr>\n",
       "      <td>1</td>\n",
       "      <td>46000064443</td>\n",
       "      <td>Mom's Chicken Soup</td>\n",
       "      <td>Dedham</td>\n",
       "      <td>3527.61445</td>\n",
       "    </tr>\n",
       "    <tr>\n",
       "      <td>2</td>\n",
       "      <td>46000063709</td>\n",
       "      <td>Buffalo Wings</td>\n",
       "      <td>Dedham</td>\n",
       "      <td>3119.72314</td>\n",
       "    </tr>\n",
       "    <tr>\n",
       "      <td>6</td>\n",
       "      <td>46000016511</td>\n",
       "      <td>Nana's Chicken Noodle Soup</td>\n",
       "      <td>Dedham</td>\n",
       "      <td>2706.29963</td>\n",
       "    </tr>\n",
       "    <tr>\n",
       "      <td>7</td>\n",
       "      <td>46000060414</td>\n",
       "      <td>Macaroni &amp; Cheese</td>\n",
       "      <td>Dedham</td>\n",
       "      <td>2664.69720</td>\n",
       "    </tr>\n",
       "  </tbody>\n",
       "</table>\n",
       "</div>"
      ],
      "text/plain": [
       "           PLU                   Item_Name Location        Sold\n",
       "0  46000007582             Chicken Tenders   Dedham  4487.09786\n",
       "1  46000064443          Mom's Chicken Soup   Dedham  3527.61445\n",
       "2  46000063709               Buffalo Wings   Dedham  3119.72314\n",
       "6  46000016511  Nana's Chicken Noodle Soup   Dedham  2706.29963\n",
       "7  46000060414           Macaroni & Cheese   Dedham  2664.69720"
      ]
     },
     "execution_count": 98,
     "metadata": {},
     "output_type": "execute_result"
    }
   ],
   "source": [
    "ans = file0.groupby(['PLU','Item_Name','Location'])['Sold'].sum().sort_values( ascending=False).to_frame().reset_index()\n",
    "ans[ans.Location == 'Dedham'].head(5)"
   ]
  },
  {
   "cell_type": "code",
   "execution_count": 99,
   "metadata": {},
   "outputs": [
    {
     "data": {
      "text/html": [
       "<div>\n",
       "<style scoped>\n",
       "    .dataframe tbody tr th:only-of-type {\n",
       "        vertical-align: middle;\n",
       "    }\n",
       "\n",
       "    .dataframe tbody tr th {\n",
       "        vertical-align: top;\n",
       "    }\n",
       "\n",
       "    .dataframe thead th {\n",
       "        text-align: right;\n",
       "    }\n",
       "</style>\n",
       "<table border=\"1\" class=\"dataframe\">\n",
       "  <thead>\n",
       "    <tr style=\"text-align: right;\">\n",
       "      <th></th>\n",
       "      <th>Logged_Date</th>\n",
       "      <th>Served</th>\n",
       "      <th>Shrink</th>\n",
       "    </tr>\n",
       "  </thead>\n",
       "  <tbody>\n",
       "    <tr>\n",
       "      <td>4</td>\n",
       "      <td>737333</td>\n",
       "      <td>45.77823</td>\n",
       "      <td>6.93147</td>\n",
       "    </tr>\n",
       "    <tr>\n",
       "      <td>42</td>\n",
       "      <td>737334</td>\n",
       "      <td>44.50460</td>\n",
       "      <td>1.27875</td>\n",
       "    </tr>\n",
       "    <tr>\n",
       "      <td>83</td>\n",
       "      <td>737335</td>\n",
       "      <td>56.02330</td>\n",
       "      <td>13.17181</td>\n",
       "    </tr>\n",
       "    <tr>\n",
       "      <td>111</td>\n",
       "      <td>737336</td>\n",
       "      <td>56.59887</td>\n",
       "      <td>4.06028</td>\n",
       "    </tr>\n",
       "    <tr>\n",
       "      <td>144</td>\n",
       "      <td>737337</td>\n",
       "      <td>73.15567</td>\n",
       "      <td>4.05903</td>\n",
       "    </tr>\n",
       "    <tr>\n",
       "      <td>...</td>\n",
       "      <td>...</td>\n",
       "      <td>...</td>\n",
       "      <td>...</td>\n",
       "    </tr>\n",
       "    <tr>\n",
       "      <td>2786</td>\n",
       "      <td>737425</td>\n",
       "      <td>58.33930</td>\n",
       "      <td>1.54449</td>\n",
       "    </tr>\n",
       "    <tr>\n",
       "      <td>2819</td>\n",
       "      <td>737426</td>\n",
       "      <td>40.32630</td>\n",
       "      <td>0.00000</td>\n",
       "    </tr>\n",
       "    <tr>\n",
       "      <td>2851</td>\n",
       "      <td>737427</td>\n",
       "      <td>33.40380</td>\n",
       "      <td>0.00000</td>\n",
       "    </tr>\n",
       "    <tr>\n",
       "      <td>2869</td>\n",
       "      <td>737428</td>\n",
       "      <td>69.78901</td>\n",
       "      <td>5.40384</td>\n",
       "    </tr>\n",
       "    <tr>\n",
       "      <td>2903</td>\n",
       "      <td>737429</td>\n",
       "      <td>66.67412</td>\n",
       "      <td>0.00000</td>\n",
       "    </tr>\n",
       "  </tbody>\n",
       "</table>\n",
       "<p>93 rows × 3 columns</p>\n",
       "</div>"
      ],
      "text/plain": [
       "      Logged_Date    Served    Shrink\n",
       "4          737333  45.77823   6.93147\n",
       "42         737334  44.50460   1.27875\n",
       "83         737335  56.02330  13.17181\n",
       "111        737336  56.59887   4.06028\n",
       "144        737337  73.15567   4.05903\n",
       "...           ...       ...       ...\n",
       "2786       737425  58.33930   1.54449\n",
       "2819       737426  40.32630   0.00000\n",
       "2851       737427  33.40380   0.00000\n",
       "2869       737428  69.78901   5.40384\n",
       "2903       737429  66.67412   0.00000\n",
       "\n",
       "[93 rows x 3 columns]"
      ]
     },
     "execution_count": 99,
     "metadata": {},
     "output_type": "execute_result"
    }
   ],
   "source": [
    "ans = file1[file1.PLU == '46000007582']\n",
    "ans = ans.filter(['Logged_Date','Served','Shrink'], axis=1)\n",
    "ans['Logged_Date'] = ans['Logged_Date'].apply(lambda x: x.toordinal())\n",
    "ans\n",
    "#x_train ,x_test = train_test_split(ans,test_size=0.2, shuffle = False)\n",
    "#x_train\n",
    "#x_test\n",
    "#test_data"
   ]
  },
  {
   "cell_type": "code",
   "execution_count": 100,
   "metadata": {},
   "outputs": [],
   "source": [
    "features = ans"
   ]
  },
  {
   "cell_type": "code",
   "execution_count": 101,
   "metadata": {},
   "outputs": [],
   "source": [
    "# Using numpy to convert to arrays\n",
    "# Labels are the values we want to predict\n",
    "labels = np.array(features['Shrink'])"
   ]
  },
  {
   "cell_type": "code",
   "execution_count": 102,
   "metadata": {},
   "outputs": [],
   "source": [
    "# Remove the labels from the features\n",
    "# axis 1 refers to the columns\n",
    "features= features.drop('Shrink', axis = 1)"
   ]
  },
  {
   "cell_type": "code",
   "execution_count": 103,
   "metadata": {},
   "outputs": [],
   "source": [
    "# Saving feature names for later use\n",
    "feature_list = list(features.columns)"
   ]
  },
  {
   "cell_type": "code",
   "execution_count": 104,
   "metadata": {},
   "outputs": [],
   "source": [
    "# Convert to numpy array\n",
    "features = np.array(features)"
   ]
  },
  {
   "cell_type": "code",
   "execution_count": 105,
   "metadata": {},
   "outputs": [
    {
     "data": {
      "text/plain": [
       "array([ 6.93147,  1.27875, 13.17181,  4.06028,  4.05903,  6.81606,\n",
       "       10.93483,  1.14892,  9.34662,  2.43278,  3.04615,  3.17842,\n",
       "        0.90523,  0.     ,  5.88767,  0.     ,  1.32403,  1.65599,\n",
       "        3.17717,  0.37604,  1.70007,  0.     ,  2.09691,  0.77288,\n",
       "        2.95796,  2.31611,  2.49248,  0.     ,  0.57845,  4.80377,\n",
       "        8.22827,  2.22793,  0.354  ,  8.88715,  5.55943,  7.48389,\n",
       "        5.1185 ,  2.01515,  0.     ,  0.     ,  0.86106,  2.54301,\n",
       "        5.84477,  1.78825,  0.11149,  0.31116,  1.36812,  1.25915,\n",
       "        2.33816,  2.93341,  1.14766,  0.     ,  5.53619,  0.     ,\n",
       "        2.13974,  2.93466,  1.94385,  2.58193,  0.     ,  2.4043 ,\n",
       "        0.     ,  1.96337,  4.85793,  3.06694,  2.58067,  0.     ,\n",
       "        3.0008 ,  0.     ,  2.84648,  0.3099 ,  0.     ,  0.     ,\n",
       "        0.     ,  0.55241,  0.99334,  0.08944,  0.     ,  0.     ,\n",
       "        0.     ,  7.74592,  3.48063,  0.     ,  0.     ,  2.05282,\n",
       "        3.92674,  0.     ,  0.     ,  0.     ,  1.54449,  0.     ,\n",
       "        0.     ,  5.40384,  0.     ])"
      ]
     },
     "execution_count": 105,
     "metadata": {},
     "output_type": "execute_result"
    }
   ],
   "source": [
    "labels"
   ]
  },
  {
   "cell_type": "code",
   "execution_count": 106,
   "metadata": {},
   "outputs": [
    {
     "data": {
      "text/plain": [
       "array([[7.373330e+05, 4.577823e+01],\n",
       "       [7.373340e+05, 4.450460e+01],\n",
       "       [7.373350e+05, 5.602330e+01],\n",
       "       [7.373360e+05, 5.659887e+01],\n",
       "       [7.373370e+05, 7.315567e+01],\n",
       "       [7.373380e+05, 3.812180e+01],\n",
       "       [7.373390e+05, 3.421950e+01],\n",
       "       [7.373400e+05, 4.100970e+01],\n",
       "       [7.373410e+05, 6.448180e+01],\n",
       "       [7.373420e+05, 5.845600e+01],\n",
       "       [7.373430e+05, 5.531916e+01],\n",
       "       [7.373440e+05, 4.678842e+01],\n",
       "       [7.373460e+05, 5.060118e+01],\n",
       "       [7.373470e+05, 4.026010e+01],\n",
       "       [7.373480e+05, 7.228633e+01],\n",
       "       [7.373490e+05, 4.398230e+01],\n",
       "       [7.373500e+05, 3.895940e+01],\n",
       "       [7.373510e+05, 5.267350e+01],\n",
       "       [7.373520e+05, 5.743540e+01],\n",
       "       [7.373530e+05, 4.719048e+01],\n",
       "       [7.373540e+05, 4.421290e+01],\n",
       "       [7.373550e+05, 6.058940e+01],\n",
       "       [7.373560e+05, 4.228840e+01],\n",
       "       [7.373570e+05, 4.299410e+01],\n",
       "       [7.373580e+05, 5.781030e+01],\n",
       "       [7.373590e+05, 4.599360e+01],\n",
       "       [7.373600e+05, 4.388349e+01],\n",
       "       [7.373610e+05, 2.705330e+01],\n",
       "       [7.373620e+05, 3.917990e+01],\n",
       "       [7.373630e+05, 5.210550e+01],\n",
       "       [7.373640e+05, 6.976071e+01],\n",
       "       [7.373650e+05, 3.677690e+01],\n",
       "       [7.373660e+05, 6.153775e+01],\n",
       "       [7.373670e+05, 2.892720e+01],\n",
       "       [7.373690e+05, 5.344510e+01],\n",
       "       [7.373700e+05, 6.502050e+01],\n",
       "       [7.373710e+05, 6.010287e+01],\n",
       "       [7.373720e+05, 8.947250e+01],\n",
       "       [7.373730e+05, 5.827200e+01],\n",
       "       [7.373740e+05, 1.170780e+01],\n",
       "       [7.373750e+05, 3.984130e+01],\n",
       "       [7.373760e+05, 2.881700e+01],\n",
       "       [7.373770e+05, 4.511690e+01],\n",
       "       [7.373780e+05, 2.403290e+01],\n",
       "       [7.373790e+05, 8.615507e+01],\n",
       "       [7.373800e+05, 5.454743e+01],\n",
       "       [7.373810e+05, 5.655374e+01],\n",
       "       [7.373820e+05, 5.235040e+01],\n",
       "       [7.373830e+05, 2.970006e+01],\n",
       "       [7.373840e+05, 3.929020e+01],\n",
       "       [7.373850e+05, 4.217940e+01],\n",
       "       [7.373860e+05, 4.281750e+01],\n",
       "       [7.373870e+05, 6.579230e+01],\n",
       "       [7.373880e+05, 5.723710e+01],\n",
       "       [7.373890e+05, 7.092890e+01],\n",
       "       [7.373900e+05, 7.721350e+01],\n",
       "       [7.373920e+05, 5.664180e+01],\n",
       "       [7.373930e+05, 7.249440e+01],\n",
       "       [7.373940e+05, 5.734720e+01],\n",
       "       [7.373950e+05, 5.598048e+01],\n",
       "       [7.373960e+05, 2.035120e+01],\n",
       "       [7.373970e+05, 5.695170e+01],\n",
       "       [7.373980e+05, 4.344139e+01],\n",
       "       [7.373990e+05, 4.604270e+01],\n",
       "       [7.374000e+05, 5.840294e+01],\n",
       "       [7.374010e+05, 5.000590e+01],\n",
       "       [7.374020e+05, 5.648760e+01],\n",
       "       [7.374030e+05, 4.336750e+01],\n",
       "       [7.374040e+05, 4.815400e+01],\n",
       "       [7.374050e+05, 6.329050e+01],\n",
       "       [7.374060e+05, 3.869490e+01],\n",
       "       [7.374070e+05, 7.291943e+01],\n",
       "       [7.374080e+05, 5.333480e+01],\n",
       "       [7.374090e+05, 3.977520e+01],\n",
       "       [7.374100e+05, 1.340540e+01],\n",
       "       [7.374110e+05, 5.882570e+01],\n",
       "       [7.374120e+05, 4.679232e+01],\n",
       "       [7.374130e+05, 3.841467e+01],\n",
       "       [7.374140e+05, 7.161240e+01],\n",
       "       [7.374150e+05, 5.644350e+01],\n",
       "       [7.374160e+05, 9.748290e+01],\n",
       "       [7.374170e+05, 3.545410e+01],\n",
       "       [7.374190e+05, 4.998390e+01],\n",
       "       [7.374200e+05, 4.824220e+01],\n",
       "       [7.374210e+05, 6.924434e+01],\n",
       "       [7.374220e+05, 4.793513e+01],\n",
       "       [7.374230e+05, 3.507930e+01],\n",
       "       [7.374240e+05, 1.419900e+01],\n",
       "       [7.374250e+05, 5.833930e+01],\n",
       "       [7.374260e+05, 4.032630e+01],\n",
       "       [7.374270e+05, 3.340380e+01],\n",
       "       [7.374280e+05, 6.978901e+01],\n",
       "       [7.374290e+05, 6.667412e+01]])"
      ]
     },
     "execution_count": 106,
     "metadata": {},
     "output_type": "execute_result"
    }
   ],
   "source": [
    "features"
   ]
  },
  {
   "cell_type": "code",
   "execution_count": 107,
   "metadata": {},
   "outputs": [],
   "source": [
    "# Using Skicit-learn to split data into training and testing sets\n",
    "\n",
    "# Split the data into training and testing sets\n",
    "train_features, test_features, train_labels, test_labels = train_test_split(features, labels, test_size=0.2, shuffle=False)"
   ]
  },
  {
   "cell_type": "code",
   "execution_count": 108,
   "metadata": {},
   "outputs": [
    {
     "name": "stdout",
     "output_type": "stream",
     "text": [
      "Training Features Shape: (74, 2)\n",
      "Training Labels Shape: (74,)\n",
      "Testing Features Shape: (19, 2)\n",
      "Testing Labels Shape: (19,)\n"
     ]
    }
   ],
   "source": [
    "print('Training Features Shape:', train_features.shape)\n",
    "print('Training Labels Shape:', train_labels.shape)\n",
    "print('Testing Features Shape:', test_features.shape)\n",
    "print('Testing Labels Shape:', test_labels.shape)"
   ]
  },
  {
   "cell_type": "markdown",
   "metadata": {},
   "source": [
    "## Random Forest"
   ]
  },
  {
   "cell_type": "code",
   "execution_count": 109,
   "metadata": {},
   "outputs": [],
   "source": [
    "# Instantiate model \n",
    "from sklearn.ensemble import RandomForestRegressor\n",
    "\n",
    "rf = RandomForestRegressor(n_estimators= 1000, random_state=42)\n",
    "\n",
    "# Train the model on training data\n",
    "rf.fit(train_features, train_labels);"
   ]
  },
  {
   "cell_type": "code",
   "execution_count": 110,
   "metadata": {},
   "outputs": [
    {
     "data": {
      "text/plain": [
       "dtype('float64')"
      ]
     },
     "execution_count": 110,
     "metadata": {},
     "output_type": "execute_result"
    }
   ],
   "source": [
    "train_features.dtype"
   ]
  },
  {
   "cell_type": "code",
   "execution_count": 111,
   "metadata": {},
   "outputs": [
    {
     "data": {
      "text/plain": [
       "dtype('float64')"
      ]
     },
     "execution_count": 111,
     "metadata": {},
     "output_type": "execute_result"
    }
   ],
   "source": [
    "train_labels.dtype"
   ]
  },
  {
   "cell_type": "code",
   "execution_count": 112,
   "metadata": {},
   "outputs": [],
   "source": [
    "rf_new = RandomForestRegressor(n_estimators = 100, criterion = 'mse', max_depth = None, \n",
    "                               min_samples_split = 2, min_samples_leaf = 1)\n",
    "rf_new.fit(train_features, train_labels);"
   ]
  },
  {
   "cell_type": "code",
   "execution_count": 113,
   "metadata": {},
   "outputs": [],
   "source": [
    "# Use the forest's predict method on the test data\n",
    "predictions = rf_new.predict(test_features)"
   ]
  },
  {
   "cell_type": "code",
   "execution_count": 114,
   "metadata": {},
   "outputs": [],
   "source": [
    "# Calculate the absolute errors\n",
    "errors = abs(predictions - test_labels)"
   ]
  },
  {
   "cell_type": "code",
   "execution_count": 115,
   "metadata": {},
   "outputs": [
    {
     "name": "stdout",
     "output_type": "stream",
     "text": [
      "Mean Absolute Error: 1.49 degrees.\n"
     ]
    }
   ],
   "source": [
    "# Print out the mean absolute error (mae)\n",
    "print('Mean Absolute Error:', round(np.mean(errors), 2), 'degrees.')"
   ]
  },
  {
   "cell_type": "code",
   "execution_count": 116,
   "metadata": {},
   "outputs": [
    {
     "name": "stdout",
     "output_type": "stream",
     "text": [
      "Accuracy: [  47.38 -606.82    -inf    -inf    -inf   13.27   17.88    -inf    -inf\n",
      "   53.74   50.84    -inf    -inf    -inf   46.91    -inf    -inf   36.94\n",
      "    -inf] %.\n"
     ]
    },
    {
     "name": "stderr",
     "output_type": "stream",
     "text": [
      "/Library/Frameworks/Python.framework/Versions/3.7/lib/python3.7/site-packages/ipykernel_launcher.py:2: RuntimeWarning: divide by zero encountered in true_divide\n",
      "  \n"
     ]
    }
   ],
   "source": [
    "# Calculate mean absolute percentage error (MAPE)\n",
    "mape = 100 * (errors / test_labels)\n",
    "# Calculate and display accuracy\n",
    "accuracy = 100 - mape\n",
    "print('Accuracy:', np.round(accuracy, 2), '%.')"
   ]
  },
  {
   "cell_type": "code",
   "execution_count": 117,
   "metadata": {},
   "outputs": [
    {
     "data": {
      "text/plain": [
       "0.08987576310289591"
      ]
     },
     "execution_count": 117,
     "metadata": {},
     "output_type": "execute_result"
    }
   ],
   "source": [
    "from sklearn.metrics import explained_variance_score\n",
    "explained_variance_score(test_labels, predictions)"
   ]
  },
  {
   "cell_type": "code",
   "execution_count": 118,
   "metadata": {},
   "outputs": [
    {
     "data": {
      "text/plain": [
       "6.717863600000003"
      ]
     },
     "execution_count": 118,
     "metadata": {},
     "output_type": "execute_result"
    }
   ],
   "source": [
    "from sklearn.metrics import max_error\n",
    "max_error(test_labels, predictions)"
   ]
  },
  {
   "cell_type": "code",
   "execution_count": 119,
   "metadata": {},
   "outputs": [
    {
     "data": {
      "text/plain": [
       "0.06889389650852873"
      ]
     },
     "execution_count": 119,
     "metadata": {},
     "output_type": "execute_result"
    }
   ],
   "source": [
    "from sklearn.metrics import r2_score\n",
    "r2_score(test_labels, predictions)"
   ]
  },
  {
   "cell_type": "code",
   "execution_count": 120,
   "metadata": {},
   "outputs": [],
   "source": [
    "rfer = mean_absolute_error(test_labels, predictions)"
   ]
  },
  {
   "cell_type": "code",
   "execution_count": 121,
   "metadata": {},
   "outputs": [
    {
     "data": {
      "text/plain": [
       "1.4944700315789479"
      ]
     },
     "execution_count": 121,
     "metadata": {},
     "output_type": "execute_result"
    }
   ],
   "source": [
    "rfer"
   ]
  },
  {
   "cell_type": "code",
   "execution_count": 122,
   "metadata": {},
   "outputs": [
    {
     "data": {
      "image/png": "[encoded data removed]",
      "text/plain": [
       "<Figure size 576x396 with 1 Axes>"
      ]
     },
     "metadata": {},
     "output_type": "display_data"
    }
   ],
   "source": [
    "plt.plot(test_labels, color='green')\n",
    "plt.show()"
   ]
  },
  {
   "cell_type": "code",
   "execution_count": 123,
   "metadata": {},
   "outputs": [
    {
     "data": {
      "image/png": "[encoded data removed]",
      "text/plain": [
       "<Figure size 576x396 with 1 Axes>"
      ]
     },
     "metadata": {},
     "output_type": "display_data"
    }
   ],
   "source": [
    "plt.plot(test_labels, color='green')\n",
    "plt.plot(predictions, color='blue')\n",
    "\n",
    "plt.show()"
   ]
  },
  {
   "cell_type": "code",
   "execution_count": 124,
   "metadata": {},
   "outputs": [],
   "source": [
    "ans = file[file.Location=='Cranston']\n",
    "ans = ans.groupby(['PLU','Item_Name','Station']).size().to_frame('Freq_Count')\n",
    "ans = ans.sort_values(['Freq_Count'], ascending=False)\n",
    "ans.to_excel('Itemsasperlocation.xlsx')"
   ]
  },
  {
   "cell_type": "code",
   "execution_count": 125,
   "metadata": {},
   "outputs": [],
   "source": [
    "with pd.ExcelWriter('Itemsasperlocation.xlsx') as writer:  # doctest: +SKIP\n",
    "    ans.to_excel(writer,sheet_name='Itemsasperlocation', index = False)\n",
    "    workbook  = writer.book\n",
    "    worksheet = writer.sheets['Itemsasperlocation']\n",
    "    worksheet.set_column(0, 3, 30)\n",
    "    worksheet.set_column(4, 4, 35)"
   ]
  },
  {
   "cell_type": "code",
   "execution_count": 126,
   "metadata": {},
   "outputs": [
    {
     "data": {
      "text/html": [
       "<div>\n",
       "<style scoped>\n",
       "    .dataframe tbody tr th:only-of-type {\n",
       "        vertical-align: middle;\n",
       "    }\n",
       "\n",
       "    .dataframe tbody tr th {\n",
       "        vertical-align: top;\n",
       "    }\n",
       "\n",
       "    .dataframe thead th {\n",
       "        text-align: right;\n",
       "    }\n",
       "</style>\n",
       "<table border=\"1\" class=\"dataframe\">\n",
       "  <thead>\n",
       "    <tr style=\"text-align: right;\">\n",
       "      <th></th>\n",
       "      <th></th>\n",
       "      <th></th>\n",
       "      <th>Freq_Count</th>\n",
       "    </tr>\n",
       "    <tr>\n",
       "      <th>PLU</th>\n",
       "      <th>Item_Name</th>\n",
       "      <th>Station</th>\n",
       "      <th></th>\n",
       "    </tr>\n",
       "  </thead>\n",
       "  <tbody>\n",
       "    <tr>\n",
       "      <td>46000007582</td>\n",
       "      <td>Chicken Tenders</td>\n",
       "      <td>HB</td>\n",
       "      <td>89</td>\n",
       "    </tr>\n",
       "    <tr>\n",
       "      <td>46000060414</td>\n",
       "      <td>Macaroni &amp; Cheese</td>\n",
       "      <td>HB</td>\n",
       "      <td>86</td>\n",
       "    </tr>\n",
       "    <tr>\n",
       "      <td>46000059700</td>\n",
       "      <td>OMELETTE HAM CHEESE HB</td>\n",
       "      <td>HB</td>\n",
       "      <td>82</td>\n",
       "    </tr>\n",
       "    <tr>\n",
       "      <td>46000060011</td>\n",
       "      <td>Bacon</td>\n",
       "      <td>HB</td>\n",
       "      <td>81</td>\n",
       "    </tr>\n",
       "    <tr>\n",
       "      <td>46000008433</td>\n",
       "      <td>POTATO HOME FRIES HB</td>\n",
       "      <td>HB</td>\n",
       "      <td>80</td>\n",
       "    </tr>\n",
       "    <tr>\n",
       "      <td>...</td>\n",
       "      <td>...</td>\n",
       "      <td>...</td>\n",
       "      <td>...</td>\n",
       "    </tr>\n",
       "    <tr>\n",
       "      <td>46000055829</td>\n",
       "      <td>Blanched Green Beans</td>\n",
       "      <td>SB</td>\n",
       "      <td>1</td>\n",
       "    </tr>\n",
       "    <tr>\n",
       "      <td>46000055932</td>\n",
       "      <td>Baby Spinach</td>\n",
       "      <td>HB</td>\n",
       "      <td>1</td>\n",
       "    </tr>\n",
       "    <tr>\n",
       "      <td>46000056503</td>\n",
       "      <td>Black Beans</td>\n",
       "      <td>HB</td>\n",
       "      <td>1</td>\n",
       "    </tr>\n",
       "    <tr>\n",
       "      <td>46000060419</td>\n",
       "      <td>Pasta with Marinara</td>\n",
       "      <td>HB</td>\n",
       "      <td>1</td>\n",
       "    </tr>\n",
       "    <tr>\n",
       "      <td>82512000812</td>\n",
       "      <td>Flour Chips</td>\n",
       "      <td>HB</td>\n",
       "      <td>1</td>\n",
       "    </tr>\n",
       "  </tbody>\n",
       "</table>\n",
       "<p>232 rows × 1 columns</p>\n",
       "</div>"
      ],
      "text/plain": [
       "                                            Freq_Count\n",
       "PLU         Item_Name              Station            \n",
       "46000007582 Chicken Tenders        HB               89\n",
       "46000060414 Macaroni & Cheese      HB               86\n",
       "46000059700 OMELETTE HAM CHEESE HB HB               82\n",
       "46000060011 Bacon                  HB               81\n",
       "46000008433 POTATO HOME FRIES HB   HB               80\n",
       "...                                                ...\n",
       "46000055829 Blanched Green Beans   SB                1\n",
       "46000055932 Baby Spinach           HB                1\n",
       "46000056503 Black Beans            HB                1\n",
       "46000060419 Pasta with Marinara    HB                1\n",
       "82512000812 Flour Chips            HB                1\n",
       "\n",
       "[232 rows x 1 columns]"
      ]
     },
     "execution_count": 126,
     "metadata": {},
     "output_type": "execute_result"
    }
   ],
   "source": [
    "ans"
   ]
  },
  {
   "cell_type": "code",
   "execution_count": null,
   "metadata": {},
   "outputs": [],
   "source": []
  }
 ],
 "metadata": {
  "kernelspec": {
   "display_name": "Python 3",
   "language": "python",
   "name": "python3"
  },
  "language_info": {
   "codemirror_mode": {
    "name": "ipython",
    "version": 3
   },
   "file_extension": ".py",
   "mimetype": "text/x-python",
   "name": "python",
   "nbconvert_exporter": "python",
   "pygments_lexer": "ipython3",
   "version": "3.7.4"
  }
 },
 "nbformat": 4,
 "nbformat_minor": 2
}
