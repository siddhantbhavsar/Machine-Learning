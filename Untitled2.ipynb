{
 "cells": [
  {
   "cell_type": "code",
   "execution_count": 1,
   "metadata": {
    "scrolled": true
   },
   "outputs": [],
   "source": [
    "import pandas as pd\n",
    "import config_prod as config\n",
    "#import json\n",
    "from datetime import date, timedelta\n",
    "import phood_api"
   ]
  },
  {
   "cell_type": "code",
   "execution_count": 2,
   "metadata": {},
   "outputs": [],
   "source": [
    "locations = ['dedham', 'hingham', 'westford', 'westhartford', 'cranston']\n",
    "wrongclientid=['95501']\n",
    "masterlist=[]\n",
    "locationinfo = {51: {'name': 'Dedham'}, 52: {'name': 'Hingham'}, 53: {'name': 'Westford'}, 54: {'name': 'West hartford'}, 55: {'name': 'Cranston'}}\n",
    "for location in locations:\n",
    "    phoodServer = phood_api.PhoodAPI(config.base_url)\n",
    "    username = location\n",
    "    res = phoodServer.login(username, config.password).json()\n",
    "    endDate = date.today() - timedelta(days=date.today().weekday())\n",
    "    startDate = date\n",
    "    #endDate = date.today()- timedelta(days=1)\n",
    "    #startDate = endDate - timedelta(days=6)\n",
    "    res = phoodServer.get_food_logs(startDate, endDate).json()\n",
    "    PLUEntries = filter(lambda x: x['clientId'], res)\n",
    "    orderedEntries = list(sorted(PLUEntries, key=lambda x: x[\"loggedTime\"]))\n",
    "    hotBar,saladBar,soupBar = set(),set(),set()\n",
    "    res = phoodServer.getPersistentItems().json()\n",
    "    for pItem in res:\n",
    "        #pItem['clientId'] = pItem['clientId'].replace(\"-\", \"\")\n",
    "        if pItem['station'].lower().startswith('hot bar'):\n",
    "            hotBar.add(pItem['clientId'])\n",
    "        elif pItem['station'].lower().startswith('salad bar'):\n",
    "            saladBar.add(pItem['clientId'])\n",
    "        elif pItem['station'].lower().startswith('soup'):\n",
    "            soupBar.add(pItem['clientId'])\n",
    "        else:\n",
    "            print(f'unclassified item {pItem}')\n",
    "    for item in orderedEntries:\n",
    "        item['clientId'] = item['clientId'].replace(\"-\", \"\")\n",
    "        if item['clientId'] in hotBar:\n",
    "            item['station'] = 'HB'\n",
    "        elif item['clientId'] in saladBar:\n",
    "            item['station'] = 'SB'\n",
    "        elif item['clientId'] in soupBar:\n",
    "            item['station'] = 'SO'\n",
    "        if 'locationId' in item and item['locationId']:\n",
    "            item['Location'] = locationinfo[item['locationId']]['name']\n",
    "    res = phoodServer.getPanInfo().json()\n",
    "    panInfo = {}\n",
    "    for pan in res:\n",
    "        panInfo[pan[\"id\"]] = {\"name\": pan[\"name\"], \"weight\": pan[\"weightQuantity\"]}\n",
    "    #print(panInfo)\n",
    "    for item in orderedEntries:\n",
    "        item['Served']=item['Saved']=item['Sold']=item['Shrink']=0\n",
    "        if 'panId' in item and item['panId']:\n",
    "            panWeight = panInfo[item['panId']]['weight']\n",
    "        else:\n",
    "            panWeight = item['panWeight'] \n",
    "        if item['actionTaken']=='Served':\n",
    "            item['Served'] = +item['quantity'] - panWeight\n",
    "        if item['actionTaken']=='Discarded':\n",
    "            item['Shrink'] = +item['quantity'] - panWeight\n",
    "        if item['actionTaken']=='Saved':\n",
    "            item['Saved'] = +item['quantity'] - panWeight\n",
    "        item['Sold'] = item['Served'] - item['Saved'] - item['Shrink']\n",
    "    orderedEntries = [d for d in orderedEntries if d['clientId'] not in wrongclientid]\n",
    "    masterlist.extend(orderedEntries)"
   ]
  },
  {
   "cell_type": "code",
   "execution_count": null,
   "metadata": {},
   "outputs": [],
   "source": []
  }
 ],
 "metadata": {
  "kernelspec": {
   "display_name": "Python 3",
   "language": "python",
   "name": "python3"
  },
  "language_info": {
   "codemirror_mode": {
    "name": "ipython",
    "version": 3
   },
   "file_extension": ".py",
   "mimetype": "text/x-python",
   "name": "python",
   "nbconvert_exporter": "python",
   "pygments_lexer": "ipython3",
   "version": "3.7.4"
  }
 },
 "nbformat": 4,
 "nbformat_minor": 2
}
