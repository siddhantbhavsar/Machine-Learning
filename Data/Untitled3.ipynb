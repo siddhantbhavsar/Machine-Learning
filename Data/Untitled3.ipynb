{
 "cells": [
  {
   "cell_type": "code",
   "execution_count": 1,
   "metadata": {},
   "outputs": [
    {
     "name": "stdout",
     "output_type": "stream",
     "text": [
      "74\n"
     ]
    }
   ],
   "source": [
    "# Python 3 prorgam for finding max path in matrix \n",
    "# To calculate max path in matrix \n",
    "  \n",
    "def findMaxPath(mat): \n",
    "  \n",
    "    # To find max val in first row \n",
    "    res = -1\n",
    "    for i in range(M): \n",
    "        res = max(res, mat[0][i]) \n",
    "   \n",
    "    for i in range(1, N): \n",
    "   \n",
    "        res = -1\n",
    "        for j in range(M): \n",
    "   \n",
    "            # When all paths are possible \n",
    "            if (j > 0 and j < M - 1): \n",
    "                mat[i][j] += max(mat[i - 1][j], \n",
    "                                 max(mat[i - 1][j - 1],  \n",
    "                                     mat[i - 1][j + 1])) \n",
    "   \n",
    "            # When diagonal right is not possible \n",
    "            elif (j > 0): \n",
    "                mat[i][j] += max(mat[i - 1][j], \n",
    "                                 mat[i - 1][j - 1]) \n",
    "   \n",
    "            # When diagonal left is not possible \n",
    "            elif (j < M - 1): \n",
    "                mat[i][j] += max(mat[i - 1][j], \n",
    "                                 mat[i - 1][j + 1]) \n",
    "   \n",
    "            # Store max path sum \n",
    "            res = max(mat[i][j], res) \n",
    "    return res \n",
    "  \n",
    "# Driver program to check findMaxPath \n",
    "N=4\n",
    "M=6\n",
    "mat = ([[ 10, 10, 2, 0, 20, 4 ], \n",
    "        [ 1, 0, 0, 30, 2, 5 ], \n",
    "        [ 0, 10, 4, 0, 2, 0 ], \n",
    "        [ 1, 0, 2, 20, 0, 4 ]]) \n",
    "                \n",
    "print(findMaxPath(mat)) \n",
    "  \n",
    "# This code is contributed by Azkia Anam. "
   ]
  },
  {
   "cell_type": "code",
   "execution_count": 14,
   "metadata": {},
   "outputs": [
    {
     "data": {
      "text/plain": [
       "1"
      ]
     },
     "execution_count": 14,
     "metadata": {},
     "output_type": "execute_result"
    }
   ],
   "source": [
    "# generator function to give each building position \n",
    "# in a W x H grid\n",
    "def step(W, H, N):\n",
    "    dim = W * H\n",
    "    slots = [n for n in range(N)]\n",
    "    slots_temp = list(slots)\n",
    "    persist = list(slots)\n",
    "    last = [dim - n for n in slots]\n",
    "    last = last[::-1]\n",
    "    while slots != [0] * N:\n",
    "        yield slots\n",
    "        for i in range(len(slots)-1,-1,-1):\n",
    "            slots[i]+=1\n",
    "            if slots[i] >= last[i] :\n",
    "                slots[i] = 0\n",
    "            else:\n",
    "                while i < len(slots)-1:\n",
    "                    slots[i+1] = slots[i] + 1\n",
    "                    i+=1\n",
    "                break\n",
    "\n",
    "# converts a ixj to a step\n",
    "# assumes W <= H\n",
    "def get_step(i, j, W , H):\n",
    "    return (i * W) + j\n",
    "\n",
    "# does bfs from each building position\n",
    "# and gets the maximum distance \n",
    "def bfs(step,W,H):\n",
    "    dist = [[-1]*H for i in range(W)]\n",
    "    queue = []\n",
    "    dx = [1,-1,0,0]\n",
    "    dy = [0,0,1,-1]\n",
    "    for i in range(W):\n",
    "        for j in range(H):\n",
    "            step_val = get_step(i, j, W, H)\n",
    "            if step_val in step:\n",
    "                dist[i][j] = 0\n",
    "                queue.append((i,j))\n",
    "    max_val = 0\n",
    "    while len(queue) != 0:\n",
    "        i,j = queue.pop(0)\n",
    "        max_val = max(max_val, dist[i][j])\n",
    "        for _dx,_dy in zip(dx,dy):\n",
    "            new_i,new_j = i + _dx, j + _dy\n",
    "            if new_i < 0 or new_i >= W or new_j <0 or new_j >= H:\n",
    "                continue\n",
    "            if dist[new_i][new_j] == -1:\n",
    "                dist[new_i][new_j] = dist[i][j] + 1\n",
    "                queue.append((new_i,new_j))\n",
    "    return max_val\n",
    "\n",
    "\n",
    "# calls each posible position of the building\n",
    "# and computes the minimum distance of all\n",
    "def main(W, H, N ): \n",
    "    min_val = float('inf')\n",
    "    if W > H:\n",
    "        W, H = H, W\n",
    "    s = step(W, H, N)\n",
    "    for slot in s:\n",
    "        b = bfs(slot, W, H)\n",
    "        min_val = min(min_val, b)\n",
    "    return min_val\n",
    "\n",
    "\n",
    "\n",
    "main(2, 3, 2)"
   ]
  },
  {
   "cell_type": "code",
   "execution_count": null,
   "metadata": {},
   "outputs": [],
   "source": []
  }
 ],
 "metadata": {
  "kernelspec": {
   "display_name": "Python 3",
   "language": "python",
   "name": "python3"
  },
  "language_info": {
   "codemirror_mode": {
    "name": "ipython",
    "version": 3
   },
   "file_extension": ".py",
   "mimetype": "text/x-python",
   "name": "python",
   "nbconvert_exporter": "python",
   "pygments_lexer": "ipython3",
   "version": "3.7.4"
  }
 },
 "nbformat": 4,
 "nbformat_minor": 2
}
