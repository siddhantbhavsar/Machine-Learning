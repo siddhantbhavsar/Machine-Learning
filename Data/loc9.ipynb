{
 "cells": [
  {
   "cell_type": "code",
   "execution_count": 1,
   "metadata": {},
   "outputs": [],
   "source": [
    "import csv\n",
    "import pandas as pd\n",
    "import matplotlib.pyplot as plt\n",
    "import numpy as np\n",
    "from sklearn.model_selection import train_test_split\n",
    "from sklearn.ensemble import RandomForestClassifier\n",
    "from sklearn import preprocessing\n",
    "from sklearn import utils\n",
    "from sklearn.ensemble import RandomForestRegressor\n"
   ]
  },
  {
   "cell_type": "code",
   "execution_count": 2,
   "metadata": {},
   "outputs": [],
   "source": [
    "loc9foodlog = pd.read_csv(\"loc9.csv\")"
   ]
  },
  {
   "cell_type": "code",
   "execution_count": 39,
   "metadata": {},
   "outputs": [
    {
     "data": {
      "text/html": [
       "<div>\n",
       "<style scoped>\n",
       "    .dataframe tbody tr th:only-of-type {\n",
       "        vertical-align: middle;\n",
       "    }\n",
       "\n",
       "    .dataframe tbody tr th {\n",
       "        vertical-align: top;\n",
       "    }\n",
       "\n",
       "    .dataframe thead th {\n",
       "        text-align: right;\n",
       "    }\n",
       "</style>\n",
       "<table border=\"1\" class=\"dataframe\">\n",
       "  <thead>\n",
       "    <tr style=\"text-align: right;\">\n",
       "      <th></th>\n",
       "      <th>Unnamed: 0</th>\n",
       "      <th>itemname</th>\n",
       "      <th>mealtype</th>\n",
       "      <th>quantity</th>\n",
       "      <th>quantitytype</th>\n",
       "      <th>datesort</th>\n",
       "    </tr>\n",
       "  </thead>\n",
       "  <tbody>\n",
       "    <tr>\n",
       "      <th>0</th>\n",
       "      <td>1</td>\n",
       "      <td>Cream of Wheat</td>\n",
       "      <td>NaN</td>\n",
       "      <td>9.0</td>\n",
       "      <td>Pound</td>\n",
       "      <td>1</td>\n",
       "    </tr>\n",
       "    <tr>\n",
       "      <th>1</th>\n",
       "      <td>2</td>\n",
       "      <td>Scrambled Eggs</td>\n",
       "      <td>NaN</td>\n",
       "      <td>5.0</td>\n",
       "      <td>Pound</td>\n",
       "      <td>1</td>\n",
       "    </tr>\n",
       "    <tr>\n",
       "      <th>2</th>\n",
       "      <td>3</td>\n",
       "      <td>Scrambled Eggs</td>\n",
       "      <td>NaN</td>\n",
       "      <td>5.0</td>\n",
       "      <td>Pound</td>\n",
       "      <td>1</td>\n",
       "    </tr>\n",
       "    <tr>\n",
       "      <th>3</th>\n",
       "      <td>5</td>\n",
       "      <td>Home Fries</td>\n",
       "      <td>NaN</td>\n",
       "      <td>3.0</td>\n",
       "      <td>Pound</td>\n",
       "      <td>1</td>\n",
       "    </tr>\n",
       "    <tr>\n",
       "      <th>4</th>\n",
       "      <td>6</td>\n",
       "      <td>Corned Beef Hash</td>\n",
       "      <td>NaN</td>\n",
       "      <td>5.0</td>\n",
       "      <td>Pound</td>\n",
       "      <td>1</td>\n",
       "    </tr>\n",
       "  </tbody>\n",
       "</table>\n",
       "</div>"
      ],
      "text/plain": [
       "   Unnamed: 0          itemname mealtype  quantity quantitytype  datesort\n",
       "0           1    Cream of Wheat      NaN       9.0        Pound         1\n",
       "1           2    Scrambled Eggs      NaN       5.0        Pound         1\n",
       "2           3    Scrambled Eggs      NaN       5.0        Pound         1\n",
       "3           5        Home Fries      NaN       3.0        Pound         1\n",
       "4           6  Corned Beef Hash      NaN       5.0        Pound         1"
      ]
     },
     "execution_count": 39,
     "metadata": {},
     "output_type": "execute_result"
    }
   ],
   "source": [
    "loc9foodlog.head()"
   ]
  },
  {
   "cell_type": "code",
   "execution_count": 40,
   "metadata": {},
   "outputs": [],
   "source": [
    "loc9pound = loc9foodlog[loc9foodlog['quantitytype']=='Pound']"
   ]
  },
  {
   "cell_type": "code",
   "execution_count": 41,
   "metadata": {},
   "outputs": [
    {
     "data": {
      "text/html": [
       "<div>\n",
       "<style scoped>\n",
       "    .dataframe tbody tr th:only-of-type {\n",
       "        vertical-align: middle;\n",
       "    }\n",
       "\n",
       "    .dataframe tbody tr th {\n",
       "        vertical-align: top;\n",
       "    }\n",
       "\n",
       "    .dataframe thead th {\n",
       "        text-align: right;\n",
       "    }\n",
       "</style>\n",
       "<table border=\"1\" class=\"dataframe\">\n",
       "  <thead>\n",
       "    <tr style=\"text-align: right;\">\n",
       "      <th></th>\n",
       "      <th>Unnamed: 0</th>\n",
       "      <th>itemname</th>\n",
       "      <th>mealtype</th>\n",
       "      <th>quantity</th>\n",
       "      <th>quantitytype</th>\n",
       "      <th>datesort</th>\n",
       "    </tr>\n",
       "  </thead>\n",
       "  <tbody>\n",
       "    <tr>\n",
       "      <th>0</th>\n",
       "      <td>1</td>\n",
       "      <td>Cream of Wheat</td>\n",
       "      <td>NaN</td>\n",
       "      <td>9.0</td>\n",
       "      <td>Pound</td>\n",
       "      <td>1</td>\n",
       "    </tr>\n",
       "    <tr>\n",
       "      <th>1</th>\n",
       "      <td>2</td>\n",
       "      <td>Scrambled Eggs</td>\n",
       "      <td>NaN</td>\n",
       "      <td>5.0</td>\n",
       "      <td>Pound</td>\n",
       "      <td>1</td>\n",
       "    </tr>\n",
       "    <tr>\n",
       "      <th>2</th>\n",
       "      <td>3</td>\n",
       "      <td>Scrambled Eggs</td>\n",
       "      <td>NaN</td>\n",
       "      <td>5.0</td>\n",
       "      <td>Pound</td>\n",
       "      <td>1</td>\n",
       "    </tr>\n",
       "    <tr>\n",
       "      <th>3</th>\n",
       "      <td>5</td>\n",
       "      <td>Home Fries</td>\n",
       "      <td>NaN</td>\n",
       "      <td>3.0</td>\n",
       "      <td>Pound</td>\n",
       "      <td>1</td>\n",
       "    </tr>\n",
       "    <tr>\n",
       "      <th>4</th>\n",
       "      <td>6</td>\n",
       "      <td>Corned Beef Hash</td>\n",
       "      <td>NaN</td>\n",
       "      <td>5.0</td>\n",
       "      <td>Pound</td>\n",
       "      <td>1</td>\n",
       "    </tr>\n",
       "  </tbody>\n",
       "</table>\n",
       "</div>"
      ],
      "text/plain": [
       "   Unnamed: 0          itemname mealtype  quantity quantitytype  datesort\n",
       "0           1    Cream of Wheat      NaN       9.0        Pound         1\n",
       "1           2    Scrambled Eggs      NaN       5.0        Pound         1\n",
       "2           3    Scrambled Eggs      NaN       5.0        Pound         1\n",
       "3           5        Home Fries      NaN       3.0        Pound         1\n",
       "4           6  Corned Beef Hash      NaN       5.0        Pound         1"
      ]
     },
     "execution_count": 41,
     "metadata": {},
     "output_type": "execute_result"
    }
   ],
   "source": [
    "loc9pound.head()"
   ]
  },
  {
   "cell_type": "code",
   "execution_count": 42,
   "metadata": {},
   "outputs": [
    {
     "data": {
      "text/html": [
       "<div>\n",
       "<style scoped>\n",
       "    .dataframe tbody tr th:only-of-type {\n",
       "        vertical-align: middle;\n",
       "    }\n",
       "\n",
       "    .dataframe tbody tr th {\n",
       "        vertical-align: top;\n",
       "    }\n",
       "\n",
       "    .dataframe thead th {\n",
       "        text-align: right;\n",
       "    }\n",
       "</style>\n",
       "<table border=\"1\" class=\"dataframe\">\n",
       "  <thead>\n",
       "    <tr style=\"text-align: right;\">\n",
       "      <th></th>\n",
       "      <th>count</th>\n",
       "      <th>unique</th>\n",
       "      <th>top</th>\n",
       "      <th>freq</th>\n",
       "      <th>mean</th>\n",
       "      <th>std</th>\n",
       "      <th>min</th>\n",
       "      <th>25%</th>\n",
       "      <th>50%</th>\n",
       "      <th>75%</th>\n",
       "      <th>max</th>\n",
       "    </tr>\n",
       "  </thead>\n",
       "  <tbody>\n",
       "    <tr>\n",
       "      <th>Unnamed: 0</th>\n",
       "      <td>3182</td>\n",
       "      <td>NaN</td>\n",
       "      <td>NaN</td>\n",
       "      <td>NaN</td>\n",
       "      <td>2506.86</td>\n",
       "      <td>1536.55</td>\n",
       "      <td>1</td>\n",
       "      <td>1149.25</td>\n",
       "      <td>2467.5</td>\n",
       "      <td>3794.75</td>\n",
       "      <td>5199</td>\n",
       "    </tr>\n",
       "    <tr>\n",
       "      <th>itemname</th>\n",
       "      <td>3182</td>\n",
       "      <td>386</td>\n",
       "      <td>Meat Sauce</td>\n",
       "      <td>210</td>\n",
       "      <td>NaN</td>\n",
       "      <td>NaN</td>\n",
       "      <td>NaN</td>\n",
       "      <td>NaN</td>\n",
       "      <td>NaN</td>\n",
       "      <td>NaN</td>\n",
       "      <td>NaN</td>\n",
       "    </tr>\n",
       "    <tr>\n",
       "      <th>mealtype</th>\n",
       "      <td>368</td>\n",
       "      <td>3</td>\n",
       "      <td>Dinner</td>\n",
       "      <td>200</td>\n",
       "      <td>NaN</td>\n",
       "      <td>NaN</td>\n",
       "      <td>NaN</td>\n",
       "      <td>NaN</td>\n",
       "      <td>NaN</td>\n",
       "      <td>NaN</td>\n",
       "      <td>NaN</td>\n",
       "    </tr>\n",
       "    <tr>\n",
       "      <th>quantity</th>\n",
       "      <td>3182</td>\n",
       "      <td>NaN</td>\n",
       "      <td>NaN</td>\n",
       "      <td>NaN</td>\n",
       "      <td>5.74847</td>\n",
       "      <td>5.4633</td>\n",
       "      <td>0</td>\n",
       "      <td>2.3</td>\n",
       "      <td>4</td>\n",
       "      <td>7.2</td>\n",
       "      <td>82</td>\n",
       "    </tr>\n",
       "    <tr>\n",
       "      <th>quantitytype</th>\n",
       "      <td>3182</td>\n",
       "      <td>1</td>\n",
       "      <td>Pound</td>\n",
       "      <td>3182</td>\n",
       "      <td>NaN</td>\n",
       "      <td>NaN</td>\n",
       "      <td>NaN</td>\n",
       "      <td>NaN</td>\n",
       "      <td>NaN</td>\n",
       "      <td>NaN</td>\n",
       "      <td>NaN</td>\n",
       "    </tr>\n",
       "    <tr>\n",
       "      <th>datesort</th>\n",
       "      <td>3182</td>\n",
       "      <td>NaN</td>\n",
       "      <td>NaN</td>\n",
       "      <td>NaN</td>\n",
       "      <td>384.109</td>\n",
       "      <td>290.979</td>\n",
       "      <td>1</td>\n",
       "      <td>192</td>\n",
       "      <td>332</td>\n",
       "      <td>578</td>\n",
       "      <td>1076</td>\n",
       "    </tr>\n",
       "  </tbody>\n",
       "</table>\n",
       "</div>"
      ],
      "text/plain": [
       "             count unique         top  freq     mean      std  min      25%  \\\n",
       "Unnamed: 0    3182    NaN         NaN   NaN  2506.86  1536.55    1  1149.25   \n",
       "itemname      3182    386  Meat Sauce   210      NaN      NaN  NaN      NaN   \n",
       "mealtype       368      3      Dinner   200      NaN      NaN  NaN      NaN   \n",
       "quantity      3182    NaN         NaN   NaN  5.74847   5.4633    0      2.3   \n",
       "quantitytype  3182      1       Pound  3182      NaN      NaN  NaN      NaN   \n",
       "datesort      3182    NaN         NaN   NaN  384.109  290.979    1      192   \n",
       "\n",
       "                 50%      75%   max  \n",
       "Unnamed: 0    2467.5  3794.75  5199  \n",
       "itemname         NaN      NaN   NaN  \n",
       "mealtype         NaN      NaN   NaN  \n",
       "quantity           4      7.2    82  \n",
       "quantitytype     NaN      NaN   NaN  \n",
       "datesort         332      578  1076  "
      ]
     },
     "execution_count": 42,
     "metadata": {},
     "output_type": "execute_result"
    }
   ],
   "source": [
    "loc9pound.describe(include='all').transpose()"
   ]
  },
  {
   "cell_type": "code",
   "execution_count": 43,
   "metadata": {},
   "outputs": [
    {
     "data": {
      "text/plain": [
       "<matplotlib.axes._subplots.AxesSubplot at 0x1a16b79898>"
      ]
     },
     "execution_count": 43,
     "metadata": {},
     "output_type": "execute_result"
    },
    {
     "data": {
      "image/png": "[encoded data removed]",
      "text/plain": [
       "<Figure size 432x288 with 1 Axes>"
      ]
     },
     "metadata": {},
     "output_type": "display_data"
    }
   ],
   "source": [
    "loc9pound.quantity.plot()"
   ]
  },
  {
   "cell_type": "code",
   "execution_count": 44,
   "metadata": {},
   "outputs": [
    {
     "data": {
      "text/plain": [
       "Unnamed: 0        int64\n",
       "itemname         object\n",
       "mealtype         object\n",
       "quantity        float64\n",
       "quantitytype     object\n",
       "datesort          int64\n",
       "dtype: object"
      ]
     },
     "execution_count": 44,
     "metadata": {},
     "output_type": "execute_result"
    }
   ],
   "source": [
    "loc9pound.dtypes"
   ]
  },
  {
   "cell_type": "code",
   "execution_count": 45,
   "metadata": {},
   "outputs": [
    {
     "data": {
      "text/plain": [
       "Unnamed: 0         int64\n",
       "itemname          object\n",
       "mealtype          object\n",
       "quantity         float64\n",
       "quantitytype      object\n",
       "datesort           int64\n",
       "itemid          category\n",
       "dtype: object"
      ]
     },
     "execution_count": 45,
     "metadata": {},
     "output_type": "execute_result"
    }
   ],
   "source": [
    "loc9pound[\"itemid\"] = loc9pound[\"itemname\"].astype('category')\n",
    "loc9pound.dtypes"
   ]
  },
  {
   "cell_type": "code",
   "execution_count": 46,
   "metadata": {},
   "outputs": [
    {
     "data": {
      "text/plain": [
       "Unnamed: 0         int64\n",
       "itemname          object\n",
       "mealtype          object\n",
       "quantity         float64\n",
       "quantitytype      object\n",
       "datesort           int64\n",
       "itemid          category\n",
       "mealtypeid      category\n",
       "dtype: object"
      ]
     },
     "execution_count": 46,
     "metadata": {},
     "output_type": "execute_result"
    }
   ],
   "source": [
    "loc9pound[\"mealtypeid\"] = loc9pound[\"mealtype\"].astype('category')\n",
    "loc9pound.dtypes"
   ]
  },
  {
   "cell_type": "code",
   "execution_count": 47,
   "metadata": {},
   "outputs": [],
   "source": [
    "data199 = pd.read_csv(\"data199.csv\")"
   ]
  },
  {
   "cell_type": "code",
   "execution_count": 48,
   "metadata": {},
   "outputs": [
    {
     "data": {
      "text/html": [
       "<div>\n",
       "<style scoped>\n",
       "    .dataframe tbody tr th:only-of-type {\n",
       "        vertical-align: middle;\n",
       "    }\n",
       "\n",
       "    .dataframe tbody tr th {\n",
       "        vertical-align: top;\n",
       "    }\n",
       "\n",
       "    .dataframe thead th {\n",
       "        text-align: right;\n",
       "    }\n",
       "</style>\n",
       "<table border=\"1\" class=\"dataframe\">\n",
       "  <thead>\n",
       "    <tr style=\"text-align: right;\">\n",
       "      <th></th>\n",
       "      <th>Unnamed: 0</th>\n",
       "      <th>X</th>\n",
       "      <th>itemname</th>\n",
       "      <th>mealtype</th>\n",
       "      <th>quantity</th>\n",
       "      <th>quantitytype</th>\n",
       "      <th>datesort</th>\n",
       "      <th>itemid</th>\n",
       "      <th>mealtypeid</th>\n",
       "    </tr>\n",
       "  </thead>\n",
       "  <tbody>\n",
       "    <tr>\n",
       "      <th>0</th>\n",
       "      <td>21</td>\n",
       "      <td>30</td>\n",
       "      <td>Meat Sauce</td>\n",
       "      <td>NaN</td>\n",
       "      <td>1.0</td>\n",
       "      <td>Pound</td>\n",
       "      <td>2</td>\n",
       "      <td>199</td>\n",
       "      <td>1</td>\n",
       "    </tr>\n",
       "    <tr>\n",
       "      <th>1</th>\n",
       "      <td>33</td>\n",
       "      <td>48</td>\n",
       "      <td>Meat Sauce</td>\n",
       "      <td>NaN</td>\n",
       "      <td>6.0</td>\n",
       "      <td>Pound</td>\n",
       "      <td>2</td>\n",
       "      <td>199</td>\n",
       "      <td>1</td>\n",
       "    </tr>\n",
       "    <tr>\n",
       "      <th>2</th>\n",
       "      <td>39</td>\n",
       "      <td>54</td>\n",
       "      <td>Meat Sauce</td>\n",
       "      <td>NaN</td>\n",
       "      <td>6.0</td>\n",
       "      <td>Pound</td>\n",
       "      <td>2</td>\n",
       "      <td>199</td>\n",
       "      <td>1</td>\n",
       "    </tr>\n",
       "    <tr>\n",
       "      <th>3</th>\n",
       "      <td>52</td>\n",
       "      <td>82</td>\n",
       "      <td>Meat Sauce</td>\n",
       "      <td>NaN</td>\n",
       "      <td>8.0</td>\n",
       "      <td>Pound</td>\n",
       "      <td>3</td>\n",
       "      <td>199</td>\n",
       "      <td>1</td>\n",
       "    </tr>\n",
       "    <tr>\n",
       "      <th>4</th>\n",
       "      <td>66</td>\n",
       "      <td>101</td>\n",
       "      <td>Meat Sauce</td>\n",
       "      <td>NaN</td>\n",
       "      <td>4.0</td>\n",
       "      <td>Pound</td>\n",
       "      <td>4</td>\n",
       "      <td>199</td>\n",
       "      <td>1</td>\n",
       "    </tr>\n",
       "  </tbody>\n",
       "</table>\n",
       "</div>"
      ],
      "text/plain": [
       "   Unnamed: 0    X    itemname mealtype  quantity quantitytype  datesort  \\\n",
       "0          21   30  Meat Sauce      NaN       1.0        Pound         2   \n",
       "1          33   48  Meat Sauce      NaN       6.0        Pound         2   \n",
       "2          39   54  Meat Sauce      NaN       6.0        Pound         2   \n",
       "3          52   82  Meat Sauce      NaN       8.0        Pound         3   \n",
       "4          66  101  Meat Sauce      NaN       4.0        Pound         4   \n",
       "\n",
       "   itemid  mealtypeid  \n",
       "0     199           1  \n",
       "1     199           1  \n",
       "2     199           1  \n",
       "3     199           1  \n",
       "4     199           1  "
      ]
     },
     "execution_count": 48,
     "metadata": {},
     "output_type": "execute_result"
    }
   ],
   "source": [
    "data199.head()"
   ]
  },
  {
   "cell_type": "code",
   "execution_count": 49,
   "metadata": {},
   "outputs": [],
   "source": [
    "train199, test199 = train_test_split(data199, test_size=0.2)"
   ]
  },
  {
   "cell_type": "code",
   "execution_count": 50,
   "metadata": {},
   "outputs": [
    {
     "data": {
      "text/html": [
       "<div>\n",
       "<style scoped>\n",
       "    .dataframe tbody tr th:only-of-type {\n",
       "        vertical-align: middle;\n",
       "    }\n",
       "\n",
       "    .dataframe tbody tr th {\n",
       "        vertical-align: top;\n",
       "    }\n",
       "\n",
       "    .dataframe thead th {\n",
       "        text-align: right;\n",
       "    }\n",
       "</style>\n",
       "<table border=\"1\" class=\"dataframe\">\n",
       "  <thead>\n",
       "    <tr style=\"text-align: right;\">\n",
       "      <th></th>\n",
       "      <th>Unnamed: 0</th>\n",
       "      <th>X</th>\n",
       "      <th>quantity</th>\n",
       "      <th>datesort</th>\n",
       "      <th>itemid</th>\n",
       "      <th>mealtypeid</th>\n",
       "    </tr>\n",
       "  </thead>\n",
       "  <tbody>\n",
       "    <tr>\n",
       "      <th>count</th>\n",
       "      <td>168.000000</td>\n",
       "      <td>168.000000</td>\n",
       "      <td>168.000000</td>\n",
       "      <td>168.000000</td>\n",
       "      <td>168.0</td>\n",
       "      <td>168.000000</td>\n",
       "    </tr>\n",
       "    <tr>\n",
       "      <th>mean</th>\n",
       "      <td>1620.839286</td>\n",
       "      <td>2552.059524</td>\n",
       "      <td>3.736905</td>\n",
       "      <td>383.732143</td>\n",
       "      <td>199.0</td>\n",
       "      <td>1.244048</td>\n",
       "    </tr>\n",
       "    <tr>\n",
       "      <th>std</th>\n",
       "      <td>899.106658</td>\n",
       "      <td>1501.966801</td>\n",
       "      <td>2.372158</td>\n",
       "      <td>276.666177</td>\n",
       "      <td>0.0</td>\n",
       "      <td>0.696415</td>\n",
       "    </tr>\n",
       "    <tr>\n",
       "      <th>min</th>\n",
       "      <td>21.000000</td>\n",
       "      <td>30.000000</td>\n",
       "      <td>0.200000</td>\n",
       "      <td>2.000000</td>\n",
       "      <td>199.0</td>\n",
       "      <td>1.000000</td>\n",
       "    </tr>\n",
       "    <tr>\n",
       "      <th>25%</th>\n",
       "      <td>851.750000</td>\n",
       "      <td>1232.750000</td>\n",
       "      <td>2.000000</td>\n",
       "      <td>198.750000</td>\n",
       "      <td>199.0</td>\n",
       "      <td>1.000000</td>\n",
       "    </tr>\n",
       "    <tr>\n",
       "      <th>50%</th>\n",
       "      <td>1715.500000</td>\n",
       "      <td>2675.500000</td>\n",
       "      <td>3.000000</td>\n",
       "      <td>351.500000</td>\n",
       "      <td>199.0</td>\n",
       "      <td>1.000000</td>\n",
       "    </tr>\n",
       "    <tr>\n",
       "      <th>75%</th>\n",
       "      <td>2378.250000</td>\n",
       "      <td>3778.000000</td>\n",
       "      <td>5.000000</td>\n",
       "      <td>575.000000</td>\n",
       "      <td>199.0</td>\n",
       "      <td>1.000000</td>\n",
       "    </tr>\n",
       "    <tr>\n",
       "      <th>max</th>\n",
       "      <td>3134.000000</td>\n",
       "      <td>5151.000000</td>\n",
       "      <td>11.000000</td>\n",
       "      <td>1059.000000</td>\n",
       "      <td>199.0</td>\n",
       "      <td>4.000000</td>\n",
       "    </tr>\n",
       "  </tbody>\n",
       "</table>\n",
       "</div>"
      ],
      "text/plain": [
       "        Unnamed: 0            X    quantity     datesort  itemid  mealtypeid\n",
       "count   168.000000   168.000000  168.000000   168.000000   168.0  168.000000\n",
       "mean   1620.839286  2552.059524    3.736905   383.732143   199.0    1.244048\n",
       "std     899.106658  1501.966801    2.372158   276.666177     0.0    0.696415\n",
       "min      21.000000    30.000000    0.200000     2.000000   199.0    1.000000\n",
       "25%     851.750000  1232.750000    2.000000   198.750000   199.0    1.000000\n",
       "50%    1715.500000  2675.500000    3.000000   351.500000   199.0    1.000000\n",
       "75%    2378.250000  3778.000000    5.000000   575.000000   199.0    1.000000\n",
       "max    3134.000000  5151.000000   11.000000  1059.000000   199.0    4.000000"
      ]
     },
     "execution_count": 50,
     "metadata": {},
     "output_type": "execute_result"
    }
   ],
   "source": [
    "train199.describe()"
   ]
  },
  {
   "cell_type": "code",
   "execution_count": 51,
   "metadata": {},
   "outputs": [
    {
     "data": {
      "text/html": [
       "<div>\n",
       "<style scoped>\n",
       "    .dataframe tbody tr th:only-of-type {\n",
       "        vertical-align: middle;\n",
       "    }\n",
       "\n",
       "    .dataframe tbody tr th {\n",
       "        vertical-align: top;\n",
       "    }\n",
       "\n",
       "    .dataframe thead th {\n",
       "        text-align: right;\n",
       "    }\n",
       "</style>\n",
       "<table border=\"1\" class=\"dataframe\">\n",
       "  <thead>\n",
       "    <tr style=\"text-align: right;\">\n",
       "      <th></th>\n",
       "      <th>Unnamed: 0</th>\n",
       "      <th>X</th>\n",
       "      <th>quantity</th>\n",
       "      <th>datesort</th>\n",
       "      <th>itemid</th>\n",
       "      <th>mealtypeid</th>\n",
       "    </tr>\n",
       "  </thead>\n",
       "  <tbody>\n",
       "    <tr>\n",
       "      <th>count</th>\n",
       "      <td>42.000000</td>\n",
       "      <td>42.000000</td>\n",
       "      <td>42.000000</td>\n",
       "      <td>42.000000</td>\n",
       "      <td>42.0</td>\n",
       "      <td>42.000000</td>\n",
       "    </tr>\n",
       "    <tr>\n",
       "      <th>mean</th>\n",
       "      <td>1619.023810</td>\n",
       "      <td>2550.761905</td>\n",
       "      <td>4.783333</td>\n",
       "      <td>378.595238</td>\n",
       "      <td>199.0</td>\n",
       "      <td>1.214286</td>\n",
       "    </tr>\n",
       "    <tr>\n",
       "      <th>std</th>\n",
       "      <td>850.378466</td>\n",
       "      <td>1433.759969</td>\n",
       "      <td>3.384680</td>\n",
       "      <td>251.558368</td>\n",
       "      <td>0.0</td>\n",
       "      <td>0.682024</td>\n",
       "    </tr>\n",
       "    <tr>\n",
       "      <th>min</th>\n",
       "      <td>151.000000</td>\n",
       "      <td>213.000000</td>\n",
       "      <td>0.200000</td>\n",
       "      <td>9.000000</td>\n",
       "      <td>199.0</td>\n",
       "      <td>1.000000</td>\n",
       "    </tr>\n",
       "    <tr>\n",
       "      <th>25%</th>\n",
       "      <td>986.000000</td>\n",
       "      <td>1472.250000</td>\n",
       "      <td>2.000000</td>\n",
       "      <td>215.750000</td>\n",
       "      <td>199.0</td>\n",
       "      <td>1.000000</td>\n",
       "    </tr>\n",
       "    <tr>\n",
       "      <th>50%</th>\n",
       "      <td>1518.500000</td>\n",
       "      <td>2344.000000</td>\n",
       "      <td>4.300000</td>\n",
       "      <td>321.000000</td>\n",
       "      <td>199.0</td>\n",
       "      <td>1.000000</td>\n",
       "    </tr>\n",
       "    <tr>\n",
       "      <th>75%</th>\n",
       "      <td>2534.750000</td>\n",
       "      <td>4104.000000</td>\n",
       "      <td>6.075000</td>\n",
       "      <td>649.250000</td>\n",
       "      <td>199.0</td>\n",
       "      <td>1.000000</td>\n",
       "    </tr>\n",
       "    <tr>\n",
       "      <th>max</th>\n",
       "      <td>3013.000000</td>\n",
       "      <td>5020.000000</td>\n",
       "      <td>15.000000</td>\n",
       "      <td>1041.000000</td>\n",
       "      <td>199.0</td>\n",
       "      <td>4.000000</td>\n",
       "    </tr>\n",
       "  </tbody>\n",
       "</table>\n",
       "</div>"
      ],
      "text/plain": [
       "        Unnamed: 0            X   quantity     datesort  itemid  mealtypeid\n",
       "count    42.000000    42.000000  42.000000    42.000000    42.0   42.000000\n",
       "mean   1619.023810  2550.761905   4.783333   378.595238   199.0    1.214286\n",
       "std     850.378466  1433.759969   3.384680   251.558368     0.0    0.682024\n",
       "min     151.000000   213.000000   0.200000     9.000000   199.0    1.000000\n",
       "25%     986.000000  1472.250000   2.000000   215.750000   199.0    1.000000\n",
       "50%    1518.500000  2344.000000   4.300000   321.000000   199.0    1.000000\n",
       "75%    2534.750000  4104.000000   6.075000   649.250000   199.0    1.000000\n",
       "max    3013.000000  5020.000000  15.000000  1041.000000   199.0    4.000000"
      ]
     },
     "execution_count": 51,
     "metadata": {},
     "output_type": "execute_result"
    }
   ],
   "source": [
    "test199.describe()"
   ]
  },
  {
   "cell_type": "code",
   "execution_count": 52,
   "metadata": {},
   "outputs": [],
   "source": [
    "testtry199 = pd.read_csv(\"testtry199.csv\")"
   ]
  },
  {
   "cell_type": "code",
   "execution_count": 53,
   "metadata": {},
   "outputs": [],
   "source": [
    "clf=RandomForestClassifier(n_estimators=100)"
   ]
  },
  {
   "cell_type": "code",
   "execution_count": 54,
   "metadata": {},
   "outputs": [],
   "source": [
    "Xtrain199=train199[['datesort', 'itemid', 'mealtypeid']]"
   ]
  },
  {
   "cell_type": "code",
   "execution_count": 55,
   "metadata": {},
   "outputs": [],
   "source": [
    "Ytrain199=train199[['quantity']]"
   ]
  },
  {
   "cell_type": "code",
   "execution_count": 56,
   "metadata": {},
   "outputs": [],
   "source": [
    "Xtest199=test199[['datesort', 'itemid', 'mealtypeid']]"
   ]
  },
  {
   "cell_type": "code",
   "execution_count": 57,
   "metadata": {},
   "outputs": [],
   "source": [
    "Ytest199=test199['quantity']"
   ]
  },
  {
   "cell_type": "code",
   "execution_count": 58,
   "metadata": {},
   "outputs": [
    {
     "data": {
      "text/plain": [
       "count    42.000000\n",
       "mean      4.783333\n",
       "std       3.384680\n",
       "min       0.200000\n",
       "25%       2.000000\n",
       "50%       4.300000\n",
       "75%       6.075000\n",
       "max      15.000000\n",
       "Name: quantity, dtype: float64"
      ]
     },
     "execution_count": 58,
     "metadata": {},
     "output_type": "execute_result"
    }
   ],
   "source": [
    "Ytest199.describe()"
   ]
  },
  {
   "cell_type": "code",
   "execution_count": 59,
   "metadata": {},
   "outputs": [
    {
     "data": {
      "text/html": [
       "<div>\n",
       "<style scoped>\n",
       "    .dataframe tbody tr th:only-of-type {\n",
       "        vertical-align: middle;\n",
       "    }\n",
       "\n",
       "    .dataframe tbody tr th {\n",
       "        vertical-align: top;\n",
       "    }\n",
       "\n",
       "    .dataframe thead th {\n",
       "        text-align: right;\n",
       "    }\n",
       "</style>\n",
       "<table border=\"1\" class=\"dataframe\">\n",
       "  <thead>\n",
       "    <tr style=\"text-align: right;\">\n",
       "      <th></th>\n",
       "      <th>datesort</th>\n",
       "      <th>itemid</th>\n",
       "      <th>mealtypeid</th>\n",
       "    </tr>\n",
       "  </thead>\n",
       "  <tbody>\n",
       "    <tr>\n",
       "      <th>count</th>\n",
       "      <td>168.000000</td>\n",
       "      <td>168.0</td>\n",
       "      <td>168.000000</td>\n",
       "    </tr>\n",
       "    <tr>\n",
       "      <th>mean</th>\n",
       "      <td>383.732143</td>\n",
       "      <td>199.0</td>\n",
       "      <td>1.244048</td>\n",
       "    </tr>\n",
       "    <tr>\n",
       "      <th>std</th>\n",
       "      <td>276.666177</td>\n",
       "      <td>0.0</td>\n",
       "      <td>0.696415</td>\n",
       "    </tr>\n",
       "    <tr>\n",
       "      <th>min</th>\n",
       "      <td>2.000000</td>\n",
       "      <td>199.0</td>\n",
       "      <td>1.000000</td>\n",
       "    </tr>\n",
       "    <tr>\n",
       "      <th>25%</th>\n",
       "      <td>198.750000</td>\n",
       "      <td>199.0</td>\n",
       "      <td>1.000000</td>\n",
       "    </tr>\n",
       "    <tr>\n",
       "      <th>50%</th>\n",
       "      <td>351.500000</td>\n",
       "      <td>199.0</td>\n",
       "      <td>1.000000</td>\n",
       "    </tr>\n",
       "    <tr>\n",
       "      <th>75%</th>\n",
       "      <td>575.000000</td>\n",
       "      <td>199.0</td>\n",
       "      <td>1.000000</td>\n",
       "    </tr>\n",
       "    <tr>\n",
       "      <th>max</th>\n",
       "      <td>1059.000000</td>\n",
       "      <td>199.0</td>\n",
       "      <td>4.000000</td>\n",
       "    </tr>\n",
       "  </tbody>\n",
       "</table>\n",
       "</div>"
      ],
      "text/plain": [
       "          datesort  itemid  mealtypeid\n",
       "count   168.000000   168.0  168.000000\n",
       "mean    383.732143   199.0    1.244048\n",
       "std     276.666177     0.0    0.696415\n",
       "min       2.000000   199.0    1.000000\n",
       "25%     198.750000   199.0    1.000000\n",
       "50%     351.500000   199.0    1.000000\n",
       "75%     575.000000   199.0    1.000000\n",
       "max    1059.000000   199.0    4.000000"
      ]
     },
     "execution_count": 59,
     "metadata": {},
     "output_type": "execute_result"
    }
   ],
   "source": [
    "Xtrain199.describe()"
   ]
  },
  {
   "cell_type": "code",
   "execution_count": 60,
   "metadata": {},
   "outputs": [
    {
     "name": "stderr",
     "output_type": "stream",
     "text": [
      "/Users/siddhant/anaconda3/lib/python3.6/site-packages/ipykernel_launcher.py:1: DataConversionWarning: A column-vector y was passed when a 1d array was expected. Please change the shape of y to (n_samples,), for example using ravel().\n",
      "  \"\"\"Entry point for launching an IPython kernel.\n"
     ]
    },
    {
     "ename": "ValueError",
     "evalue": "Unknown label type: 'continuous'",
     "output_type": "error",
     "traceback": [
      "\u001b[0;31m---------------------------------------------------------------------------\u001b[0m",
      "\u001b[0;31mValueError\u001b[0m                                Traceback (most recent call last)",
      "\u001b[0;32m<ipython-input-60-6411b0fc9369>\u001b[0m in \u001b[0;36m<module>\u001b[0;34m()\u001b[0m\n\u001b[0;32m----> 1\u001b[0;31m \u001b[0mclf\u001b[0m\u001b[0;34m.\u001b[0m\u001b[0mfit\u001b[0m\u001b[0;34m(\u001b[0m\u001b[0mXtrain199\u001b[0m\u001b[0;34m,\u001b[0m\u001b[0mYtrain199\u001b[0m\u001b[0;34m)\u001b[0m\u001b[0;34m\u001b[0m\u001b[0m\n\u001b[0m",
      "\u001b[0;32m~/anaconda3/lib/python3.6/site-packages/sklearn/ensemble/forest.py\u001b[0m in \u001b[0;36mfit\u001b[0;34m(self, X, y, sample_weight)\u001b[0m\n\u001b[1;32m    271\u001b[0m         \u001b[0mself\u001b[0m\u001b[0;34m.\u001b[0m\u001b[0mn_outputs_\u001b[0m \u001b[0;34m=\u001b[0m \u001b[0my\u001b[0m\u001b[0;34m.\u001b[0m\u001b[0mshape\u001b[0m\u001b[0;34m[\u001b[0m\u001b[0;36m1\u001b[0m\u001b[0;34m]\u001b[0m\u001b[0;34m\u001b[0m\u001b[0m\n\u001b[1;32m    272\u001b[0m \u001b[0;34m\u001b[0m\u001b[0m\n\u001b[0;32m--> 273\u001b[0;31m         \u001b[0my\u001b[0m\u001b[0;34m,\u001b[0m \u001b[0mexpanded_class_weight\u001b[0m \u001b[0;34m=\u001b[0m \u001b[0mself\u001b[0m\u001b[0;34m.\u001b[0m\u001b[0m_validate_y_class_weight\u001b[0m\u001b[0;34m(\u001b[0m\u001b[0my\u001b[0m\u001b[0;34m)\u001b[0m\u001b[0;34m\u001b[0m\u001b[0m\n\u001b[0m\u001b[1;32m    274\u001b[0m \u001b[0;34m\u001b[0m\u001b[0m\n\u001b[1;32m    275\u001b[0m         \u001b[0;32mif\u001b[0m \u001b[0mgetattr\u001b[0m\u001b[0;34m(\u001b[0m\u001b[0my\u001b[0m\u001b[0;34m,\u001b[0m \u001b[0;34m\"dtype\"\u001b[0m\u001b[0;34m,\u001b[0m \u001b[0;32mNone\u001b[0m\u001b[0;34m)\u001b[0m \u001b[0;34m!=\u001b[0m \u001b[0mDOUBLE\u001b[0m \u001b[0;32mor\u001b[0m \u001b[0;32mnot\u001b[0m \u001b[0my\u001b[0m\u001b[0;34m.\u001b[0m\u001b[0mflags\u001b[0m\u001b[0;34m.\u001b[0m\u001b[0mcontiguous\u001b[0m\u001b[0;34m:\u001b[0m\u001b[0;34m\u001b[0m\u001b[0m\n",
      "\u001b[0;32m~/anaconda3/lib/python3.6/site-packages/sklearn/ensemble/forest.py\u001b[0m in \u001b[0;36m_validate_y_class_weight\u001b[0;34m(self, y)\u001b[0m\n\u001b[1;32m    469\u001b[0m \u001b[0;34m\u001b[0m\u001b[0m\n\u001b[1;32m    470\u001b[0m     \u001b[0;32mdef\u001b[0m \u001b[0m_validate_y_class_weight\u001b[0m\u001b[0;34m(\u001b[0m\u001b[0mself\u001b[0m\u001b[0;34m,\u001b[0m \u001b[0my\u001b[0m\u001b[0;34m)\u001b[0m\u001b[0;34m:\u001b[0m\u001b[0;34m\u001b[0m\u001b[0m\n\u001b[0;32m--> 471\u001b[0;31m         \u001b[0mcheck_classification_targets\u001b[0m\u001b[0;34m(\u001b[0m\u001b[0my\u001b[0m\u001b[0;34m)\u001b[0m\u001b[0;34m\u001b[0m\u001b[0m\n\u001b[0m\u001b[1;32m    472\u001b[0m \u001b[0;34m\u001b[0m\u001b[0m\n\u001b[1;32m    473\u001b[0m         \u001b[0my\u001b[0m \u001b[0;34m=\u001b[0m \u001b[0mnp\u001b[0m\u001b[0;34m.\u001b[0m\u001b[0mcopy\u001b[0m\u001b[0;34m(\u001b[0m\u001b[0my\u001b[0m\u001b[0;34m)\u001b[0m\u001b[0;34m\u001b[0m\u001b[0m\n",
      "\u001b[0;32m~/anaconda3/lib/python3.6/site-packages/sklearn/utils/multiclass.py\u001b[0m in \u001b[0;36mcheck_classification_targets\u001b[0;34m(y)\u001b[0m\n\u001b[1;32m    170\u001b[0m     if y_type not in ['binary', 'multiclass', 'multiclass-multioutput',\n\u001b[1;32m    171\u001b[0m                       'multilabel-indicator', 'multilabel-sequences']:\n\u001b[0;32m--> 172\u001b[0;31m         \u001b[0;32mraise\u001b[0m \u001b[0mValueError\u001b[0m\u001b[0;34m(\u001b[0m\u001b[0;34m\"Unknown label type: %r\"\u001b[0m \u001b[0;34m%\u001b[0m \u001b[0my_type\u001b[0m\u001b[0;34m)\u001b[0m\u001b[0;34m\u001b[0m\u001b[0m\n\u001b[0m\u001b[1;32m    173\u001b[0m \u001b[0;34m\u001b[0m\u001b[0m\n\u001b[1;32m    174\u001b[0m \u001b[0;34m\u001b[0m\u001b[0m\n",
      "\u001b[0;31mValueError\u001b[0m: Unknown label type: 'continuous'"
     ]
    }
   ],
   "source": [
    "clf.fit(Xtrain199,Ytrain199)"
   ]
  },
  {
   "cell_type": "code",
   "execution_count": 61,
   "metadata": {},
   "outputs": [
    {
     "name": "stdout",
     "output_type": "stream",
     "text": [
      "[22  9 14 45  4 17 55 52 50  2 25 12 12 44 24 20 12 36 35 29 12 22 27 11\n",
      " 28 35  8  8 12 38 12 26 11 22 12 28  4 35 38 17 21 12 28 49  6 34 47  7\n",
      "  4 45 10 52  7  7  1 35 43 24  5 27 12 51 23  4 35  3 54 46 28 22 16 33\n",
      "  4  4 23 22 12 53 11 16 17 35 42 14 12 26  2  4 40 19 28 23 40 12 40  4\n",
      " 32 48 41 28  8 17  1 22 28 11  4 40 50  6 32 40 10 38  2 16 30 33 28 15\n",
      " 44 33 23 48 22 21 40  4 22 28 37 19 35 52 18  2 22 29 19 38 52 31 28 22\n",
      " 12 26 32  4 11 12 35 47 40 22 39  0 19 18  8 49 13 40 33 18 12 22 12 36]\n",
      "continuous\n",
      "multiclass\n",
      "multiclass\n"
     ]
    },
    {
     "name": "stderr",
     "output_type": "stream",
     "text": [
      "/Users/siddhant/anaconda3/lib/python3.6/site-packages/sklearn/preprocessing/label.py:111: DataConversionWarning: A column-vector y was passed when a 1d array was expected. Please change the shape of y to (n_samples, ), for example using ravel().\n",
      "  y = column_or_1d(y, warn=True)\n"
     ]
    }
   ],
   "source": [
    "lab_enc = preprocessing.LabelEncoder()\n",
    "Ytrain199_encoded = lab_enc.fit_transform(Ytrain199)\n",
    "print(Ytrain199_encoded)\n",
    "print(utils.multiclass.type_of_target(Ytrain199))\n",
    "print(utils.multiclass.type_of_target(Ytrain199.astype('int')))\n",
    "print(utils.multiclass.type_of_target(Ytrain199_encoded))"
   ]
  },
  {
   "cell_type": "code",
   "execution_count": 62,
   "metadata": {},
   "outputs": [
    {
     "data": {
      "text/plain": [
       "RandomForestClassifier(bootstrap=True, class_weight=None, criterion='gini',\n",
       "            max_depth=None, max_features='auto', max_leaf_nodes=None,\n",
       "            min_impurity_decrease=0.0, min_impurity_split=None,\n",
       "            min_samples_leaf=1, min_samples_split=2,\n",
       "            min_weight_fraction_leaf=0.0, n_estimators=100, n_jobs=1,\n",
       "            oob_score=False, random_state=None, verbose=0,\n",
       "            warm_start=False)"
      ]
     },
     "execution_count": 62,
     "metadata": {},
     "output_type": "execute_result"
    }
   ],
   "source": [
    "clf.fit(Xtrain199,Ytrain199_encoded)"
   ]
  },
  {
   "cell_type": "code",
   "execution_count": 63,
   "metadata": {},
   "outputs": [],
   "source": [
    "y_pred=clf.predict(Xtest199)"
   ]
  },
  {
   "cell_type": "code",
   "execution_count": 64,
   "metadata": {},
   "outputs": [
    {
     "data": {
      "text/plain": [
       "array([12,  8, 22, 29,  8, 52,  8,  4, 17, 49, 40, 12, 10, 12, 24, 49, 52,\n",
       "       52, 28, 12, 22, 18, 40, 14, 11, 12,  8, 35,  9,  2, 32, 24, 46, 36,\n",
       "       51, 12, 32, 22,  2, 22,  8, 35])"
      ]
     },
     "execution_count": 64,
     "metadata": {},
     "output_type": "execute_result"
    }
   ],
   "source": [
    "y_pred"
   ]
  },
  {
   "cell_type": "code",
   "execution_count": 65,
   "metadata": {},
   "outputs": [
    {
     "data": {
      "text/plain": [
       "203   -10.5\n",
       "82      1.0\n",
       "157   -17.0\n",
       "174   -28.5\n",
       "80     -3.4\n",
       "55    -50.2\n",
       "49     -3.0\n",
       "87      2.0\n",
       "125   -15.3\n",
       "84    -40.9\n",
       "6     -38.0\n",
       "167   -11.0\n",
       "124    -7.4\n",
       "131   -10.8\n",
       "99    -18.4\n",
       "83    -43.2\n",
       "42    -45.2\n",
       "56    -40.0\n",
       "67    -25.7\n",
       "169    -8.6\n",
       "53    -21.8\n",
       "170   -16.0\n",
       "9     -38.0\n",
       "183   -11.9\n",
       "96     -7.6\n",
       "177    -8.9\n",
       "47     -6.0\n",
       "196   -29.0\n",
       "76     -6.0\n",
       "185     1.0\n",
       "26    -26.6\n",
       "128   -18.5\n",
       "37    -42.0\n",
       "133   -25.5\n",
       "189   -43.0\n",
       "111    -5.9\n",
       "27    -23.8\n",
       "62    -20.5\n",
       "108     6.0\n",
       "16    -17.0\n",
       "81      3.0\n",
       "188   -20.0\n",
       "Name: quantity, dtype: float64"
      ]
     },
     "execution_count": 65,
     "metadata": {},
     "output_type": "execute_result"
    }
   ],
   "source": [
    "Ytest199 - y_pred"
   ]
  },
  {
   "cell_type": "code",
   "execution_count": 66,
   "metadata": {},
   "outputs": [
    {
     "data": {
      "text/plain": [
       "203     1.5\n",
       "82      9.0\n",
       "157     5.0\n",
       "174     0.5\n",
       "80      4.6\n",
       "55      1.8\n",
       "49      5.0\n",
       "87      6.0\n",
       "125     1.7\n",
       "84      8.1\n",
       "6       2.0\n",
       "167     1.0\n",
       "124     2.6\n",
       "131     1.2\n",
       "99      5.6\n",
       "83      5.8\n",
       "42      6.8\n",
       "56     12.0\n",
       "67      2.3\n",
       "169     3.4\n",
       "53      0.2\n",
       "170     2.0\n",
       "9       2.0\n",
       "183     2.1\n",
       "96      3.4\n",
       "177     3.1\n",
       "47      2.0\n",
       "196     6.0\n",
       "76      3.0\n",
       "185     3.0\n",
       "26      5.4\n",
       "128     5.5\n",
       "37      4.0\n",
       "133    10.5\n",
       "189     8.0\n",
       "111     6.1\n",
       "27      8.2\n",
       "62      1.5\n",
       "108     8.0\n",
       "16      5.0\n",
       "81     11.0\n",
       "188    15.0\n",
       "Name: quantity, dtype: float64"
      ]
     },
     "execution_count": 66,
     "metadata": {},
     "output_type": "execute_result"
    }
   ],
   "source": [
    "Ytest199"
   ]
  },
  {
   "cell_type": "code",
   "execution_count": 162,
   "metadata": {},
   "outputs": [],
   "source": [
    "testtry199 = pd.read_csv(\"testtry199.csv\")"
   ]
  },
  {
   "cell_type": "code",
   "execution_count": 163,
   "metadata": {},
   "outputs": [],
   "source": [
    "data199 = pd.read_csv(\"data199.csv\")"
   ]
  },
  {
   "cell_type": "code",
   "execution_count": 164,
   "metadata": {},
   "outputs": [
    {
     "name": "stdout",
     "output_type": "stream",
     "text": [
      "The shape of our features is: (210, 9)\n"
     ]
    }
   ],
   "source": [
    "print('The shape of our features is:', data199.shape)"
   ]
  },
  {
   "cell_type": "code",
   "execution_count": 165,
   "metadata": {},
   "outputs": [
    {
     "data": {
      "text/html": [
       "<div>\n",
       "<style scoped>\n",
       "    .dataframe tbody tr th:only-of-type {\n",
       "        vertical-align: middle;\n",
       "    }\n",
       "\n",
       "    .dataframe tbody tr th {\n",
       "        vertical-align: top;\n",
       "    }\n",
       "\n",
       "    .dataframe thead th {\n",
       "        text-align: right;\n",
       "    }\n",
       "</style>\n",
       "<table border=\"1\" class=\"dataframe\">\n",
       "  <thead>\n",
       "    <tr style=\"text-align: right;\">\n",
       "      <th></th>\n",
       "      <th>Unnamed: 0</th>\n",
       "      <th>X</th>\n",
       "      <th>quantity</th>\n",
       "      <th>datesort</th>\n",
       "      <th>itemid</th>\n",
       "      <th>mealtypeid</th>\n",
       "    </tr>\n",
       "  </thead>\n",
       "  <tbody>\n",
       "    <tr>\n",
       "      <th>count</th>\n",
       "      <td>210.000000</td>\n",
       "      <td>210.000000</td>\n",
       "      <td>210.000000</td>\n",
       "      <td>210.000000</td>\n",
       "      <td>210.0</td>\n",
       "      <td>210.000000</td>\n",
       "    </tr>\n",
       "    <tr>\n",
       "      <th>mean</th>\n",
       "      <td>1620.476190</td>\n",
       "      <td>2551.800000</td>\n",
       "      <td>3.946190</td>\n",
       "      <td>382.704762</td>\n",
       "      <td>199.0</td>\n",
       "      <td>1.238095</td>\n",
       "    </tr>\n",
       "    <tr>\n",
       "      <th>std</th>\n",
       "      <td>887.582034</td>\n",
       "      <td>1485.203647</td>\n",
       "      <td>2.630536</td>\n",
       "      <td>271.257127</td>\n",
       "      <td>0.0</td>\n",
       "      <td>0.692044</td>\n",
       "    </tr>\n",
       "    <tr>\n",
       "      <th>min</th>\n",
       "      <td>21.000000</td>\n",
       "      <td>30.000000</td>\n",
       "      <td>0.200000</td>\n",
       "      <td>2.000000</td>\n",
       "      <td>199.0</td>\n",
       "      <td>1.000000</td>\n",
       "    </tr>\n",
       "    <tr>\n",
       "      <th>25%</th>\n",
       "      <td>875.750000</td>\n",
       "      <td>1265.750000</td>\n",
       "      <td>2.000000</td>\n",
       "      <td>201.250000</td>\n",
       "      <td>199.0</td>\n",
       "      <td>1.000000</td>\n",
       "    </tr>\n",
       "    <tr>\n",
       "      <th>50%</th>\n",
       "      <td>1691.000000</td>\n",
       "      <td>2641.500000</td>\n",
       "      <td>3.200000</td>\n",
       "      <td>348.500000</td>\n",
       "      <td>199.0</td>\n",
       "      <td>1.000000</td>\n",
       "    </tr>\n",
       "    <tr>\n",
       "      <th>75%</th>\n",
       "      <td>2404.500000</td>\n",
       "      <td>3823.750000</td>\n",
       "      <td>5.475000</td>\n",
       "      <td>582.500000</td>\n",
       "      <td>199.0</td>\n",
       "      <td>1.000000</td>\n",
       "    </tr>\n",
       "    <tr>\n",
       "      <th>max</th>\n",
       "      <td>3134.000000</td>\n",
       "      <td>5151.000000</td>\n",
       "      <td>15.000000</td>\n",
       "      <td>1059.000000</td>\n",
       "      <td>199.0</td>\n",
       "      <td>4.000000</td>\n",
       "    </tr>\n",
       "  </tbody>\n",
       "</table>\n",
       "</div>"
      ],
      "text/plain": [
       "        Unnamed: 0            X    quantity     datesort  itemid  mealtypeid\n",
       "count   210.000000   210.000000  210.000000   210.000000   210.0  210.000000\n",
       "mean   1620.476190  2551.800000    3.946190   382.704762   199.0    1.238095\n",
       "std     887.582034  1485.203647    2.630536   271.257127     0.0    0.692044\n",
       "min      21.000000    30.000000    0.200000     2.000000   199.0    1.000000\n",
       "25%     875.750000  1265.750000    2.000000   201.250000   199.0    1.000000\n",
       "50%    1691.000000  2641.500000    3.200000   348.500000   199.0    1.000000\n",
       "75%    2404.500000  3823.750000    5.475000   582.500000   199.0    1.000000\n",
       "max    3134.000000  5151.000000   15.000000  1059.000000   199.0    4.000000"
      ]
     },
     "execution_count": 165,
     "metadata": {},
     "output_type": "execute_result"
    }
   ],
   "source": [
    "data199.describe()"
   ]
  },
  {
   "cell_type": "code",
   "execution_count": 166,
   "metadata": {},
   "outputs": [
    {
     "data": {
      "text/html": [
       "<div>\n",
       "<style scoped>\n",
       "    .dataframe tbody tr th:only-of-type {\n",
       "        vertical-align: middle;\n",
       "    }\n",
       "\n",
       "    .dataframe tbody tr th {\n",
       "        vertical-align: top;\n",
       "    }\n",
       "\n",
       "    .dataframe thead th {\n",
       "        text-align: right;\n",
       "    }\n",
       "</style>\n",
       "<table border=\"1\" class=\"dataframe\">\n",
       "  <thead>\n",
       "    <tr style=\"text-align: right;\">\n",
       "      <th></th>\n",
       "      <th>Unnamed: 0</th>\n",
       "      <th>X</th>\n",
       "      <th>itemname</th>\n",
       "      <th>mealtype</th>\n",
       "      <th>quantity</th>\n",
       "      <th>quantitytype</th>\n",
       "      <th>datesort</th>\n",
       "      <th>itemid</th>\n",
       "      <th>mealtypeid</th>\n",
       "    </tr>\n",
       "  </thead>\n",
       "  <tbody>\n",
       "    <tr>\n",
       "      <th>0</th>\n",
       "      <td>21</td>\n",
       "      <td>30</td>\n",
       "      <td>Meat Sauce</td>\n",
       "      <td>NaN</td>\n",
       "      <td>1.0</td>\n",
       "      <td>Pound</td>\n",
       "      <td>2</td>\n",
       "      <td>199</td>\n",
       "      <td>1</td>\n",
       "    </tr>\n",
       "    <tr>\n",
       "      <th>1</th>\n",
       "      <td>33</td>\n",
       "      <td>48</td>\n",
       "      <td>Meat Sauce</td>\n",
       "      <td>NaN</td>\n",
       "      <td>6.0</td>\n",
       "      <td>Pound</td>\n",
       "      <td>2</td>\n",
       "      <td>199</td>\n",
       "      <td>1</td>\n",
       "    </tr>\n",
       "    <tr>\n",
       "      <th>2</th>\n",
       "      <td>39</td>\n",
       "      <td>54</td>\n",
       "      <td>Meat Sauce</td>\n",
       "      <td>NaN</td>\n",
       "      <td>6.0</td>\n",
       "      <td>Pound</td>\n",
       "      <td>2</td>\n",
       "      <td>199</td>\n",
       "      <td>1</td>\n",
       "    </tr>\n",
       "    <tr>\n",
       "      <th>3</th>\n",
       "      <td>52</td>\n",
       "      <td>82</td>\n",
       "      <td>Meat Sauce</td>\n",
       "      <td>NaN</td>\n",
       "      <td>8.0</td>\n",
       "      <td>Pound</td>\n",
       "      <td>3</td>\n",
       "      <td>199</td>\n",
       "      <td>1</td>\n",
       "    </tr>\n",
       "    <tr>\n",
       "      <th>4</th>\n",
       "      <td>66</td>\n",
       "      <td>101</td>\n",
       "      <td>Meat Sauce</td>\n",
       "      <td>NaN</td>\n",
       "      <td>4.0</td>\n",
       "      <td>Pound</td>\n",
       "      <td>4</td>\n",
       "      <td>199</td>\n",
       "      <td>1</td>\n",
       "    </tr>\n",
       "  </tbody>\n",
       "</table>\n",
       "</div>"
      ],
      "text/plain": [
       "   Unnamed: 0    X    itemname mealtype  quantity quantitytype  datesort  \\\n",
       "0          21   30  Meat Sauce      NaN       1.0        Pound         2   \n",
       "1          33   48  Meat Sauce      NaN       6.0        Pound         2   \n",
       "2          39   54  Meat Sauce      NaN       6.0        Pound         2   \n",
       "3          52   82  Meat Sauce      NaN       8.0        Pound         3   \n",
       "4          66  101  Meat Sauce      NaN       4.0        Pound         4   \n",
       "\n",
       "   itemid  mealtypeid  \n",
       "0     199           1  \n",
       "1     199           1  \n",
       "2     199           1  \n",
       "3     199           1  \n",
       "4     199           1  "
      ]
     },
     "execution_count": 166,
     "metadata": {},
     "output_type": "execute_result"
    }
   ],
   "source": [
    "data199.head(5)"
   ]
  },
  {
   "cell_type": "code",
   "execution_count": 167,
   "metadata": {},
   "outputs": [],
   "source": [
    "labels = np.array(data199['quantity'])"
   ]
  },
  {
   "cell_type": "code",
   "execution_count": 168,
   "metadata": {},
   "outputs": [],
   "source": [
    "data199= data199.drop('quantity', axis = 1)\n",
    "data199= data199.drop('itemname', axis = 1)\n",
    "data199= data199.drop('mealtype', axis = 1)\n",
    "data199= data199.drop('quantitytype', axis = 1)"
   ]
  },
  {
   "cell_type": "code",
   "execution_count": 169,
   "metadata": {},
   "outputs": [
    {
     "data": {
      "text/plain": [
       "Unnamed: 0    int64\n",
       "X             int64\n",
       "datesort      int64\n",
       "itemid        int64\n",
       "mealtypeid    int64\n",
       "dtype: object"
      ]
     },
     "execution_count": 169,
     "metadata": {},
     "output_type": "execute_result"
    }
   ],
   "source": [
    "data199.dtypes"
   ]
  },
  {
   "cell_type": "code",
   "execution_count": 170,
   "metadata": {},
   "outputs": [
    {
     "data": {
      "text/html": [
       "<div>\n",
       "<style scoped>\n",
       "    .dataframe tbody tr th:only-of-type {\n",
       "        vertical-align: middle;\n",
       "    }\n",
       "\n",
       "    .dataframe tbody tr th {\n",
       "        vertical-align: top;\n",
       "    }\n",
       "\n",
       "    .dataframe thead th {\n",
       "        text-align: right;\n",
       "    }\n",
       "</style>\n",
       "<table border=\"1\" class=\"dataframe\">\n",
       "  <thead>\n",
       "    <tr style=\"text-align: right;\">\n",
       "      <th></th>\n",
       "      <th>Unnamed: 0</th>\n",
       "      <th>X</th>\n",
       "      <th>datesort</th>\n",
       "      <th>itemid</th>\n",
       "      <th>mealtypeid</th>\n",
       "    </tr>\n",
       "  </thead>\n",
       "  <tbody>\n",
       "    <tr>\n",
       "      <th>0</th>\n",
       "      <td>21</td>\n",
       "      <td>30</td>\n",
       "      <td>2</td>\n",
       "      <td>199</td>\n",
       "      <td>1</td>\n",
       "    </tr>\n",
       "    <tr>\n",
       "      <th>1</th>\n",
       "      <td>33</td>\n",
       "      <td>48</td>\n",
       "      <td>2</td>\n",
       "      <td>199</td>\n",
       "      <td>1</td>\n",
       "    </tr>\n",
       "    <tr>\n",
       "      <th>2</th>\n",
       "      <td>39</td>\n",
       "      <td>54</td>\n",
       "      <td>2</td>\n",
       "      <td>199</td>\n",
       "      <td>1</td>\n",
       "    </tr>\n",
       "    <tr>\n",
       "      <th>3</th>\n",
       "      <td>52</td>\n",
       "      <td>82</td>\n",
       "      <td>3</td>\n",
       "      <td>199</td>\n",
       "      <td>1</td>\n",
       "    </tr>\n",
       "    <tr>\n",
       "      <th>4</th>\n",
       "      <td>66</td>\n",
       "      <td>101</td>\n",
       "      <td>4</td>\n",
       "      <td>199</td>\n",
       "      <td>1</td>\n",
       "    </tr>\n",
       "  </tbody>\n",
       "</table>\n",
       "</div>"
      ],
      "text/plain": [
       "   Unnamed: 0    X  datesort  itemid  mealtypeid\n",
       "0          21   30         2     199           1\n",
       "1          33   48         2     199           1\n",
       "2          39   54         2     199           1\n",
       "3          52   82         3     199           1\n",
       "4          66  101         4     199           1"
      ]
     },
     "execution_count": 170,
     "metadata": {},
     "output_type": "execute_result"
    }
   ],
   "source": [
    "data199.head(5)"
   ]
  },
  {
   "cell_type": "code",
   "execution_count": 171,
   "metadata": {},
   "outputs": [],
   "source": [
    "# Saving feature names for later use\n",
    "data199_list = list(data199.columns)\n",
    "# Convert to numpy array\n",
    "data199 = np.array(data199)"
   ]
  },
  {
   "cell_type": "code",
   "execution_count": 172,
   "metadata": {},
   "outputs": [],
   "source": [
    "train_data199, test_data199, train_labels, test_labels = train_test_split(data199, labels, test_size = 0.20, random_state = 42)"
   ]
  },
  {
   "cell_type": "code",
   "execution_count": 173,
   "metadata": {},
   "outputs": [
    {
     "data": {
      "text/plain": [
       "array([[ 458,  627,   31,  199,    1],\n",
       "       [2623, 4287,  681,  199,    1],\n",
       "       [1418, 2176,  306,  199,    1],\n",
       "       [2962, 4966, 1032,  199,    4],\n",
       "       [1052, 1575,  223,  199,    1],\n",
       "       [2373, 3770,  574,  199,    1],\n",
       "       [ 755, 1071,  187,  199,    1],\n",
       "       [2741, 4462,  702,  199,    1],\n",
       "       [ 185,  251,   10,  199,    1],\n",
       "       [2911, 4860,  761,  199,    3],\n",
       "       [1991, 3064,  402,  199,    1],\n",
       "       [2824, 4616,  729,  199,    3],\n",
       "       [3106, 5123, 1056,  199,    3],\n",
       "       [1888, 2922,  389,  199,    1],\n",
       "       [ 242,  331,   16,  199,    1],\n",
       "       [1212, 1856,  256,  199,    1],\n",
       "       [2537, 4098,  630,  199,    1],\n",
       "       [ 295,  399,   19,  199,    1],\n",
       "       [2588, 4236,  675,  199,    1],\n",
       "       [1536, 2349,  324,  199,    1],\n",
       "       [1243, 1911,  260,  199,    1],\n",
       "       [ 979, 1461,  215,  199,    1],\n",
       "       [2169, 3385,  489,  199,    1],\n",
       "       [1727, 2692,  354,  199,    1],\n",
       "       [1723, 2685,  353,  199,    1],\n",
       "       [2050, 3151,  476,  199,    1],\n",
       "       [ 402,  554,   28,  199,    1],\n",
       "       [1879, 2899,  385,  199,    1],\n",
       "       [ 247,  338,   16,  199,    1],\n",
       "       [2637, 4302,  684,  199,    1],\n",
       "       [2870, 4703,  742,  199,    3],\n",
       "       [1166, 1768,  237,  199,    1],\n",
       "       [1617, 2507,  336,  199,    1],\n",
       "       [1149, 1739,  235,  199,    1],\n",
       "       [1683, 2628,  347,  199,    1],\n",
       "       [1961, 3024,  397,  199,    1],\n",
       "       [2712, 4427,  700,  199,    1],\n",
       "       [1561, 2419,  329,  199,    1],\n",
       "       [1378, 2124,  302,  199,    1],\n",
       "       [2442, 3914,  594,  199,    1],\n",
       "       [2914, 4874,  764,  199,    3],\n",
       "       [2486, 3999,  602,  199,    1]])"
      ]
     },
     "execution_count": 173,
     "metadata": {},
     "output_type": "execute_result"
    }
   ],
   "source": [
    "test_data199"
   ]
  },
  {
   "cell_type": "code",
   "execution_count": 181,
   "metadata": {},
   "outputs": [],
   "source": [
    "pd.DataFrame(test_data199).to_csv(\"test_data199.csv\")"
   ]
  },
  {
   "cell_type": "code",
   "execution_count": 190,
   "metadata": {},
   "outputs": [],
   "source": [
    "testtry_data199 = pd.read_csv(\"testtry_data199.csv\")"
   ]
  },
  {
   "cell_type": "code",
   "execution_count": 191,
   "metadata": {},
   "outputs": [
    {
     "data": {
      "text/html": [
       "<div>\n",
       "<style scoped>\n",
       "    .dataframe tbody tr th:only-of-type {\n",
       "        vertical-align: middle;\n",
       "    }\n",
       "\n",
       "    .dataframe tbody tr th {\n",
       "        vertical-align: top;\n",
       "    }\n",
       "\n",
       "    .dataframe thead th {\n",
       "        text-align: right;\n",
       "    }\n",
       "</style>\n",
       "<table border=\"1\" class=\"dataframe\">\n",
       "  <thead>\n",
       "    <tr style=\"text-align: right;\">\n",
       "      <th></th>\n",
       "      <th>Unnamed: 0</th>\n",
       "      <th>0</th>\n",
       "      <th>1</th>\n",
       "      <th>2</th>\n",
       "      <th>3</th>\n",
       "      <th>4</th>\n",
       "    </tr>\n",
       "  </thead>\n",
       "  <tbody>\n",
       "    <tr>\n",
       "      <th>0</th>\n",
       "      <td>0</td>\n",
       "      <td>458</td>\n",
       "      <td>627</td>\n",
       "      <td>1060</td>\n",
       "      <td>199</td>\n",
       "      <td>1</td>\n",
       "    </tr>\n",
       "    <tr>\n",
       "      <th>1</th>\n",
       "      <td>1</td>\n",
       "      <td>2623</td>\n",
       "      <td>4287</td>\n",
       "      <td>1061</td>\n",
       "      <td>199</td>\n",
       "      <td>2</td>\n",
       "    </tr>\n",
       "    <tr>\n",
       "      <th>2</th>\n",
       "      <td>2</td>\n",
       "      <td>1418</td>\n",
       "      <td>2176</td>\n",
       "      <td>1062</td>\n",
       "      <td>199</td>\n",
       "      <td>3</td>\n",
       "    </tr>\n",
       "    <tr>\n",
       "      <th>3</th>\n",
       "      <td>3</td>\n",
       "      <td>2962</td>\n",
       "      <td>4966</td>\n",
       "      <td>1063</td>\n",
       "      <td>199</td>\n",
       "      <td>4</td>\n",
       "    </tr>\n",
       "    <tr>\n",
       "      <th>4</th>\n",
       "      <td>4</td>\n",
       "      <td>1052</td>\n",
       "      <td>1575</td>\n",
       "      <td>1064</td>\n",
       "      <td>199</td>\n",
       "      <td>1</td>\n",
       "    </tr>\n",
       "  </tbody>\n",
       "</table>\n",
       "</div>"
      ],
      "text/plain": [
       "   Unnamed: 0     0     1     2    3  4\n",
       "0           0   458   627  1060  199  1\n",
       "1           1  2623  4287  1061  199  2\n",
       "2           2  1418  2176  1062  199  3\n",
       "3           3  2962  4966  1063  199  4\n",
       "4           4  1052  1575  1064  199  1"
      ]
     },
     "execution_count": 191,
     "metadata": {},
     "output_type": "execute_result"
    }
   ],
   "source": [
    "testtry_data199.head(5)"
   ]
  },
  {
   "cell_type": "code",
   "execution_count": 192,
   "metadata": {},
   "outputs": [],
   "source": [
    "testtry_data199.drop(testtry_data199.columns[[0]], axis=1, inplace=True)"
   ]
  },
  {
   "cell_type": "code",
   "execution_count": 193,
   "metadata": {},
   "outputs": [],
   "source": [
    "testtry_data199 = np.array(testtry_data199)"
   ]
  },
  {
   "cell_type": "code",
   "execution_count": 194,
   "metadata": {},
   "outputs": [
    {
     "name": "stdout",
     "output_type": "stream",
     "text": [
      "Testing testtry data199 Shape: (42, 5)\n"
     ]
    }
   ],
   "source": [
    "print('Testing testtry data199 Shape:', testtry_data199.shape)"
   ]
  },
  {
   "cell_type": "code",
   "execution_count": null,
   "metadata": {},
   "outputs": [],
   "source": []
  },
  {
   "cell_type": "code",
   "execution_count": 174,
   "metadata": {},
   "outputs": [
    {
     "name": "stdout",
     "output_type": "stream",
     "text": [
      "Training data199 Shape: (168, 5)\n",
      "Training Labels Shape: (168,)\n",
      "Testing data199 Shape: (42, 5)\n",
      "Testing Labels Shape: (42,)\n"
     ]
    }
   ],
   "source": [
    "print('Training data199 Shape:', train_data199.shape)\n",
    "print('Training Labels Shape:', train_labels.shape)\n",
    "print('Testing data199 Shape:', test_data199.shape)\n",
    "print('Testing Labels Shape:', test_labels.shape)"
   ]
  },
  {
   "cell_type": "code",
   "execution_count": 175,
   "metadata": {},
   "outputs": [],
   "source": [
    "rf = RandomForestRegressor(n_estimators = 1000, random_state = 42)"
   ]
  },
  {
   "cell_type": "code",
   "execution_count": 176,
   "metadata": {},
   "outputs": [],
   "source": [
    "rf.fit(train_data199, train_labels);"
   ]
  },
  {
   "cell_type": "code",
   "execution_count": 177,
   "metadata": {},
   "outputs": [],
   "source": [
    "predictions = rf.predict(test_data199)"
   ]
  },
  {
   "cell_type": "code",
   "execution_count": 178,
   "metadata": {},
   "outputs": [
    {
     "data": {
      "text/plain": [
       "array([ 5.282 ,  2.4773,  6.3191,  5.2034,  2.7593,  3.5866,  4.0415,\n",
       "        2.38  ,  2.608 ,  3.8065,  3.9581,  6.2338,  2.0045,  2.3971,\n",
       "        2.5867,  2.3665,  6.4666,  2.8168,  2.3561,  2.9548,  3.0609,\n",
       "       10.3116,  3.4337,  1.2756,  1.2498,  3.9763,  5.7724,  2.221 ,\n",
       "        2.5869,  1.5984,  3.3681,  7.1339,  4.3107,  5.068 ,  3.4941,\n",
       "        4.5911,  3.0097,  4.5956,  8.3293,  3.6642,  3.8617,  5.5018])"
      ]
     },
     "execution_count": 178,
     "metadata": {},
     "output_type": "execute_result"
    }
   ],
   "source": [
    "predictions"
   ]
  },
  {
   "cell_type": "code",
   "execution_count": 144,
   "metadata": {},
   "outputs": [
    {
     "data": {
      "text/plain": [
       "3.9290357142857126"
      ]
     },
     "execution_count": 144,
     "metadata": {},
     "output_type": "execute_result"
    }
   ],
   "source": [
    "np.mean(predictions)"
   ]
  },
  {
   "cell_type": "code",
   "execution_count": 143,
   "metadata": {},
   "outputs": [],
   "source": [
    "x = abs(predictions - test_labels)"
   ]
  },
  {
   "cell_type": "code",
   "execution_count": 132,
   "metadata": {},
   "outputs": [],
   "source": [
    "errors = abs(predictions - test_labels)"
   ]
  },
  {
   "cell_type": "code",
   "execution_count": 133,
   "metadata": {},
   "outputs": [
    {
     "name": "stdout",
     "output_type": "stream",
     "text": [
      "Mean Absolute Error: 1.89 degrees.\n"
     ]
    }
   ],
   "source": [
    "print('Mean Absolute Error:', round(np.mean(errors), 2), 'degrees.')"
   ]
  },
  {
   "cell_type": "code",
   "execution_count": 135,
   "metadata": {},
   "outputs": [
    {
     "data": {
      "text/plain": [
       "array([0.718 , 0.1227, 1.7809, 2.2034, 1.4593, 0.3866, 2.2415, 1.48  ,\n",
       "       0.608 , 2.1935, 0.1419, 2.5662, 2.7955, 0.1029, 0.5867, 0.3665,\n",
       "       6.0666, 0.8168, 0.3561, 1.9548, 1.4609, 8.5116, 3.5663, 2.3244,\n",
       "       6.7502, 0.1763, 1.2724, 0.521 , 2.4131, 0.8016, 1.3681, 1.8661,\n",
       "       0.6893, 2.768 , 2.5059, 1.5911, 0.9903, 2.7956, 0.6707, 1.3358,\n",
       "       1.1383, 5.0018])"
      ]
     },
     "execution_count": 135,
     "metadata": {},
     "output_type": "execute_result"
    }
   ],
   "source": [
    "errors"
   ]
  },
  {
   "cell_type": "code",
   "execution_count": 136,
   "metadata": {},
   "outputs": [],
   "source": [
    "# Calculate mean absolute percentage error (MAPE)\n",
    "mape = 100 * (errors / test_labels)\n"
   ]
  },
  {
   "cell_type": "code",
   "execution_count": 139,
   "metadata": {},
   "outputs": [
    {
     "data": {
      "text/plain": [
       "118.34580102213559"
      ]
     },
     "execution_count": 139,
     "metadata": {},
     "output_type": "execute_result"
    }
   ],
   "source": [
    "np.mean(mape)"
   ]
  },
  {
   "cell_type": "code",
   "execution_count": 145,
   "metadata": {},
   "outputs": [
    {
     "name": "stdout",
     "output_type": "stream",
     "text": [
      "Accuracy: -18.35 %.\n"
     ]
    }
   ],
   "source": [
    "# Calculate and display accuracy\n",
    "accuracy = 100 - np.mean(mape)\n",
    "print('Accuracy:', round(accuracy, 2), '%.')"
   ]
  },
  {
   "cell_type": "code",
   "execution_count": 146,
   "metadata": {},
   "outputs": [
    {
     "data": {
      "text/html": [
       "<div>\n",
       "<style scoped>\n",
       "    .dataframe tbody tr th:only-of-type {\n",
       "        vertical-align: middle;\n",
       "    }\n",
       "\n",
       "    .dataframe tbody tr th {\n",
       "        vertical-align: top;\n",
       "    }\n",
       "\n",
       "    .dataframe thead th {\n",
       "        text-align: right;\n",
       "    }\n",
       "</style>\n",
       "<table border=\"1\" class=\"dataframe\">\n",
       "  <thead>\n",
       "    <tr style=\"text-align: right;\">\n",
       "      <th></th>\n",
       "      <th>Unnamed: 0</th>\n",
       "      <th>X.1</th>\n",
       "      <th>X</th>\n",
       "      <th>mealtype</th>\n",
       "      <th>quantity</th>\n",
       "      <th>datesort</th>\n",
       "      <th>itemid</th>\n",
       "      <th>mealtypeid</th>\n",
       "    </tr>\n",
       "  </thead>\n",
       "  <tbody>\n",
       "    <tr>\n",
       "      <th>count</th>\n",
       "      <td>31.000000</td>\n",
       "      <td>31.000000</td>\n",
       "      <td>31.000000</td>\n",
       "      <td>0.0</td>\n",
       "      <td>31.000000</td>\n",
       "      <td>31.000000</td>\n",
       "      <td>31.0</td>\n",
       "      <td>31.000000</td>\n",
       "    </tr>\n",
       "    <tr>\n",
       "      <th>mean</th>\n",
       "      <td>70.774194</td>\n",
       "      <td>1121.677419</td>\n",
       "      <td>1702.774194</td>\n",
       "      <td>NaN</td>\n",
       "      <td>4.103226</td>\n",
       "      <td>1075.000000</td>\n",
       "      <td>199.0</td>\n",
       "      <td>1.193548</td>\n",
       "    </tr>\n",
       "    <tr>\n",
       "      <th>std</th>\n",
       "      <td>40.921640</td>\n",
       "      <td>619.353985</td>\n",
       "      <td>980.085905</td>\n",
       "      <td>NaN</td>\n",
       "      <td>2.469748</td>\n",
       "      <td>9.092121</td>\n",
       "      <td>0.0</td>\n",
       "      <td>0.654184</td>\n",
       "    </tr>\n",
       "    <tr>\n",
       "      <th>min</th>\n",
       "      <td>4.000000</td>\n",
       "      <td>52.000000</td>\n",
       "      <td>82.000000</td>\n",
       "      <td>NaN</td>\n",
       "      <td>0.400000</td>\n",
       "      <td>1060.000000</td>\n",
       "      <td>199.0</td>\n",
       "      <td>1.000000</td>\n",
       "    </tr>\n",
       "    <tr>\n",
       "      <th>25%</th>\n",
       "      <td>37.000000</td>\n",
       "      <td>592.500000</td>\n",
       "      <td>831.000000</td>\n",
       "      <td>NaN</td>\n",
       "      <td>2.000000</td>\n",
       "      <td>1067.500000</td>\n",
       "      <td>199.0</td>\n",
       "      <td>1.000000</td>\n",
       "    </tr>\n",
       "    <tr>\n",
       "      <th>50%</th>\n",
       "      <td>70.000000</td>\n",
       "      <td>1166.000000</td>\n",
       "      <td>1768.000000</td>\n",
       "      <td>NaN</td>\n",
       "      <td>3.400000</td>\n",
       "      <td>1075.000000</td>\n",
       "      <td>199.0</td>\n",
       "      <td>1.000000</td>\n",
       "    </tr>\n",
       "    <tr>\n",
       "      <th>75%</th>\n",
       "      <td>104.500000</td>\n",
       "      <td>1673.000000</td>\n",
       "      <td>2611.000000</td>\n",
       "      <td>NaN</td>\n",
       "      <td>6.050000</td>\n",
       "      <td>1082.500000</td>\n",
       "      <td>199.0</td>\n",
       "      <td>1.000000</td>\n",
       "    </tr>\n",
       "    <tr>\n",
       "      <th>max</th>\n",
       "      <td>139.000000</td>\n",
       "      <td>2014.000000</td>\n",
       "      <td>3089.000000</td>\n",
       "      <td>NaN</td>\n",
       "      <td>9.000000</td>\n",
       "      <td>1090.000000</td>\n",
       "      <td>199.0</td>\n",
       "      <td>4.000000</td>\n",
       "    </tr>\n",
       "  </tbody>\n",
       "</table>\n",
       "</div>"
      ],
      "text/plain": [
       "       Unnamed: 0          X.1            X  mealtype   quantity     datesort  \\\n",
       "count   31.000000    31.000000    31.000000       0.0  31.000000    31.000000   \n",
       "mean    70.774194  1121.677419  1702.774194       NaN   4.103226  1075.000000   \n",
       "std     40.921640   619.353985   980.085905       NaN   2.469748     9.092121   \n",
       "min      4.000000    52.000000    82.000000       NaN   0.400000  1060.000000   \n",
       "25%     37.000000   592.500000   831.000000       NaN   2.000000  1067.500000   \n",
       "50%     70.000000  1166.000000  1768.000000       NaN   3.400000  1075.000000   \n",
       "75%    104.500000  1673.000000  2611.000000       NaN   6.050000  1082.500000   \n",
       "max    139.000000  2014.000000  3089.000000       NaN   9.000000  1090.000000   \n",
       "\n",
       "       itemid  mealtypeid  \n",
       "count    31.0   31.000000  \n",
       "mean    199.0    1.193548  \n",
       "std       0.0    0.654184  \n",
       "min     199.0    1.000000  \n",
       "25%     199.0    1.000000  \n",
       "50%     199.0    1.000000  \n",
       "75%     199.0    1.000000  \n",
       "max     199.0    4.000000  "
      ]
     },
     "execution_count": 146,
     "metadata": {},
     "output_type": "execute_result"
    }
   ],
   "source": [
    "testtry199.describe()"
   ]
  },
  {
   "cell_type": "code",
   "execution_count": 195,
   "metadata": {},
   "outputs": [],
   "source": [
    "trypredictions = rf.predict(testtry_data199)"
   ]
  },
  {
   "cell_type": "code",
   "execution_count": 196,
   "metadata": {},
   "outputs": [
    {
     "data": {
      "text/plain": [
       "array([5.0919, 2.9117, 5.1523, 4.8941, 4.4771, 4.0684, 4.7785, 2.8905,\n",
       "       3.952 , 3.2552, 3.7732, 3.8426, 1.9041, 3.6094, 4.044 , 4.3167,\n",
       "       4.8781, 4.0878, 2.8265, 4.1159, 4.4322, 6.7123, 3.9256, 3.4809,\n",
       "       3.4489, 3.7958, 5.1833, 3.5285, 4.044 , 2.7134, 2.9705, 5.3172,\n",
       "       4.163 , 4.9007, 3.8162, 4.7696, 3.1449, 4.5726, 5.9289, 4.0911,\n",
       "       3.6409, 4.5454])"
      ]
     },
     "execution_count": 196,
     "metadata": {},
     "output_type": "execute_result"
    }
   ],
   "source": [
    "trypredictions"
   ]
  },
  {
   "cell_type": "code",
   "execution_count": null,
   "metadata": {},
   "outputs": [],
   "source": []
  }
 ],
 "metadata": {
  "kernelspec": {
   "display_name": "Python 3",
   "language": "python",
   "name": "python3"
  },
  "language_info": {
   "codemirror_mode": {
    "name": "ipython",
    "version": 3
   },
   "file_extension": ".py",
   "mimetype": "text/x-python",
   "name": "python",
   "nbconvert_exporter": "python",
   "pygments_lexer": "ipython3",
   "version": "3.6.5"
  }
 },
 "nbformat": 4,
 "nbformat_minor": 2
}
